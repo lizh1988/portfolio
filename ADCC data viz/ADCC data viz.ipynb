{
 "cells": [
  {
   "cell_type": "code",
   "execution_count": 21,
   "metadata": {},
   "outputs": [
    {
     "ename": "NameError",
     "evalue": "name 'warnings' is not defined",
     "output_type": "error",
     "traceback": [
      "\u001b[1;31m---------------------------------------------------------------------------\u001b[0m",
      "\u001b[1;31mNameError\u001b[0m                                 Traceback (most recent call last)",
      "Cell \u001b[1;32mIn[21], line 5\u001b[0m\n\u001b[0;32m      3\u001b[0m \u001b[39mimport\u001b[39;00m \u001b[39mseaborn\u001b[39;00m \u001b[39mas\u001b[39;00m \u001b[39msns\u001b[39;00m\n\u001b[0;32m      4\u001b[0m \u001b[39mimport\u001b[39;00m \u001b[39mplotly\u001b[39;00m\u001b[39m.\u001b[39;00m\u001b[39mexpress\u001b[39;00m \u001b[39mas\u001b[39;00m \u001b[39mpx\u001b[39;00m\n\u001b[1;32m----> 5\u001b[0m warnings\u001b[39m.\u001b[39msimplefilter(action\u001b[39m=\u001b[39m\u001b[39m'\u001b[39m\u001b[39mignore\u001b[39m\u001b[39m'\u001b[39m, category\u001b[39m=\u001b[39m\u001b[39mFutureWarning\u001b[39;00m)\n",
      "\u001b[1;31mNameError\u001b[0m: name 'warnings' is not defined"
     ]
    }
   ],
   "source": [
    "import pandas as pd \n",
    "import numpy as np \n",
    "import seaborn as sns\n",
    "import plotly.express as px\n",
    "\n",
    " "
   ]
  },
  {
   "cell_type": "markdown",
   "metadata": {},
   "source": [
    "### **Background info**\n",
    "\n",
    "**Brazilian Jiu-Jitsu (BJJ)** is a martial art that focuses on wrestling or throwing an opponent to the ground. While on the ground, the athlete aims to achieve a submission victory. A submission victory occurs when an athlete puts his opponent into a joint lock or a choke, and the submitted opponent signals defeat by *tapping on his opponent or the mat.*\n",
    "\n",
    "[![BJJ match](https://upload.wikimedia.org/wikipedia/commons/2/22/GABRIEL_VELLA_vs_ROMINHO_51.jpg \"The athlete on the bottom has caught his opponent in a choke, click for more info\")](https://en.wikipedia.org/wiki/Brazilian_jiu-jitsu)\n",
    "\n",
    "This data visualization aims to perform a data analysis to find the most common types of submissions that occurs in one of the most popular BJJ competitions, the *Abu-Dhabi Combat Club Submission Fighting World Championship (ADCC).*\n",
    "\n",
    "This data analysis will be useful to anyone practicing BJJ as it will help them understand which are the most common submissions that are succesful in the sport. They can then focus their efforts on learning these submissions. \n",
    "\n",
    "A separate app was built to present the data in an easy-to-understand and engaging way."
   ]
  },
  {
   "cell_type": "markdown",
   "metadata": {},
   "source": [
    "### Data source\n",
    "The raw CSV file was obtained from Kaggle.com\n",
    "\n",
    "https://www.kaggle.com/datasets/bjagrelli/adcc-historical-dataset\n",
    "\n",
    "Now we have to clean the data and prepare it."
   ]
  },
  {
   "cell_type": "code",
   "execution_count": 2,
   "metadata": {},
   "outputs": [],
   "source": [
    "df = pd.read_csv(r'C:\\Users\\lizhi\\OneDrive\\Desktop\\Portfolio\\ADCC data viz\\adcc_historical_data.csv', sep = ';')"
   ]
  },
  {
   "cell_type": "markdown",
   "metadata": {},
   "source": [
    "The dataframe should first be checked to ensure that it read the CSV file correctly."
   ]
  },
  {
   "cell_type": "code",
   "execution_count": 3,
   "metadata": {},
   "outputs": [
    {
     "data": {
      "text/html": [
       "<div>\n",
       "<style scoped>\n",
       "    .dataframe tbody tr th:only-of-type {\n",
       "        vertical-align: middle;\n",
       "    }\n",
       "\n",
       "    .dataframe tbody tr th {\n",
       "        vertical-align: top;\n",
       "    }\n",
       "\n",
       "    .dataframe thead th {\n",
       "        text-align: right;\n",
       "    }\n",
       "</style>\n",
       "<table border=\"1\" class=\"dataframe\">\n",
       "  <thead>\n",
       "    <tr style=\"text-align: right;\">\n",
       "      <th></th>\n",
       "      <th>match_id</th>\n",
       "      <th>winner_id</th>\n",
       "      <th>winner_name</th>\n",
       "      <th>loser_id</th>\n",
       "      <th>loser_name</th>\n",
       "      <th>win_type</th>\n",
       "      <th>submission</th>\n",
       "      <th>winner_points</th>\n",
       "      <th>loser_points</th>\n",
       "      <th>adv_pen</th>\n",
       "      <th>weight_class</th>\n",
       "      <th>sex</th>\n",
       "      <th>stage</th>\n",
       "      <th>year</th>\n",
       "    </tr>\n",
       "  </thead>\n",
       "  <tbody>\n",
       "    <tr>\n",
       "      <th>0</th>\n",
       "      <td>3314</td>\n",
       "      <td>484</td>\n",
       "      <td>Murilo Santana</td>\n",
       "      <td>733</td>\n",
       "      <td>Vinicius Magalhaes</td>\n",
       "      <td>DECISION</td>\n",
       "      <td>NaN</td>\n",
       "      <td>-1</td>\n",
       "      <td>-1</td>\n",
       "      <td>NaN</td>\n",
       "      <td>ABS</td>\n",
       "      <td>M</td>\n",
       "      <td>4F</td>\n",
       "      <td>2011</td>\n",
       "    </tr>\n",
       "    <tr>\n",
       "      <th>1</th>\n",
       "      <td>35049</td>\n",
       "      <td>7507</td>\n",
       "      <td>Nicholas Meregali</td>\n",
       "      <td>9554</td>\n",
       "      <td>Henrique Cardoso</td>\n",
       "      <td>SUBMISSION</td>\n",
       "      <td>Kimura</td>\n",
       "      <td>-1</td>\n",
       "      <td>-1</td>\n",
       "      <td>NaN</td>\n",
       "      <td>99KG</td>\n",
       "      <td>M</td>\n",
       "      <td>R1</td>\n",
       "      <td>2022</td>\n",
       "    </tr>\n",
       "    <tr>\n",
       "      <th>2</th>\n",
       "      <td>35053</td>\n",
       "      <td>7507</td>\n",
       "      <td>Nicholas Meregali</td>\n",
       "      <td>1740</td>\n",
       "      <td>Yuri Simoes</td>\n",
       "      <td>DECISION</td>\n",
       "      <td>NaN</td>\n",
       "      <td>-1</td>\n",
       "      <td>-1</td>\n",
       "      <td>NaN</td>\n",
       "      <td>99KG</td>\n",
       "      <td>M</td>\n",
       "      <td>4F</td>\n",
       "      <td>2022</td>\n",
       "    </tr>\n",
       "    <tr>\n",
       "      <th>3</th>\n",
       "      <td>35057</td>\n",
       "      <td>7507</td>\n",
       "      <td>Nicholas Meregali</td>\n",
       "      <td>576</td>\n",
       "      <td>Rafael Lovato Jr</td>\n",
       "      <td>POINTS</td>\n",
       "      <td>NaN</td>\n",
       "      <td>0</td>\n",
       "      <td>0</td>\n",
       "      <td>PEN</td>\n",
       "      <td>99KG</td>\n",
       "      <td>M</td>\n",
       "      <td>3RD</td>\n",
       "      <td>2022</td>\n",
       "    </tr>\n",
       "    <tr>\n",
       "      <th>4</th>\n",
       "      <td>35096</td>\n",
       "      <td>7507</td>\n",
       "      <td>Nicholas Meregali</td>\n",
       "      <td>11797</td>\n",
       "      <td>Giancarlo Bodoni</td>\n",
       "      <td>POINTS</td>\n",
       "      <td>NaN</td>\n",
       "      <td>6</td>\n",
       "      <td>2</td>\n",
       "      <td>NaN</td>\n",
       "      <td>ABS</td>\n",
       "      <td>M</td>\n",
       "      <td>4F</td>\n",
       "      <td>2022</td>\n",
       "    </tr>\n",
       "    <tr>\n",
       "      <th>5</th>\n",
       "      <td>35100</td>\n",
       "      <td>7507</td>\n",
       "      <td>Nicholas Meregali</td>\n",
       "      <td>12003</td>\n",
       "      <td>Tye Ruotolo</td>\n",
       "      <td>DECISION</td>\n",
       "      <td>NaN</td>\n",
       "      <td>-1</td>\n",
       "      <td>-1</td>\n",
       "      <td>NaN</td>\n",
       "      <td>ABS</td>\n",
       "      <td>M</td>\n",
       "      <td>SF</td>\n",
       "      <td>2022</td>\n",
       "    </tr>\n",
       "    <tr>\n",
       "      <th>6</th>\n",
       "      <td>21816</td>\n",
       "      <td>12110</td>\n",
       "      <td>Nick Rodriguez</td>\n",
       "      <td>5842</td>\n",
       "      <td>Mahamed Aly</td>\n",
       "      <td>DECISION</td>\n",
       "      <td>NaN</td>\n",
       "      <td>-1</td>\n",
       "      <td>-1</td>\n",
       "      <td>NaN</td>\n",
       "      <td>+99KG</td>\n",
       "      <td>M</td>\n",
       "      <td>R1</td>\n",
       "      <td>2019</td>\n",
       "    </tr>\n",
       "    <tr>\n",
       "      <th>7</th>\n",
       "      <td>21822</td>\n",
       "      <td>12110</td>\n",
       "      <td>Nick Rodriguez</td>\n",
       "      <td>2452</td>\n",
       "      <td>Orlando Sanchez</td>\n",
       "      <td>POINTS</td>\n",
       "      <td>NaN</td>\n",
       "      <td>0</td>\n",
       "      <td>0</td>\n",
       "      <td>PEN</td>\n",
       "      <td>+99KG</td>\n",
       "      <td>M</td>\n",
       "      <td>4F</td>\n",
       "      <td>2019</td>\n",
       "    </tr>\n",
       "    <tr>\n",
       "      <th>8</th>\n",
       "      <td>21883</td>\n",
       "      <td>12110</td>\n",
       "      <td>Nick Rodriguez</td>\n",
       "      <td>224</td>\n",
       "      <td>Roberto Abreu</td>\n",
       "      <td>DECISION</td>\n",
       "      <td>NaN</td>\n",
       "      <td>-1</td>\n",
       "      <td>-1</td>\n",
       "      <td>NaN</td>\n",
       "      <td>+99KG</td>\n",
       "      <td>M</td>\n",
       "      <td>SF</td>\n",
       "      <td>2019</td>\n",
       "    </tr>\n",
       "    <tr>\n",
       "      <th>9</th>\n",
       "      <td>35071</td>\n",
       "      <td>12110</td>\n",
       "      <td>Nick Rodriguez</td>\n",
       "      <td>2416</td>\n",
       "      <td>Felipe Pena</td>\n",
       "      <td>POINTS</td>\n",
       "      <td>NaN</td>\n",
       "      <td>3</td>\n",
       "      <td>0</td>\n",
       "      <td>NaN</td>\n",
       "      <td>+99KG</td>\n",
       "      <td>M</td>\n",
       "      <td>SF</td>\n",
       "      <td>2022</td>\n",
       "    </tr>\n",
       "    <tr>\n",
       "      <th>10</th>\n",
       "      <td>35088</td>\n",
       "      <td>12110</td>\n",
       "      <td>Nick Rodriguez</td>\n",
       "      <td>12703</td>\n",
       "      <td>Andy Varela</td>\n",
       "      <td>POINTS</td>\n",
       "      <td>NaN</td>\n",
       "      <td>17</td>\n",
       "      <td>0</td>\n",
       "      <td>NaN</td>\n",
       "      <td>ABS</td>\n",
       "      <td>M</td>\n",
       "      <td>8F</td>\n",
       "      <td>2022</td>\n",
       "    </tr>\n",
       "    <tr>\n",
       "      <th>11</th>\n",
       "      <td>5004</td>\n",
       "      <td>2107</td>\n",
       "      <td>Otavio Sousa</td>\n",
       "      <td>419</td>\n",
       "      <td>Leonardo Vieira</td>\n",
       "      <td>POINTS</td>\n",
       "      <td>NaN</td>\n",
       "      <td>-1</td>\n",
       "      <td>-1</td>\n",
       "      <td>NaN</td>\n",
       "      <td>77KG</td>\n",
       "      <td>M</td>\n",
       "      <td>SF</td>\n",
       "      <td>2013</td>\n",
       "    </tr>\n",
       "    <tr>\n",
       "      <th>12</th>\n",
       "      <td>7948</td>\n",
       "      <td>2107</td>\n",
       "      <td>Otavio Sousa</td>\n",
       "      <td>8394</td>\n",
       "      <td>Vagner Rocha</td>\n",
       "      <td>DECISION</td>\n",
       "      <td>NaN</td>\n",
       "      <td>-1</td>\n",
       "      <td>-1</td>\n",
       "      <td>NaN</td>\n",
       "      <td>77KG</td>\n",
       "      <td>M</td>\n",
       "      <td>4F</td>\n",
       "      <td>2015</td>\n",
       "    </tr>\n",
       "    <tr>\n",
       "      <th>13</th>\n",
       "      <td>7902</td>\n",
       "      <td>2452</td>\n",
       "      <td>Orlando Sanchez</td>\n",
       "      <td>1369</td>\n",
       "      <td>Dean Lister</td>\n",
       "      <td>DECISION</td>\n",
       "      <td>NaN</td>\n",
       "      <td>-1</td>\n",
       "      <td>-1</td>\n",
       "      <td>NaN</td>\n",
       "      <td>+99KG</td>\n",
       "      <td>M</td>\n",
       "      <td>4F</td>\n",
       "      <td>2015</td>\n",
       "    </tr>\n",
       "    <tr>\n",
       "      <th>14</th>\n",
       "      <td>7905</td>\n",
       "      <td>2452</td>\n",
       "      <td>Orlando Sanchez</td>\n",
       "      <td>733</td>\n",
       "      <td>Vinicius Magalhaes</td>\n",
       "      <td>DECISION</td>\n",
       "      <td>NaN</td>\n",
       "      <td>-1</td>\n",
       "      <td>-1</td>\n",
       "      <td>NaN</td>\n",
       "      <td>+99KG</td>\n",
       "      <td>M</td>\n",
       "      <td>SF</td>\n",
       "      <td>2015</td>\n",
       "    </tr>\n",
       "  </tbody>\n",
       "</table>\n",
       "</div>"
      ],
      "text/plain": [
       "    match_id  winner_id        winner_name  loser_id          loser_name  \\\n",
       "0       3314        484     Murilo Santana       733  Vinicius Magalhaes   \n",
       "1      35049       7507  Nicholas Meregali      9554    Henrique Cardoso   \n",
       "2      35053       7507  Nicholas Meregali      1740         Yuri Simoes   \n",
       "3      35057       7507  Nicholas Meregali       576    Rafael Lovato Jr   \n",
       "4      35096       7507  Nicholas Meregali     11797    Giancarlo Bodoni   \n",
       "5      35100       7507  Nicholas Meregali     12003         Tye Ruotolo   \n",
       "6      21816      12110     Nick Rodriguez      5842         Mahamed Aly   \n",
       "7      21822      12110     Nick Rodriguez      2452     Orlando Sanchez   \n",
       "8      21883      12110     Nick Rodriguez       224       Roberto Abreu   \n",
       "9      35071      12110     Nick Rodriguez      2416         Felipe Pena   \n",
       "10     35088      12110     Nick Rodriguez     12703         Andy Varela   \n",
       "11      5004       2107       Otavio Sousa       419     Leonardo Vieira   \n",
       "12      7948       2107       Otavio Sousa      8394        Vagner Rocha   \n",
       "13      7902       2452    Orlando Sanchez      1369         Dean Lister   \n",
       "14      7905       2452    Orlando Sanchez       733  Vinicius Magalhaes   \n",
       "\n",
       "      win_type submission  winner_points  loser_points adv_pen weight_class  \\\n",
       "0     DECISION        NaN             -1            -1     NaN          ABS   \n",
       "1   SUBMISSION     Kimura             -1            -1     NaN         99KG   \n",
       "2     DECISION        NaN             -1            -1     NaN         99KG   \n",
       "3       POINTS        NaN              0             0     PEN         99KG   \n",
       "4       POINTS        NaN              6             2     NaN          ABS   \n",
       "5     DECISION        NaN             -1            -1     NaN          ABS   \n",
       "6     DECISION        NaN             -1            -1     NaN        +99KG   \n",
       "7       POINTS        NaN              0             0     PEN        +99KG   \n",
       "8     DECISION        NaN             -1            -1     NaN        +99KG   \n",
       "9       POINTS        NaN              3             0     NaN        +99KG   \n",
       "10      POINTS        NaN             17             0     NaN          ABS   \n",
       "11      POINTS        NaN             -1            -1     NaN         77KG   \n",
       "12    DECISION        NaN             -1            -1     NaN         77KG   \n",
       "13    DECISION        NaN             -1            -1     NaN        +99KG   \n",
       "14    DECISION        NaN             -1            -1     NaN        +99KG   \n",
       "\n",
       "   sex stage  year  \n",
       "0    M    4F  2011  \n",
       "1    M    R1  2022  \n",
       "2    M    4F  2022  \n",
       "3    M   3RD  2022  \n",
       "4    M    4F  2022  \n",
       "5    M    SF  2022  \n",
       "6    M    R1  2019  \n",
       "7    M    4F  2019  \n",
       "8    M    SF  2019  \n",
       "9    M    SF  2022  \n",
       "10   M    8F  2022  \n",
       "11   M    SF  2013  \n",
       "12   M    4F  2015  \n",
       "13   M    4F  2015  \n",
       "14   M    SF  2015  "
      ]
     },
     "execution_count": 3,
     "metadata": {},
     "output_type": "execute_result"
    }
   ],
   "source": [
    "df.head(15)"
   ]
  },
  {
   "cell_type": "markdown",
   "metadata": {},
   "source": [
    "The match_id, winner_id, loser_id, winner_name and loser_name will be dropped from the dataframe as we would assign equal weightage to all matches (i.e. the superstars' matches will be treated the same as lesser known athletes)."
   ]
  },
  {
   "cell_type": "code",
   "execution_count": 4,
   "metadata": {},
   "outputs": [
    {
     "data": {
      "text/html": [
       "<div>\n",
       "<style scoped>\n",
       "    .dataframe tbody tr th:only-of-type {\n",
       "        vertical-align: middle;\n",
       "    }\n",
       "\n",
       "    .dataframe tbody tr th {\n",
       "        vertical-align: top;\n",
       "    }\n",
       "\n",
       "    .dataframe thead th {\n",
       "        text-align: right;\n",
       "    }\n",
       "</style>\n",
       "<table border=\"1\" class=\"dataframe\">\n",
       "  <thead>\n",
       "    <tr style=\"text-align: right;\">\n",
       "      <th></th>\n",
       "      <th>win_type</th>\n",
       "      <th>submission</th>\n",
       "      <th>winner_points</th>\n",
       "      <th>loser_points</th>\n",
       "      <th>adv_pen</th>\n",
       "      <th>weight_class</th>\n",
       "      <th>sex</th>\n",
       "      <th>stage</th>\n",
       "      <th>year</th>\n",
       "    </tr>\n",
       "  </thead>\n",
       "  <tbody>\n",
       "    <tr>\n",
       "      <th>0</th>\n",
       "      <td>DECISION</td>\n",
       "      <td>NaN</td>\n",
       "      <td>-1</td>\n",
       "      <td>-1</td>\n",
       "      <td>NaN</td>\n",
       "      <td>ABS</td>\n",
       "      <td>M</td>\n",
       "      <td>4F</td>\n",
       "      <td>2011</td>\n",
       "    </tr>\n",
       "    <tr>\n",
       "      <th>1</th>\n",
       "      <td>SUBMISSION</td>\n",
       "      <td>Kimura</td>\n",
       "      <td>-1</td>\n",
       "      <td>-1</td>\n",
       "      <td>NaN</td>\n",
       "      <td>99KG</td>\n",
       "      <td>M</td>\n",
       "      <td>R1</td>\n",
       "      <td>2022</td>\n",
       "    </tr>\n",
       "    <tr>\n",
       "      <th>2</th>\n",
       "      <td>DECISION</td>\n",
       "      <td>NaN</td>\n",
       "      <td>-1</td>\n",
       "      <td>-1</td>\n",
       "      <td>NaN</td>\n",
       "      <td>99KG</td>\n",
       "      <td>M</td>\n",
       "      <td>4F</td>\n",
       "      <td>2022</td>\n",
       "    </tr>\n",
       "    <tr>\n",
       "      <th>3</th>\n",
       "      <td>POINTS</td>\n",
       "      <td>NaN</td>\n",
       "      <td>0</td>\n",
       "      <td>0</td>\n",
       "      <td>PEN</td>\n",
       "      <td>99KG</td>\n",
       "      <td>M</td>\n",
       "      <td>3RD</td>\n",
       "      <td>2022</td>\n",
       "    </tr>\n",
       "    <tr>\n",
       "      <th>4</th>\n",
       "      <td>POINTS</td>\n",
       "      <td>NaN</td>\n",
       "      <td>6</td>\n",
       "      <td>2</td>\n",
       "      <td>NaN</td>\n",
       "      <td>ABS</td>\n",
       "      <td>M</td>\n",
       "      <td>4F</td>\n",
       "      <td>2022</td>\n",
       "    </tr>\n",
       "    <tr>\n",
       "      <th>5</th>\n",
       "      <td>DECISION</td>\n",
       "      <td>NaN</td>\n",
       "      <td>-1</td>\n",
       "      <td>-1</td>\n",
       "      <td>NaN</td>\n",
       "      <td>ABS</td>\n",
       "      <td>M</td>\n",
       "      <td>SF</td>\n",
       "      <td>2022</td>\n",
       "    </tr>\n",
       "    <tr>\n",
       "      <th>6</th>\n",
       "      <td>DECISION</td>\n",
       "      <td>NaN</td>\n",
       "      <td>-1</td>\n",
       "      <td>-1</td>\n",
       "      <td>NaN</td>\n",
       "      <td>+99KG</td>\n",
       "      <td>M</td>\n",
       "      <td>R1</td>\n",
       "      <td>2019</td>\n",
       "    </tr>\n",
       "    <tr>\n",
       "      <th>7</th>\n",
       "      <td>POINTS</td>\n",
       "      <td>NaN</td>\n",
       "      <td>0</td>\n",
       "      <td>0</td>\n",
       "      <td>PEN</td>\n",
       "      <td>+99KG</td>\n",
       "      <td>M</td>\n",
       "      <td>4F</td>\n",
       "      <td>2019</td>\n",
       "    </tr>\n",
       "    <tr>\n",
       "      <th>8</th>\n",
       "      <td>DECISION</td>\n",
       "      <td>NaN</td>\n",
       "      <td>-1</td>\n",
       "      <td>-1</td>\n",
       "      <td>NaN</td>\n",
       "      <td>+99KG</td>\n",
       "      <td>M</td>\n",
       "      <td>SF</td>\n",
       "      <td>2019</td>\n",
       "    </tr>\n",
       "    <tr>\n",
       "      <th>9</th>\n",
       "      <td>POINTS</td>\n",
       "      <td>NaN</td>\n",
       "      <td>3</td>\n",
       "      <td>0</td>\n",
       "      <td>NaN</td>\n",
       "      <td>+99KG</td>\n",
       "      <td>M</td>\n",
       "      <td>SF</td>\n",
       "      <td>2022</td>\n",
       "    </tr>\n",
       "    <tr>\n",
       "      <th>10</th>\n",
       "      <td>POINTS</td>\n",
       "      <td>NaN</td>\n",
       "      <td>17</td>\n",
       "      <td>0</td>\n",
       "      <td>NaN</td>\n",
       "      <td>ABS</td>\n",
       "      <td>M</td>\n",
       "      <td>8F</td>\n",
       "      <td>2022</td>\n",
       "    </tr>\n",
       "    <tr>\n",
       "      <th>11</th>\n",
       "      <td>POINTS</td>\n",
       "      <td>NaN</td>\n",
       "      <td>-1</td>\n",
       "      <td>-1</td>\n",
       "      <td>NaN</td>\n",
       "      <td>77KG</td>\n",
       "      <td>M</td>\n",
       "      <td>SF</td>\n",
       "      <td>2013</td>\n",
       "    </tr>\n",
       "    <tr>\n",
       "      <th>12</th>\n",
       "      <td>DECISION</td>\n",
       "      <td>NaN</td>\n",
       "      <td>-1</td>\n",
       "      <td>-1</td>\n",
       "      <td>NaN</td>\n",
       "      <td>77KG</td>\n",
       "      <td>M</td>\n",
       "      <td>4F</td>\n",
       "      <td>2015</td>\n",
       "    </tr>\n",
       "    <tr>\n",
       "      <th>13</th>\n",
       "      <td>DECISION</td>\n",
       "      <td>NaN</td>\n",
       "      <td>-1</td>\n",
       "      <td>-1</td>\n",
       "      <td>NaN</td>\n",
       "      <td>+99KG</td>\n",
       "      <td>M</td>\n",
       "      <td>4F</td>\n",
       "      <td>2015</td>\n",
       "    </tr>\n",
       "    <tr>\n",
       "      <th>14</th>\n",
       "      <td>DECISION</td>\n",
       "      <td>NaN</td>\n",
       "      <td>-1</td>\n",
       "      <td>-1</td>\n",
       "      <td>NaN</td>\n",
       "      <td>+99KG</td>\n",
       "      <td>M</td>\n",
       "      <td>SF</td>\n",
       "      <td>2015</td>\n",
       "    </tr>\n",
       "  </tbody>\n",
       "</table>\n",
       "</div>"
      ],
      "text/plain": [
       "      win_type submission  winner_points  loser_points adv_pen weight_class  \\\n",
       "0     DECISION        NaN             -1            -1     NaN          ABS   \n",
       "1   SUBMISSION     Kimura             -1            -1     NaN         99KG   \n",
       "2     DECISION        NaN             -1            -1     NaN         99KG   \n",
       "3       POINTS        NaN              0             0     PEN         99KG   \n",
       "4       POINTS        NaN              6             2     NaN          ABS   \n",
       "5     DECISION        NaN             -1            -1     NaN          ABS   \n",
       "6     DECISION        NaN             -1            -1     NaN        +99KG   \n",
       "7       POINTS        NaN              0             0     PEN        +99KG   \n",
       "8     DECISION        NaN             -1            -1     NaN        +99KG   \n",
       "9       POINTS        NaN              3             0     NaN        +99KG   \n",
       "10      POINTS        NaN             17             0     NaN          ABS   \n",
       "11      POINTS        NaN             -1            -1     NaN         77KG   \n",
       "12    DECISION        NaN             -1            -1     NaN         77KG   \n",
       "13    DECISION        NaN             -1            -1     NaN        +99KG   \n",
       "14    DECISION        NaN             -1            -1     NaN        +99KG   \n",
       "\n",
       "   sex stage  year  \n",
       "0    M    4F  2011  \n",
       "1    M    R1  2022  \n",
       "2    M    4F  2022  \n",
       "3    M   3RD  2022  \n",
       "4    M    4F  2022  \n",
       "5    M    SF  2022  \n",
       "6    M    R1  2019  \n",
       "7    M    4F  2019  \n",
       "8    M    SF  2019  \n",
       "9    M    SF  2022  \n",
       "10   M    8F  2022  \n",
       "11   M    SF  2013  \n",
       "12   M    4F  2015  \n",
       "13   M    4F  2015  \n",
       "14   M    SF  2015  "
      ]
     },
     "execution_count": 4,
     "metadata": {},
     "output_type": "execute_result"
    }
   ],
   "source": [
    "df.drop(['match_id','winner_id', 'loser_id', 'winner_name','loser_name'], axis=1, inplace=True)\n",
    "df.head(15)"
   ]
  },
  {
   "cell_type": "markdown",
   "metadata": {},
   "source": [
    "Athletes can normally win in 3 different type of ways: by submission, by points obtained from getting into advantageous positions, or by advantages/penalties given through the referee's discretion.\n",
    "\n",
    "We will attempt to see which type of victory is most common."
   ]
  },
  {
   "cell_type": "markdown",
   "metadata": {},
   "source": [
    "First, we need to know how many entries do we have."
   ]
  },
  {
   "cell_type": "code",
   "execution_count": 5,
   "metadata": {},
   "outputs": [
    {
     "data": {
      "text/plain": [
       "(1028, 9)"
      ]
     },
     "execution_count": 5,
     "metadata": {},
     "output_type": "execute_result"
    }
   ],
   "source": [
    "df.shape"
   ]
  },
  {
   "cell_type": "markdown",
   "metadata": {},
   "source": [
    "We have a total of **1028 entries**, next is to check for missing or invalid data."
   ]
  },
  {
   "cell_type": "code",
   "execution_count": 6,
   "metadata": {},
   "outputs": [
    {
     "data": {
      "text/plain": [
       "win_type           0\n",
       "submission       628\n",
       "winner_points      0\n",
       "loser_points       0\n",
       "adv_pen          999\n",
       "weight_class       0\n",
       "sex                0\n",
       "stage              0\n",
       "year               0\n",
       "dtype: int64"
      ]
     },
     "execution_count": 6,
     "metadata": {},
     "output_type": "execute_result"
    }
   ],
   "source": [
    "df.isnull().sum()"
   ]
  },
  {
   "cell_type": "markdown",
   "metadata": {},
   "source": [
    "We notice that there are lots of missing values for the 'submission' column that shows the type of submission that was applied to win the match, and the 'adv_pen' column that shows whether the match was won by an advantage or penalty that was given by the referee. This may not necessarily be an error in the data, as the 'submission' column will remain blank if the match was won by points or advantage/penalty and the 'adv_pen' column will only be filled up if the athlete won via advantage/penalty."
   ]
  },
  {
   "cell_type": "code",
   "execution_count": 7,
   "metadata": {},
   "outputs": [
    {
     "data": {
      "text/plain": [
       "400"
      ]
     },
     "execution_count": 7,
     "metadata": {},
     "output_type": "execute_result"
    }
   ],
   "source": [
    "df.value_counts('submission').sum()"
   ]
  },
  {
   "cell_type": "markdown",
   "metadata": {},
   "source": [
    "We can see that the sum of null values in the 'submission' column with the amount of submissions recorded is **1028**."
   ]
  },
  {
   "cell_type": "code",
   "execution_count": 8,
   "metadata": {},
   "outputs": [
    {
     "data": {
      "text/plain": [
       "win_type\n",
       "POINTS              520\n",
       "SUBMISSION          402\n",
       "DECISION             97\n",
       "INJURY                8\n",
       "DESQUALIFICATION      1\n",
       "dtype: int64"
      ]
     },
     "execution_count": 8,
     "metadata": {},
     "output_type": "execute_result"
    }
   ],
   "source": [
    "df.value_counts('win_type')"
   ]
  },
  {
   "cell_type": "markdown",
   "metadata": {},
   "source": [
    "However, an inspection of the value_counts() for the types of wins reveealed that there are 402 wins by submissions instead. The type of submission for 2 matches where the winner won by submission were not recorded."
   ]
  },
  {
   "cell_type": "code",
   "execution_count": 9,
   "metadata": {},
   "outputs": [
    {
     "name": "stdout",
     "output_type": "stream",
     "text": [
      "       win_type submission  winner_points  loser_points adv_pen weight_class  \\\n",
      "515  SUBMISSION        NaN             -1            -1     NaN        +60KG   \n",
      "883  SUBMISSION        NaN             -1            -1     NaN         99KG   \n",
      "\n",
      "    sex stage  year  \n",
      "515   F     F  2013  \n",
      "883   M    R1  2015  \n",
      "              win_type submission  winner_points  loser_points adv_pen  \\\n",
      "302             INJURY        NaN             -1            -1     NaN   \n",
      "308             INJURY        NaN             -1            -1     NaN   \n",
      "321             INJURY        NaN             -1            -1     NaN   \n",
      "361             INJURY        NaN             -1            -1     NaN   \n",
      "607   DESQUALIFICATION        NaN             -1            -1     NaN   \n",
      "932             INJURY        NaN             -1            -1     NaN   \n",
      "934             INJURY        NaN             -1            -1     NaN   \n",
      "1001            INJURY        NaN             -1            -1     NaN   \n",
      "1011            INJURY        NaN             -1            -1     NaN   \n",
      "\n",
      "     weight_class sex stage  year  \n",
      "302           ABS   M    8F  2022  \n",
      "308         +60KG   F    SF  2022  \n",
      "321          88KG   M    SF  2000  \n",
      "361           ABS   M     F  2009  \n",
      "607           ABS   M    R1  2011  \n",
      "932          99KG   M    4F  2015  \n",
      "934          77KG   M    R1  2005  \n",
      "1001         99KG   M    R1  2001  \n",
      "1011        +99KG   M    R1  2022  \n"
     ]
    }
   ],
   "source": [
    "mask1=df.loc[(df['win_type']=='SUBMISSION') & df['submission'].isna()]\n",
    "mask2=df.loc[(df['win_type']== 'INJURY') | (df['win_type']== 'DESQUALIFICATION')]\n",
    "print(mask1)\n",
    "print(mask2)"
   ]
  },
  {
   "cell_type": "markdown",
   "metadata": {},
   "source": [
    "We have found the 2 anomalous records. Since we cannot be sure of the actual data for these 2 matches, we will drop them from the dataframe. We will also drop the \"INJURY\" and \"DESQUALIFICATION\" (sic) records as it does not contribute to a better understanding of the matches due to the results being one-off events in most cases."
   ]
  },
  {
   "cell_type": "code",
   "execution_count": 10,
   "metadata": {},
   "outputs": [
    {
     "data": {
      "text/plain": [
       "win_type\n",
       "POINTS        520\n",
       "SUBMISSION    400\n",
       "DECISION       97\n",
       "dtype: int64"
      ]
     },
     "execution_count": 10,
     "metadata": {},
     "output_type": "execute_result"
    }
   ],
   "source": [
    "df.drop(index=mask1.index, inplace=True)\n",
    "df.drop(index=mask2.index, inplace=True)\n",
    "\n",
    "df.value_counts('win_type')"
   ]
  },
  {
   "cell_type": "markdown",
   "metadata": {},
   "source": [
    "We would then split the dataframe by genders, as the two genders have different weight categories which should not be compared with each other."
   ]
  },
  {
   "cell_type": "code",
   "execution_count": 11,
   "metadata": {},
   "outputs": [],
   "source": [
    "dfm=df[df['sex']=='M']\n",
    "dff=df[df['sex']=='F']"
   ]
  },
  {
   "cell_type": "markdown",
   "metadata": {},
   "source": [
    "Next, we would attempt to group the submissions into families of techniques based on which part of the body they attack: the neck, the upper body or the lower body."
   ]
  },
  {
   "cell_type": "code",
   "execution_count": 12,
   "metadata": {},
   "outputs": [],
   "source": [
    "df['target']=(np.nan)\n",
    "upper_body=['Armbar', 'Kimura' ,'Omoplate', 'Americana' ,'Shoulder lock', 'Wristlock']\n",
    "lower_body=['Heel hook' ,'Footlock' , 'Toe hold' , 'Leg lock' , 'Calf slicer', 'Dogbar' , 'Estima lock' , 'Z Lock']\n",
    "neck=['RNC' , 'Katagatame' , 'Guillotine' , 'Triangle' , 'Choke' , \"D'arce choke\" , 'Short choke' , 'North south choke' , 'Headlock' , 'Anaconda' , 'Ezekial' , 'Cross face' , 'Twister']\n",
    "df.loc[df['submission'].isin(upper_body), 'target'] = 'Upper body'\n",
    "df.loc[df['submission'].isin(lower_body), 'target'] = 'Lower body'\n",
    "df.loc[df['submission'].isin(neck), 'target'] = 'Neck'   \n",
    "\n"
   ]
  },
  {
   "cell_type": "markdown",
   "metadata": {},
   "source": [
    "A look at the varieties of submissions performed at ADCC revealed two new issues:\n",
    "\n",
    "1. We can see that heel hooks are seperated into 3 categories: heel hooks, inside heel hooks and outside heel hooks. All heel hooks are supposed to be classified into inside heel hooks or outside heel hooks.\n",
    "\n",
    "![Inside heel hook](https://bjj.tv/wp-content/uploads/2020/08/Inside-Heel-Hook.jpg \"Inside heel hook\")\n",
    "\n",
    "*Inside heel hooks turns the heel towards the centre of the body*\n",
    "\n",
    "![Outside heel hook](https://grapplinginsider.com/wp-content/uploads/2021/03/Dean-Lister.jpg \"Outside heel hook\")\n",
    "\n",
    "*Outside heel hooks turns the heel towards the outside of the body*\n",
    "\n",
    "2. Entries such as \"Submission\" or \"Verbal tap\" does not give any idea of what submissions were performed and does not contribute to clarity about which types of submission are favoured in ADCC.\n",
    "\n",
    "We will do the following to solve these two problems:\n",
    "\n",
    "1. Inside heel hooks and outside heel hooks will be classified as heel hooks and merged with the \"Heel hook\" entry.\n",
    "\n",
    "2. Entries such as \"Submission\" or \"Verbal tap\" will be removed dropped.\n"
   ]
  },
  {
   "cell_type": "code",
   "execution_count": 13,
   "metadata": {},
   "outputs": [],
   "source": [
    "#Issue number 1\n",
    "df['submission'].replace(['Inside heel hook', 'Outside heel hook'], 'Heel hook', inplace=True)\n",
    "#Issue number 2\n",
    "mask=df[(df['submission']=='Submission') | (df['submission']=='Verbal tap')]\n",
    "df.drop(mask.index,inplace=True, axis=0)"
   ]
  },
  {
   "cell_type": "markdown",
   "metadata": {},
   "source": [
    "Lastly, we would split the dataframe by genders, as the two genders have different weight categories which should not be compared with each other."
   ]
  },
  {
   "cell_type": "code",
   "execution_count": 14,
   "metadata": {},
   "outputs": [],
   "source": [
    "dfm=df[df['sex']=='M']\n",
    "dff=df[df['sex']=='F']"
   ]
  },
  {
   "cell_type": "markdown",
   "metadata": {},
   "source": [
    "### Exploratory Data Analysis (EDA)\n",
    "\n",
    "We are finally ready to explore the dataset and discover any relationships."
   ]
  },
  {
   "cell_type": "code",
   "execution_count": 26,
   "metadata": {},
   "outputs": [
    {
     "name": "stderr",
     "output_type": "stream",
     "text": [
      "C:\\Users\\lizhi\\AppData\\Local\\Temp\\ipykernel_27096\\2336435348.py:2: SettingWithCopyWarning:\n",
      "\n",
      "\n",
      "A value is trying to be set on a copy of a slice from a DataFrame.\n",
      "Try using .loc[row_indexer,col_indexer] = value instead\n",
      "\n",
      "See the caveats in the documentation: https://pandas.pydata.org/pandas-docs/stable/user_guide/indexing.html#returning-a-view-versus-a-copy\n",
      "\n"
     ]
    },
    {
     "data": {
      "application/vnd.plotly.v1+json": {
       "config": {
        "plotlyServerURL": "https://plot.ly"
       },
       "data": [
        {
         "alignmentgroup": "True",
         "bingroup": "x",
         "histfunc": "sum",
         "hovertemplate": "Type of victory=DECISION<br>Weight Class=%{x}<br>sum of percentagecount (normalized as percent)=%{y}<extra></extra>",
         "legendgroup": "DECISION",
         "marker": {
          "color": "#636efa",
          "pattern": {
           "shape": ""
          }
         },
         "name": "DECISION",
         "offsetgroup": "DECISION",
         "orientation": "v",
         "showlegend": true,
         "type": "histogram",
         "x": [
          "ABS",
          "99KG",
          "ABS",
          "+99KG",
          "+99KG",
          "77KG",
          "+99KG",
          "+99KG",
          "+99KG",
          "+99KG",
          "66KG",
          "+99KG",
          "+99KG",
          "99KG",
          "88KG",
          "77KG",
          "ABS",
          "ABS",
          "ABS",
          "99KG",
          "66KG",
          "77KG",
          "88KG",
          "77KG",
          "99KG",
          "88KG",
          "88KG",
          "66KG",
          "66KG",
          "ABS",
          "+99KG",
          "77KG",
          "66KG",
          "ABS",
          "66KG",
          "66KG",
          "99KG",
          "66KG",
          "99KG",
          "99KG",
          "99KG",
          "ABS",
          "88KG",
          "66KG",
          "77KG",
          "+99KG",
          "99KG",
          "99KG",
          "77KG",
          "88KG",
          "ABS",
          "66KG",
          "88KG",
          "77KG",
          "77KG",
          "88KG",
          "66KG",
          "88KG",
          "66KG",
          "77KG",
          "66KG",
          "66KG",
          "77KG",
          "99KG",
          "88KG",
          "77KG",
          "88KG",
          "ABS",
          "99KG",
          "99KG",
          "+99KG",
          "+99KG",
          "99KG",
          "ABS",
          "77KG",
          "+99KG",
          "77KG",
          "66KG",
          "ABS",
          "88KG",
          "66KG",
          "+99KG",
          "99KG",
          "88KG",
          "+99KG",
          "ABS",
          "ABS",
          "88KG",
          "88KG",
          "88KG",
          "88KG"
         ],
         "xaxis": "x",
         "y": [
          0.01,
          0.01,
          0.01,
          0.01,
          0.01,
          0.01,
          0.01,
          0.01,
          0.01,
          0.01,
          0.01,
          0.01,
          0.01,
          0.01,
          0.01,
          0.01,
          0.01,
          0.01,
          0.01,
          0.01,
          0.01,
          0.01,
          0.01,
          0.01,
          0.01,
          0.01,
          0.01,
          0.01,
          0.01,
          0.01,
          0.01,
          0.01,
          0.01,
          0.01,
          0.01,
          0.01,
          0.01,
          0.01,
          0.01,
          0.01,
          0.01,
          0.01,
          0.01,
          0.01,
          0.01,
          0.01,
          0.01,
          0.01,
          0.01,
          0.01,
          0.01,
          0.01,
          0.01,
          0.01,
          0.01,
          0.01,
          0.01,
          0.01,
          0.01,
          0.01,
          0.01,
          0.01,
          0.01,
          0.01,
          0.01,
          0.01,
          0.01,
          0.01,
          0.01,
          0.01,
          0.01,
          0.01,
          0.01,
          0.01,
          0.01,
          0.01,
          0.01,
          0.01,
          0.01,
          0.01,
          0.01,
          0.01,
          0.01,
          0.01,
          0.01,
          0.01,
          0.01,
          0.01,
          0.01,
          0.01,
          0.01
         ],
         "yaxis": "y"
        },
        {
         "alignmentgroup": "True",
         "bingroup": "x",
         "histfunc": "sum",
         "hovertemplate": "Type of victory=SUBMISSION<br>Weight Class=%{x}<br>sum of percentagecount (normalized as percent)=%{y}<extra></extra>",
         "legendgroup": "SUBMISSION",
         "marker": {
          "color": "#EF553B",
          "pattern": {
           "shape": ""
          }
         },
         "name": "SUBMISSION",
         "offsetgroup": "SUBMISSION",
         "orientation": "v",
         "showlegend": true,
         "type": "histogram",
         "x": [
          "99KG",
          "+99KG",
          "77KG",
          "99KG",
          "99KG",
          "ABS",
          "ABS",
          "+99KG",
          "88KG",
          "88KG",
          "ABS",
          "77KG",
          "88KG",
          "88KG",
          "88KG",
          "99KG",
          "77KG",
          "77KG",
          "77KG",
          "88KG",
          "66KG",
          "66KG",
          "99KG",
          "ABS",
          "66KG",
          "77KG",
          "77KG",
          "ABS",
          "88KG",
          "ABS",
          "77KG",
          "88KG",
          "88KG",
          "ABS",
          "ABS",
          "ABS",
          "99KG",
          "ABS",
          "ABS",
          "+99KG",
          "+99KG",
          "77KG",
          "77KG",
          "+99KG",
          "+99KG",
          "ABS",
          "ABS",
          "ABS",
          "66KG",
          "ABS",
          "66KG",
          "ABS",
          "88KG",
          "ABS",
          "ABS",
          "77KG",
          "66KG",
          "66KG",
          "66KG",
          "ABS",
          "77KG",
          "ABS",
          "66KG",
          "99KG",
          "88KG",
          "88KG",
          "66KG",
          "77KG",
          "77KG",
          "77KG",
          "+99KG",
          "66KG",
          "ABS",
          "ABS",
          "66KG",
          "77KG",
          "77KG",
          "ABS",
          "77KG",
          "+99KG",
          "88KG",
          "77KG",
          "77KG",
          "ABS",
          "66KG",
          "77KG",
          "ABS",
          "ABS",
          "88KG",
          "66KG",
          "66KG",
          "ABS",
          "88KG",
          "99KG",
          "+99KG",
          "66KG",
          "99KG",
          "77KG",
          "77KG",
          "99KG",
          "77KG",
          "88KG",
          "ABS",
          "ABS",
          "+99KG",
          "66KG",
          "66KG",
          "ABS",
          "77KG",
          "77KG",
          "99KG",
          "88KG",
          "ABS",
          "99KG",
          "66KG",
          "66KG",
          "ABS",
          "88KG",
          "99KG",
          "ABS",
          "99KG",
          "ABS",
          "77KG",
          "99KG",
          "77KG",
          "ABS",
          "99KG",
          "77KG",
          "+99KG",
          "ABS",
          "88KG",
          "66KG",
          "88KG",
          "66KG",
          "99KG",
          "99KG",
          "99KG",
          "99KG",
          "99KG",
          "88KG",
          "ABS",
          "77KG",
          "ABS",
          "88KG",
          "77KG",
          "77KG",
          "99KG",
          "99KG",
          "ABS",
          "ABS",
          "99KG",
          "99KG",
          "99KG",
          "ABS",
          "+99KG",
          "ABS",
          "77KG",
          "88KG",
          "99KG",
          "+99KG",
          "ABS",
          "77KG",
          "77KG",
          "77KG",
          "77KG",
          "77KG",
          "+99KG",
          "+99KG",
          "+99KG",
          "66KG",
          "66KG",
          "88KG",
          "+99KG",
          "ABS",
          "+99KG",
          "ABS",
          "+99KG",
          "+99KG",
          "+99KG",
          "+99KG",
          "+99KG",
          "ABS",
          "99KG",
          "ABS",
          "+99KG",
          "66KG",
          "66KG",
          "66KG",
          "66KG",
          "66KG",
          "66KG",
          "66KG",
          "99KG",
          "ABS",
          "ABS",
          "99KG",
          "99KG",
          "99KG",
          "ABS",
          "66KG",
          "66KG",
          "77KG",
          "ABS",
          "88KG",
          "88KG",
          "66KG",
          "66KG",
          "66KG",
          "66KG",
          "66KG",
          "99KG",
          "66KG",
          "+99KG",
          "ABS",
          "ABS",
          "ABS",
          "+99KG",
          "+99KG",
          "+99KG",
          "99KG",
          "99KG",
          "66KG",
          "66KG",
          "77KG",
          "77KG",
          "77KG",
          "ABS",
          "66KG",
          "66KG",
          "99KG",
          "99KG",
          "+99KG",
          "77KG",
          "88KG",
          "99KG",
          "99KG",
          "ABS",
          "66KG",
          "99KG",
          "77KG",
          "77KG",
          "66KG",
          "66KG",
          "77KG",
          "ABS",
          "77KG",
          "77KG",
          "ABS",
          "77KG",
          "ABS",
          "ABS",
          "ABS",
          "ABS",
          "77KG",
          "77KG",
          "77KG",
          "+99KG",
          "+99KG",
          "+99KG",
          "+99KG",
          "77KG",
          "77KG",
          "ABS",
          "77KG",
          "77KG",
          "+99KG",
          "77KG",
          "77KG",
          "88KG",
          "88KG",
          "88KG",
          "88KG",
          "88KG",
          "88KG",
          "99KG",
          "66KG",
          "66KG",
          "ABS",
          "99KG",
          "ABS",
          "ABS",
          "88KG",
          "66KG",
          "+99KG",
          "+99KG",
          "66KG",
          "99KG",
          "ABS",
          "88KG",
          "88KG",
          "99KG",
          "+99KG",
          "88KG",
          "88KG",
          "88KG",
          "88KG",
          "88KG",
          "ABS",
          "88KG",
          "66KG",
          "66KG",
          "66KG",
          "66KG",
          "66KG",
          "66KG",
          "66KG",
          "66KG",
          "66KG",
          "88KG",
          "88KG",
          "88KG",
          "+99KG",
          "ABS",
          "+99KG",
          "88KG",
          "ABS",
          "+99KG",
          "+99KG",
          "99KG",
          "99KG",
          "ABS",
          "77KG",
          "77KG",
          "88KG",
          "88KG",
          "66KG",
          "+99KG",
          "+99KG",
          "66KG",
          "77KG",
          "77KG",
          "77KG",
          "+99KG",
          "+99KG",
          "+99KG",
          "88KG",
          "77KG",
          "99KG",
          "88KG",
          "99KG",
          "88KG",
          "88KG",
          "66KG",
          "66KG",
          "66KG",
          "77KG",
          "77KG",
          "88KG",
          "99KG",
          "99KG",
          "+99KG",
          "88KG",
          "66KG",
          "77KG",
          "88KG",
          "77KG",
          "99KG",
          "99KG",
          "ABS",
          "99KG",
          "ABS",
          "ABS",
          "+99KG",
          "88KG",
          "88KG",
          "77KG",
          "77KG",
          "88KG",
          "88KG",
          "ABS",
          "ABS"
         ],
         "xaxis": "x",
         "y": [
          0.01,
          0.01,
          0.01,
          0.01,
          0.01,
          0.01,
          0.01,
          0.01,
          0.01,
          0.01,
          0.01,
          0.01,
          0.01,
          0.01,
          0.01,
          0.01,
          0.01,
          0.01,
          0.01,
          0.01,
          0.01,
          0.01,
          0.01,
          0.01,
          0.01,
          0.01,
          0.01,
          0.01,
          0.01,
          0.01,
          0.01,
          0.01,
          0.01,
          0.01,
          0.01,
          0.01,
          0.01,
          0.01,
          0.01,
          0.01,
          0.01,
          0.01,
          0.01,
          0.01,
          0.01,
          0.01,
          0.01,
          0.01,
          0.01,
          0.01,
          0.01,
          0.01,
          0.01,
          0.01,
          0.01,
          0.01,
          0.01,
          0.01,
          0.01,
          0.01,
          0.01,
          0.01,
          0.01,
          0.01,
          0.01,
          0.01,
          0.01,
          0.01,
          0.01,
          0.01,
          0.01,
          0.01,
          0.01,
          0.01,
          0.01,
          0.01,
          0.01,
          0.01,
          0.01,
          0.01,
          0.01,
          0.01,
          0.01,
          0.01,
          0.01,
          0.01,
          0.01,
          0.01,
          0.01,
          0.01,
          0.01,
          0.01,
          0.01,
          0.01,
          0.01,
          0.01,
          0.01,
          0.01,
          0.01,
          0.01,
          0.01,
          0.01,
          0.01,
          0.01,
          0.01,
          0.01,
          0.01,
          0.01,
          0.01,
          0.01,
          0.01,
          0.01,
          0.01,
          0.01,
          0.01,
          0.01,
          0.01,
          0.01,
          0.01,
          0.01,
          0.01,
          0.01,
          0.01,
          0.01,
          0.01,
          0.01,
          0.01,
          0.01,
          0.01,
          0.01,
          0.01,
          0.01,
          0.01,
          0.01,
          0.01,
          0.01,
          0.01,
          0.01,
          0.01,
          0.01,
          0.01,
          0.01,
          0.01,
          0.01,
          0.01,
          0.01,
          0.01,
          0.01,
          0.01,
          0.01,
          0.01,
          0.01,
          0.01,
          0.01,
          0.01,
          0.01,
          0.01,
          0.01,
          0.01,
          0.01,
          0.01,
          0.01,
          0.01,
          0.01,
          0.01,
          0.01,
          0.01,
          0.01,
          0.01,
          0.01,
          0.01,
          0.01,
          0.01,
          0.01,
          0.01,
          0.01,
          0.01,
          0.01,
          0.01,
          0.01,
          0.01,
          0.01,
          0.01,
          0.01,
          0.01,
          0.01,
          0.01,
          0.01,
          0.01,
          0.01,
          0.01,
          0.01,
          0.01,
          0.01,
          0.01,
          0.01,
          0.01,
          0.01,
          0.01,
          0.01,
          0.01,
          0.01,
          0.01,
          0.01,
          0.01,
          0.01,
          0.01,
          0.01,
          0.01,
          0.01,
          0.01,
          0.01,
          0.01,
          0.01,
          0.01,
          0.01,
          0.01,
          0.01,
          0.01,
          0.01,
          0.01,
          0.01,
          0.01,
          0.01,
          0.01,
          0.01,
          0.01,
          0.01,
          0.01,
          0.01,
          0.01,
          0.01,
          0.01,
          0.01,
          0.01,
          0.01,
          0.01,
          0.01,
          0.01,
          0.01,
          0.01,
          0.01,
          0.01,
          0.01,
          0.01,
          0.01,
          0.01,
          0.01,
          0.01,
          0.01,
          0.01,
          0.01,
          0.01,
          0.01,
          0.01,
          0.01,
          0.01,
          0.01,
          0.01,
          0.01,
          0.01,
          0.01,
          0.01,
          0.01,
          0.01,
          0.01,
          0.01,
          0.01,
          0.01,
          0.01,
          0.01,
          0.01,
          0.01,
          0.01,
          0.01,
          0.01,
          0.01,
          0.01,
          0.01,
          0.01,
          0.01,
          0.01,
          0.01,
          0.01,
          0.01,
          0.01,
          0.01,
          0.01,
          0.01,
          0.01,
          0.01,
          0.01,
          0.01,
          0.01,
          0.01,
          0.01,
          0.01,
          0.01,
          0.01,
          0.01,
          0.01,
          0.01,
          0.01,
          0.01,
          0.01,
          0.01,
          0.01,
          0.01,
          0.01,
          0.01,
          0.01,
          0.01,
          0.01,
          0.01,
          0.01,
          0.01,
          0.01,
          0.01,
          0.01,
          0.01,
          0.01,
          0.01,
          0.01,
          0.01,
          0.01,
          0.01,
          0.01,
          0.01,
          0.01,
          0.01,
          0.01,
          0.01,
          0.01,
          0.01,
          0.01,
          0.01,
          0.01,
          0.01,
          0.01,
          0.01,
          0.01,
          0.01,
          0.01,
          0.01,
          0.01,
          0.01,
          0.01,
          0.01,
          0.01,
          0.01,
          0.01,
          0.01,
          0.01,
          0.01,
          0.01,
          0.01,
          0.01,
          0.01,
          0.01,
          0.01,
          0.01,
          0.01,
          0.01,
          0.01,
          0.01,
          0.01,
          0.01,
          0.01,
          0.01,
          0.01,
          0.01
         ],
         "yaxis": "y"
        },
        {
         "alignmentgroup": "True",
         "bingroup": "x",
         "histfunc": "sum",
         "hovertemplate": "Type of victory=POINTS<br>Weight Class=%{x}<br>sum of percentagecount (normalized as percent)=%{y}<extra></extra>",
         "legendgroup": "POINTS",
         "marker": {
          "color": "#00cc96",
          "pattern": {
           "shape": ""
          }
         },
         "name": "POINTS",
         "offsetgroup": "POINTS",
         "orientation": "v",
         "showlegend": true,
         "type": "histogram",
         "x": [
          "99KG",
          "ABS",
          "+99KG",
          "+99KG",
          "ABS",
          "77KG",
          "66KG",
          "77KG",
          "77KG",
          "77KG",
          "77KG",
          "77KG",
          "88KG",
          "88KG",
          "ABS",
          "77KG",
          "66KG",
          "66KG",
          "66KG",
          "+99KG",
          "+99KG",
          "ABS",
          "ABS",
          "ABS",
          "ABS",
          "66KG",
          "ABS",
          "ABS",
          "99KG",
          "99KG",
          "88KG",
          "88KG",
          "88KG",
          "88KG",
          "+99KG",
          "ABS",
          "ABS",
          "77KG",
          "66KG",
          "77KG",
          "77KG",
          "88KG",
          "88KG",
          "66KG",
          "66KG",
          "66KG",
          "ABS",
          "77KG",
          "88KG",
          "66KG",
          "77KG",
          "77KG",
          "88KG",
          "66KG",
          "99KG",
          "ABS",
          "66KG",
          "66KG",
          "88KG",
          "ABS",
          "88KG",
          "88KG",
          "77KG",
          "77KG",
          "77KG",
          "99KG",
          "88KG",
          "88KG",
          "88KG",
          "88KG",
          "88KG",
          "77KG",
          "77KG",
          "+99KG",
          "ABS",
          "ABS",
          "+99KG",
          "+99KG",
          "+99KG",
          "66KG",
          "66KG",
          "66KG",
          "77KG",
          "66KG",
          "ABS",
          "ABS",
          "88KG",
          "88KG",
          "ABS",
          "99KG",
          "99KG",
          "ABS",
          "ABS",
          "ABS",
          "+99KG",
          "ABS",
          "+99KG",
          "+99KG",
          "ABS",
          "ABS",
          "77KG",
          "ABS",
          "99KG",
          "66KG",
          "99KG",
          "99KG",
          "ABS",
          "ABS",
          "88KG",
          "88KG",
          "ABS",
          "ABS",
          "ABS",
          "ABS",
          "66KG",
          "66KG",
          "ABS",
          "+99KG",
          "+99KG",
          "+99KG",
          "+99KG",
          "99KG",
          "99KG",
          "99KG",
          "ABS",
          "ABS",
          "+99KG",
          "ABS",
          "99KG",
          "99KG",
          "77KG",
          "+99KG",
          "+99KG",
          "ABS",
          "ABS",
          "88KG",
          "88KG",
          "77KG",
          "77KG",
          "77KG",
          "77KG",
          "77KG",
          "77KG",
          "77KG",
          "+99KG",
          "+99KG",
          "99KG",
          "77KG",
          "77KG",
          "77KG",
          "66KG",
          "66KG",
          "66KG",
          "66KG",
          "77KG",
          "77KG",
          "77KG",
          "77KG",
          "77KG",
          "ABS",
          "+99KG",
          "ABS",
          "77KG",
          "77KG",
          "88KG",
          "99KG",
          "66KG",
          "66KG",
          "66KG",
          "77KG",
          "ABS",
          "99KG",
          "99KG",
          "ABS",
          "88KG",
          "ABS",
          "66KG",
          "ABS",
          "66KG",
          "99KG",
          "88KG",
          "66KG",
          "66KG",
          "66KG",
          "66KG",
          "66KG",
          "66KG",
          "88KG",
          "88KG",
          "88KG",
          "+99KG",
          "66KG",
          "66KG",
          "77KG",
          "ABS",
          "+99KG",
          "99KG",
          "99KG",
          "+99KG",
          "ABS",
          "77KG",
          "88KG",
          "77KG",
          "+99KG",
          "77KG",
          "ABS",
          "77KG",
          "66KG",
          "66KG",
          "66KG",
          "66KG",
          "ABS",
          "66KG",
          "66KG",
          "99KG",
          "66KG",
          "88KG",
          "ABS",
          "66KG",
          "99KG",
          "77KG",
          "77KG",
          "99KG",
          "77KG",
          "77KG",
          "77KG",
          "66KG",
          "99KG",
          "66KG",
          "88KG",
          "88KG",
          "66KG",
          "ABS",
          "99KG",
          "ABS",
          "99KG",
          "77KG",
          "66KG",
          "+99KG",
          "ABS",
          "ABS",
          "77KG",
          "66KG",
          "66KG",
          "ABS",
          "+99KG",
          "66KG",
          "ABS",
          "66KG",
          "ABS",
          "ABS",
          "66KG",
          "66KG",
          "99KG",
          "77KG",
          "88KG",
          "77KG",
          "+99KG",
          "99KG",
          "88KG",
          "ABS",
          "88KG",
          "77KG",
          "99KG",
          "77KG",
          "88KG",
          "88KG",
          "88KG",
          "88KG",
          "66KG",
          "88KG",
          "88KG",
          "77KG",
          "77KG",
          "88KG",
          "88KG",
          "77KG",
          "77KG",
          "66KG",
          "ABS",
          "66KG",
          "66KG",
          "+99KG",
          "88KG",
          "66KG",
          "+99KG",
          "+99KG",
          "99KG",
          "ABS",
          "+99KG",
          "+99KG",
          "ABS",
          "ABS",
          "66KG",
          "66KG",
          "99KG",
          "99KG",
          "ABS",
          "66KG",
          "66KG",
          "99KG",
          "99KG",
          "99KG",
          "99KG",
          "88KG",
          "88KG",
          "88KG",
          "88KG",
          "88KG",
          "88KG",
          "ABS",
          "88KG",
          "66KG",
          "66KG",
          "+99KG",
          "+99KG",
          "+99KG",
          "+99KG",
          "+99KG",
          "+99KG",
          "+99KG",
          "77KG",
          "77KG",
          "66KG",
          "99KG",
          "99KG",
          "99KG",
          "ABS",
          "+99KG",
          "88KG",
          "88KG",
          "88KG",
          "99KG",
          "ABS",
          "ABS",
          "99KG",
          "99KG",
          "99KG",
          "77KG",
          "66KG",
          "66KG",
          "66KG",
          "77KG",
          "+99KG",
          "99KG",
          "66KG",
          "+99KG",
          "+99KG",
          "ABS",
          "+99KG",
          "+99KG",
          "88KG",
          "+99KG",
          "+99KG",
          "66KG",
          "77KG",
          "88KG",
          "88KG",
          "66KG",
          "66KG",
          "66KG",
          "88KG",
          "88KG",
          "88KG",
          "88KG",
          "ABS",
          "99KG",
          "77KG",
          "77KG",
          "77KG",
          "88KG",
          "77KG",
          "99KG",
          "ABS",
          "88KG",
          "99KG",
          "99KG",
          "ABS",
          "88KG",
          "88KG",
          "+99KG",
          "ABS",
          "99KG",
          "99KG",
          "99KG",
          "+99KG",
          "99KG",
          "+99KG",
          "ABS",
          "+99KG",
          "+99KG",
          "ABS",
          "ABS",
          "66KG",
          "88KG",
          "88KG",
          "ABS",
          "88KG",
          "ABS",
          "66KG",
          "99KG",
          "88KG",
          "88KG",
          "66KG",
          "66KG",
          "66KG",
          "99KG",
          "88KG",
          "88KG",
          "ABS",
          "88KG",
          "88KG",
          "+99KG",
          "88KG",
          "88KG",
          "+99KG",
          "ABS",
          "77KG",
          "77KG",
          "77KG",
          "+99KG",
          "77KG",
          "77KG",
          "88KG",
          "ABS",
          "99KG",
          "ABS",
          "99KG",
          "99KG",
          "99KG",
          "77KG",
          "66KG",
          "+99KG",
          "99KG",
          "66KG",
          "+99KG",
          "77KG",
          "ABS",
          "66KG",
          "99KG",
          "99KG",
          "99KG",
          "+99KG",
          "ABS",
          "88KG",
          "77KG",
          "66KG",
          "+99KG",
          "99KG",
          "66KG",
          "ABS",
          "ABS",
          "+99KG",
          "77KG",
          "88KG",
          "88KG",
          "99KG",
          "77KG",
          "77KG",
          "+99KG",
          "88KG",
          "ABS",
          "77KG",
          "88KG",
          "77KG",
          "99KG",
          "+99KG",
          "+99KG",
          "+99KG",
          "ABS",
          "+99KG",
          "88KG",
          "ABS",
          "88KG",
          "66KG",
          "ABS",
          "ABS",
          "+99KG",
          "77KG",
          "ABS",
          "+99KG",
          "88KG",
          "99KG",
          "99KG",
          "ABS",
          "88KG",
          "+99KG",
          "99KG",
          "ABS",
          "99KG",
          "88KG",
          "88KG",
          "ABS",
          "66KG",
          "66KG",
          "ABS",
          "+99KG",
          "99KG",
          "+99KG",
          "ABS",
          "99KG",
          "99KG"
         ],
         "xaxis": "x",
         "y": [
          0.01,
          0.01,
          0.01,
          0.01,
          0.01,
          0.01,
          0.01,
          0.01,
          0.01,
          0.01,
          0.01,
          0.01,
          0.01,
          0.01,
          0.01,
          0.01,
          0.01,
          0.01,
          0.01,
          0.01,
          0.01,
          0.01,
          0.01,
          0.01,
          0.01,
          0.01,
          0.01,
          0.01,
          0.01,
          0.01,
          0.01,
          0.01,
          0.01,
          0.01,
          0.01,
          0.01,
          0.01,
          0.01,
          0.01,
          0.01,
          0.01,
          0.01,
          0.01,
          0.01,
          0.01,
          0.01,
          0.01,
          0.01,
          0.01,
          0.01,
          0.01,
          0.01,
          0.01,
          0.01,
          0.01,
          0.01,
          0.01,
          0.01,
          0.01,
          0.01,
          0.01,
          0.01,
          0.01,
          0.01,
          0.01,
          0.01,
          0.01,
          0.01,
          0.01,
          0.01,
          0.01,
          0.01,
          0.01,
          0.01,
          0.01,
          0.01,
          0.01,
          0.01,
          0.01,
          0.01,
          0.01,
          0.01,
          0.01,
          0.01,
          0.01,
          0.01,
          0.01,
          0.01,
          0.01,
          0.01,
          0.01,
          0.01,
          0.01,
          0.01,
          0.01,
          0.01,
          0.01,
          0.01,
          0.01,
          0.01,
          0.01,
          0.01,
          0.01,
          0.01,
          0.01,
          0.01,
          0.01,
          0.01,
          0.01,
          0.01,
          0.01,
          0.01,
          0.01,
          0.01,
          0.01,
          0.01,
          0.01,
          0.01,
          0.01,
          0.01,
          0.01,
          0.01,
          0.01,
          0.01,
          0.01,
          0.01,
          0.01,
          0.01,
          0.01,
          0.01,
          0.01,
          0.01,
          0.01,
          0.01,
          0.01,
          0.01,
          0.01,
          0.01,
          0.01,
          0.01,
          0.01,
          0.01,
          0.01,
          0.01,
          0.01,
          0.01,
          0.01,
          0.01,
          0.01,
          0.01,
          0.01,
          0.01,
          0.01,
          0.01,
          0.01,
          0.01,
          0.01,
          0.01,
          0.01,
          0.01,
          0.01,
          0.01,
          0.01,
          0.01,
          0.01,
          0.01,
          0.01,
          0.01,
          0.01,
          0.01,
          0.01,
          0.01,
          0.01,
          0.01,
          0.01,
          0.01,
          0.01,
          0.01,
          0.01,
          0.01,
          0.01,
          0.01,
          0.01,
          0.01,
          0.01,
          0.01,
          0.01,
          0.01,
          0.01,
          0.01,
          0.01,
          0.01,
          0.01,
          0.01,
          0.01,
          0.01,
          0.01,
          0.01,
          0.01,
          0.01,
          0.01,
          0.01,
          0.01,
          0.01,
          0.01,
          0.01,
          0.01,
          0.01,
          0.01,
          0.01,
          0.01,
          0.01,
          0.01,
          0.01,
          0.01,
          0.01,
          0.01,
          0.01,
          0.01,
          0.01,
          0.01,
          0.01,
          0.01,
          0.01,
          0.01,
          0.01,
          0.01,
          0.01,
          0.01,
          0.01,
          0.01,
          0.01,
          0.01,
          0.01,
          0.01,
          0.01,
          0.01,
          0.01,
          0.01,
          0.01,
          0.01,
          0.01,
          0.01,
          0.01,
          0.01,
          0.01,
          0.01,
          0.01,
          0.01,
          0.01,
          0.01,
          0.01,
          0.01,
          0.01,
          0.01,
          0.01,
          0.01,
          0.01,
          0.01,
          0.01,
          0.01,
          0.01,
          0.01,
          0.01,
          0.01,
          0.01,
          0.01,
          0.01,
          0.01,
          0.01,
          0.01,
          0.01,
          0.01,
          0.01,
          0.01,
          0.01,
          0.01,
          0.01,
          0.01,
          0.01,
          0.01,
          0.01,
          0.01,
          0.01,
          0.01,
          0.01,
          0.01,
          0.01,
          0.01,
          0.01,
          0.01,
          0.01,
          0.01,
          0.01,
          0.01,
          0.01,
          0.01,
          0.01,
          0.01,
          0.01,
          0.01,
          0.01,
          0.01,
          0.01,
          0.01,
          0.01,
          0.01,
          0.01,
          0.01,
          0.01,
          0.01,
          0.01,
          0.01,
          0.01,
          0.01,
          0.01,
          0.01,
          0.01,
          0.01,
          0.01,
          0.01,
          0.01,
          0.01,
          0.01,
          0.01,
          0.01,
          0.01,
          0.01,
          0.01,
          0.01,
          0.01,
          0.01,
          0.01,
          0.01,
          0.01,
          0.01,
          0.01,
          0.01,
          0.01,
          0.01,
          0.01,
          0.01,
          0.01,
          0.01,
          0.01,
          0.01,
          0.01,
          0.01,
          0.01,
          0.01,
          0.01,
          0.01,
          0.01,
          0.01,
          0.01,
          0.01,
          0.01,
          0.01,
          0.01,
          0.01,
          0.01,
          0.01,
          0.01,
          0.01,
          0.01,
          0.01,
          0.01,
          0.01,
          0.01,
          0.01,
          0.01,
          0.01,
          0.01,
          0.01,
          0.01,
          0.01,
          0.01,
          0.01,
          0.01,
          0.01,
          0.01,
          0.01,
          0.01,
          0.01,
          0.01,
          0.01,
          0.01,
          0.01,
          0.01,
          0.01,
          0.01,
          0.01,
          0.01,
          0.01,
          0.01,
          0.01,
          0.01,
          0.01,
          0.01,
          0.01,
          0.01,
          0.01,
          0.01,
          0.01,
          0.01,
          0.01,
          0.01,
          0.01,
          0.01,
          0.01,
          0.01,
          0.01,
          0.01,
          0.01,
          0.01,
          0.01,
          0.01,
          0.01,
          0.01,
          0.01,
          0.01,
          0.01,
          0.01,
          0.01,
          0.01,
          0.01,
          0.01,
          0.01,
          0.01,
          0.01,
          0.01,
          0.01,
          0.01,
          0.01,
          0.01,
          0.01,
          0.01,
          0.01,
          0.01,
          0.01,
          0.01,
          0.01,
          0.01,
          0.01,
          0.01,
          0.01,
          0.01,
          0.01,
          0.01,
          0.01,
          0.01,
          0.01,
          0.01,
          0.01,
          0.01,
          0.01,
          0.01,
          0.01,
          0.01,
          0.01,
          0.01,
          0.01,
          0.01,
          0.01,
          0.01,
          0.01,
          0.01,
          0.01,
          0.01,
          0.01,
          0.01,
          0.01,
          0.01,
          0.01,
          0.01,
          0.01,
          0.01,
          0.01,
          0.01,
          0.01,
          0.01,
          0.01,
          0.01,
          0.01,
          0.01,
          0.01,
          0.01,
          0.01,
          0.01,
          0.01,
          0.01,
          0.01,
          0.01,
          0.01,
          0.01,
          0.01,
          0.01,
          0.01,
          0.01,
          0.01,
          0.01,
          0.01
         ],
         "yaxis": "y"
        }
       ],
       "layout": {
        "barmode": "stack",
        "barnorm": "percent",
        "legend": {
         "title": {
          "text": "Type of victory"
         },
         "tracegroupgap": 0
        },
        "template": {
         "data": {
          "bar": [
           {
            "error_x": {
             "color": "#2a3f5f"
            },
            "error_y": {
             "color": "#2a3f5f"
            },
            "marker": {
             "line": {
              "color": "#E5ECF6",
              "width": 0.5
             },
             "pattern": {
              "fillmode": "overlay",
              "size": 10,
              "solidity": 0.2
             }
            },
            "type": "bar"
           }
          ],
          "barpolar": [
           {
            "marker": {
             "line": {
              "color": "#E5ECF6",
              "width": 0.5
             },
             "pattern": {
              "fillmode": "overlay",
              "size": 10,
              "solidity": 0.2
             }
            },
            "type": "barpolar"
           }
          ],
          "carpet": [
           {
            "aaxis": {
             "endlinecolor": "#2a3f5f",
             "gridcolor": "white",
             "linecolor": "white",
             "minorgridcolor": "white",
             "startlinecolor": "#2a3f5f"
            },
            "baxis": {
             "endlinecolor": "#2a3f5f",
             "gridcolor": "white",
             "linecolor": "white",
             "minorgridcolor": "white",
             "startlinecolor": "#2a3f5f"
            },
            "type": "carpet"
           }
          ],
          "choropleth": [
           {
            "colorbar": {
             "outlinewidth": 0,
             "ticks": ""
            },
            "type": "choropleth"
           }
          ],
          "contour": [
           {
            "colorbar": {
             "outlinewidth": 0,
             "ticks": ""
            },
            "colorscale": [
             [
              0,
              "#0d0887"
             ],
             [
              0.1111111111111111,
              "#46039f"
             ],
             [
              0.2222222222222222,
              "#7201a8"
             ],
             [
              0.3333333333333333,
              "#9c179e"
             ],
             [
              0.4444444444444444,
              "#bd3786"
             ],
             [
              0.5555555555555556,
              "#d8576b"
             ],
             [
              0.6666666666666666,
              "#ed7953"
             ],
             [
              0.7777777777777778,
              "#fb9f3a"
             ],
             [
              0.8888888888888888,
              "#fdca26"
             ],
             [
              1,
              "#f0f921"
             ]
            ],
            "type": "contour"
           }
          ],
          "contourcarpet": [
           {
            "colorbar": {
             "outlinewidth": 0,
             "ticks": ""
            },
            "type": "contourcarpet"
           }
          ],
          "heatmap": [
           {
            "colorbar": {
             "outlinewidth": 0,
             "ticks": ""
            },
            "colorscale": [
             [
              0,
              "#0d0887"
             ],
             [
              0.1111111111111111,
              "#46039f"
             ],
             [
              0.2222222222222222,
              "#7201a8"
             ],
             [
              0.3333333333333333,
              "#9c179e"
             ],
             [
              0.4444444444444444,
              "#bd3786"
             ],
             [
              0.5555555555555556,
              "#d8576b"
             ],
             [
              0.6666666666666666,
              "#ed7953"
             ],
             [
              0.7777777777777778,
              "#fb9f3a"
             ],
             [
              0.8888888888888888,
              "#fdca26"
             ],
             [
              1,
              "#f0f921"
             ]
            ],
            "type": "heatmap"
           }
          ],
          "heatmapgl": [
           {
            "colorbar": {
             "outlinewidth": 0,
             "ticks": ""
            },
            "colorscale": [
             [
              0,
              "#0d0887"
             ],
             [
              0.1111111111111111,
              "#46039f"
             ],
             [
              0.2222222222222222,
              "#7201a8"
             ],
             [
              0.3333333333333333,
              "#9c179e"
             ],
             [
              0.4444444444444444,
              "#bd3786"
             ],
             [
              0.5555555555555556,
              "#d8576b"
             ],
             [
              0.6666666666666666,
              "#ed7953"
             ],
             [
              0.7777777777777778,
              "#fb9f3a"
             ],
             [
              0.8888888888888888,
              "#fdca26"
             ],
             [
              1,
              "#f0f921"
             ]
            ],
            "type": "heatmapgl"
           }
          ],
          "histogram": [
           {
            "marker": {
             "pattern": {
              "fillmode": "overlay",
              "size": 10,
              "solidity": 0.2
             }
            },
            "type": "histogram"
           }
          ],
          "histogram2d": [
           {
            "colorbar": {
             "outlinewidth": 0,
             "ticks": ""
            },
            "colorscale": [
             [
              0,
              "#0d0887"
             ],
             [
              0.1111111111111111,
              "#46039f"
             ],
             [
              0.2222222222222222,
              "#7201a8"
             ],
             [
              0.3333333333333333,
              "#9c179e"
             ],
             [
              0.4444444444444444,
              "#bd3786"
             ],
             [
              0.5555555555555556,
              "#d8576b"
             ],
             [
              0.6666666666666666,
              "#ed7953"
             ],
             [
              0.7777777777777778,
              "#fb9f3a"
             ],
             [
              0.8888888888888888,
              "#fdca26"
             ],
             [
              1,
              "#f0f921"
             ]
            ],
            "type": "histogram2d"
           }
          ],
          "histogram2dcontour": [
           {
            "colorbar": {
             "outlinewidth": 0,
             "ticks": ""
            },
            "colorscale": [
             [
              0,
              "#0d0887"
             ],
             [
              0.1111111111111111,
              "#46039f"
             ],
             [
              0.2222222222222222,
              "#7201a8"
             ],
             [
              0.3333333333333333,
              "#9c179e"
             ],
             [
              0.4444444444444444,
              "#bd3786"
             ],
             [
              0.5555555555555556,
              "#d8576b"
             ],
             [
              0.6666666666666666,
              "#ed7953"
             ],
             [
              0.7777777777777778,
              "#fb9f3a"
             ],
             [
              0.8888888888888888,
              "#fdca26"
             ],
             [
              1,
              "#f0f921"
             ]
            ],
            "type": "histogram2dcontour"
           }
          ],
          "mesh3d": [
           {
            "colorbar": {
             "outlinewidth": 0,
             "ticks": ""
            },
            "type": "mesh3d"
           }
          ],
          "parcoords": [
           {
            "line": {
             "colorbar": {
              "outlinewidth": 0,
              "ticks": ""
             }
            },
            "type": "parcoords"
           }
          ],
          "pie": [
           {
            "automargin": true,
            "type": "pie"
           }
          ],
          "scatter": [
           {
            "fillpattern": {
             "fillmode": "overlay",
             "size": 10,
             "solidity": 0.2
            },
            "type": "scatter"
           }
          ],
          "scatter3d": [
           {
            "line": {
             "colorbar": {
              "outlinewidth": 0,
              "ticks": ""
             }
            },
            "marker": {
             "colorbar": {
              "outlinewidth": 0,
              "ticks": ""
             }
            },
            "type": "scatter3d"
           }
          ],
          "scattercarpet": [
           {
            "marker": {
             "colorbar": {
              "outlinewidth": 0,
              "ticks": ""
             }
            },
            "type": "scattercarpet"
           }
          ],
          "scattergeo": [
           {
            "marker": {
             "colorbar": {
              "outlinewidth": 0,
              "ticks": ""
             }
            },
            "type": "scattergeo"
           }
          ],
          "scattergl": [
           {
            "marker": {
             "colorbar": {
              "outlinewidth": 0,
              "ticks": ""
             }
            },
            "type": "scattergl"
           }
          ],
          "scattermapbox": [
           {
            "marker": {
             "colorbar": {
              "outlinewidth": 0,
              "ticks": ""
             }
            },
            "type": "scattermapbox"
           }
          ],
          "scatterpolar": [
           {
            "marker": {
             "colorbar": {
              "outlinewidth": 0,
              "ticks": ""
             }
            },
            "type": "scatterpolar"
           }
          ],
          "scatterpolargl": [
           {
            "marker": {
             "colorbar": {
              "outlinewidth": 0,
              "ticks": ""
             }
            },
            "type": "scatterpolargl"
           }
          ],
          "scatterternary": [
           {
            "marker": {
             "colorbar": {
              "outlinewidth": 0,
              "ticks": ""
             }
            },
            "type": "scatterternary"
           }
          ],
          "surface": [
           {
            "colorbar": {
             "outlinewidth": 0,
             "ticks": ""
            },
            "colorscale": [
             [
              0,
              "#0d0887"
             ],
             [
              0.1111111111111111,
              "#46039f"
             ],
             [
              0.2222222222222222,
              "#7201a8"
             ],
             [
              0.3333333333333333,
              "#9c179e"
             ],
             [
              0.4444444444444444,
              "#bd3786"
             ],
             [
              0.5555555555555556,
              "#d8576b"
             ],
             [
              0.6666666666666666,
              "#ed7953"
             ],
             [
              0.7777777777777778,
              "#fb9f3a"
             ],
             [
              0.8888888888888888,
              "#fdca26"
             ],
             [
              1,
              "#f0f921"
             ]
            ],
            "type": "surface"
           }
          ],
          "table": [
           {
            "cells": {
             "fill": {
              "color": "#EBF0F8"
             },
             "line": {
              "color": "white"
             }
            },
            "header": {
             "fill": {
              "color": "#C8D4E3"
             },
             "line": {
              "color": "white"
             }
            },
            "type": "table"
           }
          ]
         },
         "layout": {
          "annotationdefaults": {
           "arrowcolor": "#2a3f5f",
           "arrowhead": 0,
           "arrowwidth": 1
          },
          "autotypenumbers": "strict",
          "coloraxis": {
           "colorbar": {
            "outlinewidth": 0,
            "ticks": ""
           }
          },
          "colorscale": {
           "diverging": [
            [
             0,
             "#8e0152"
            ],
            [
             0.1,
             "#c51b7d"
            ],
            [
             0.2,
             "#de77ae"
            ],
            [
             0.3,
             "#f1b6da"
            ],
            [
             0.4,
             "#fde0ef"
            ],
            [
             0.5,
             "#f7f7f7"
            ],
            [
             0.6,
             "#e6f5d0"
            ],
            [
             0.7,
             "#b8e186"
            ],
            [
             0.8,
             "#7fbc41"
            ],
            [
             0.9,
             "#4d9221"
            ],
            [
             1,
             "#276419"
            ]
           ],
           "sequential": [
            [
             0,
             "#0d0887"
            ],
            [
             0.1111111111111111,
             "#46039f"
            ],
            [
             0.2222222222222222,
             "#7201a8"
            ],
            [
             0.3333333333333333,
             "#9c179e"
            ],
            [
             0.4444444444444444,
             "#bd3786"
            ],
            [
             0.5555555555555556,
             "#d8576b"
            ],
            [
             0.6666666666666666,
             "#ed7953"
            ],
            [
             0.7777777777777778,
             "#fb9f3a"
            ],
            [
             0.8888888888888888,
             "#fdca26"
            ],
            [
             1,
             "#f0f921"
            ]
           ],
           "sequentialminus": [
            [
             0,
             "#0d0887"
            ],
            [
             0.1111111111111111,
             "#46039f"
            ],
            [
             0.2222222222222222,
             "#7201a8"
            ],
            [
             0.3333333333333333,
             "#9c179e"
            ],
            [
             0.4444444444444444,
             "#bd3786"
            ],
            [
             0.5555555555555556,
             "#d8576b"
            ],
            [
             0.6666666666666666,
             "#ed7953"
            ],
            [
             0.7777777777777778,
             "#fb9f3a"
            ],
            [
             0.8888888888888888,
             "#fdca26"
            ],
            [
             1,
             "#f0f921"
            ]
           ]
          },
          "colorway": [
           "#636efa",
           "#EF553B",
           "#00cc96",
           "#ab63fa",
           "#FFA15A",
           "#19d3f3",
           "#FF6692",
           "#B6E880",
           "#FF97FF",
           "#FECB52"
          ],
          "font": {
           "color": "#2a3f5f"
          },
          "geo": {
           "bgcolor": "white",
           "lakecolor": "white",
           "landcolor": "#E5ECF6",
           "showlakes": true,
           "showland": true,
           "subunitcolor": "white"
          },
          "hoverlabel": {
           "align": "left"
          },
          "hovermode": "closest",
          "mapbox": {
           "style": "light"
          },
          "paper_bgcolor": "white",
          "plot_bgcolor": "#E5ECF6",
          "polar": {
           "angularaxis": {
            "gridcolor": "white",
            "linecolor": "white",
            "ticks": ""
           },
           "bgcolor": "#E5ECF6",
           "radialaxis": {
            "gridcolor": "white",
            "linecolor": "white",
            "ticks": ""
           }
          },
          "scene": {
           "xaxis": {
            "backgroundcolor": "#E5ECF6",
            "gridcolor": "white",
            "gridwidth": 2,
            "linecolor": "white",
            "showbackground": true,
            "ticks": "",
            "zerolinecolor": "white"
           },
           "yaxis": {
            "backgroundcolor": "#E5ECF6",
            "gridcolor": "white",
            "gridwidth": 2,
            "linecolor": "white",
            "showbackground": true,
            "ticks": "",
            "zerolinecolor": "white"
           },
           "zaxis": {
            "backgroundcolor": "#E5ECF6",
            "gridcolor": "white",
            "gridwidth": 2,
            "linecolor": "white",
            "showbackground": true,
            "ticks": "",
            "zerolinecolor": "white"
           }
          },
          "shapedefaults": {
           "line": {
            "color": "#2a3f5f"
           }
          },
          "ternary": {
           "aaxis": {
            "gridcolor": "white",
            "linecolor": "white",
            "ticks": ""
           },
           "baxis": {
            "gridcolor": "white",
            "linecolor": "white",
            "ticks": ""
           },
           "bgcolor": "#E5ECF6",
           "caxis": {
            "gridcolor": "white",
            "linecolor": "white",
            "ticks": ""
           }
          },
          "title": {
           "x": 0.05
          },
          "xaxis": {
           "automargin": true,
           "gridcolor": "white",
           "linecolor": "white",
           "ticks": "",
           "title": {
            "standoff": 15
           },
           "zerolinecolor": "white",
           "zerolinewidth": 2
          },
          "yaxis": {
           "automargin": true,
           "gridcolor": "white",
           "linecolor": "white",
           "ticks": "",
           "title": {
            "standoff": 15
           },
           "zerolinecolor": "white",
           "zerolinewidth": 2
          }
         }
        },
        "title": {
         "text": "Distribution of win types across weight categories for males"
        },
        "xaxis": {
         "anchor": "y",
         "categoryarray": [
          "66KG",
          "77KG",
          "88KG",
          "99KG",
          "+99KG"
         ],
         "categoryorder": "array",
         "domain": [
          0,
          1
         ],
         "title": {
          "text": "Weight Class"
         }
        },
        "yaxis": {
         "anchor": "x",
         "domain": [
          0,
          1
         ],
         "ticksuffix": "%",
         "title": {
          "text": "Percentage within each weight class"
         }
        }
       }
      }
     },
     "metadata": {},
     "output_type": "display_data"
    },
    {
     "name": "stderr",
     "output_type": "stream",
     "text": [
      "C:\\Users\\lizhi\\AppData\\Local\\Temp\\ipykernel_27096\\2336435348.py:8: SettingWithCopyWarning:\n",
      "\n",
      "\n",
      "A value is trying to be set on a copy of a slice from a DataFrame.\n",
      "Try using .loc[row_indexer,col_indexer] = value instead\n",
      "\n",
      "See the caveats in the documentation: https://pandas.pydata.org/pandas-docs/stable/user_guide/indexing.html#returning-a-view-versus-a-copy\n",
      "\n"
     ]
    },
    {
     "data": {
      "application/vnd.plotly.v1+json": {
       "config": {
        "plotlyServerURL": "https://plot.ly"
       },
       "data": [
        {
         "alignmentgroup": "True",
         "bingroup": "x",
         "histfunc": "sum",
         "hovertemplate": "Type of victory=POINTS<br>Weight Class=%{x}<br>sum of percentagecount (normalized as percent)=%{y}<extra></extra>",
         "legendgroup": "POINTS",
         "marker": {
          "color": "#636efa",
          "pattern": {
           "shape": ""
          }
         },
         "name": "POINTS",
         "offsetgroup": "POINTS",
         "orientation": "v",
         "showlegend": true,
         "type": "histogram",
         "x": [
          "60KG",
          "+60KG",
          "+60KG",
          "60KG",
          "+60KG",
          "+60KG",
          "60KG",
          "60KG",
          "60KG",
          "+60KG",
          "+60KG",
          "+60KG",
          "60KG",
          "+60KG",
          "+60KG",
          "60KG",
          "60KG",
          "60KG"
         ],
         "xaxis": "x",
         "y": [
          0.01,
          0.01,
          0.01,
          0.01,
          0.01,
          0.01,
          0.01,
          0.01,
          0.01,
          0.01,
          0.01,
          0.01,
          0.01,
          0.01,
          0.01,
          0.01,
          0.01,
          0.01
         ],
         "yaxis": "y"
        },
        {
         "alignmentgroup": "True",
         "bingroup": "x",
         "histfunc": "sum",
         "hovertemplate": "Type of victory=SUBMISSION<br>Weight Class=%{x}<br>sum of percentagecount (normalized as percent)=%{y}<extra></extra>",
         "legendgroup": "SUBMISSION",
         "marker": {
          "color": "#EF553B",
          "pattern": {
           "shape": ""
          }
         },
         "name": "SUBMISSION",
         "offsetgroup": "SUBMISSION",
         "orientation": "v",
         "showlegend": true,
         "type": "histogram",
         "x": [
          "60KG",
          "+60KG",
          "+60KG",
          "60KG",
          "+60KG",
          "+60KG",
          "+60KG",
          "+60KG",
          "60KG",
          "60KG",
          "+60KG",
          "60KG",
          "60KG",
          "60KG",
          "60KG",
          "+60KG"
         ],
         "xaxis": "x",
         "y": [
          0.01,
          0.01,
          0.01,
          0.01,
          0.01,
          0.01,
          0.01,
          0.01,
          0.01,
          0.01,
          0.01,
          0.01,
          0.01,
          0.01,
          0.01,
          0.01
         ],
         "yaxis": "y"
        },
        {
         "alignmentgroup": "True",
         "bingroup": "x",
         "histfunc": "sum",
         "hovertemplate": "Type of victory=DECISION<br>Weight Class=%{x}<br>sum of percentagecount (normalized as percent)=%{y}<extra></extra>",
         "legendgroup": "DECISION",
         "marker": {
          "color": "#00cc96",
          "pattern": {
           "shape": ""
          }
         },
         "name": "DECISION",
         "offsetgroup": "DECISION",
         "orientation": "v",
         "showlegend": true,
         "type": "histogram",
         "x": [
          "60KG",
          "60KG",
          "+60KG",
          "+60KG",
          "60KG",
          "+60KG"
         ],
         "xaxis": "x",
         "y": [
          0.01,
          0.01,
          0.01,
          0.01,
          0.01,
          0.01
         ],
         "yaxis": "y"
        }
       ],
       "layout": {
        "barmode": "stack",
        "barnorm": "percent",
        "legend": {
         "title": {
          "text": "Type of victory"
         },
         "tracegroupgap": 0
        },
        "template": {
         "data": {
          "bar": [
           {
            "error_x": {
             "color": "#2a3f5f"
            },
            "error_y": {
             "color": "#2a3f5f"
            },
            "marker": {
             "line": {
              "color": "#E5ECF6",
              "width": 0.5
             },
             "pattern": {
              "fillmode": "overlay",
              "size": 10,
              "solidity": 0.2
             }
            },
            "type": "bar"
           }
          ],
          "barpolar": [
           {
            "marker": {
             "line": {
              "color": "#E5ECF6",
              "width": 0.5
             },
             "pattern": {
              "fillmode": "overlay",
              "size": 10,
              "solidity": 0.2
             }
            },
            "type": "barpolar"
           }
          ],
          "carpet": [
           {
            "aaxis": {
             "endlinecolor": "#2a3f5f",
             "gridcolor": "white",
             "linecolor": "white",
             "minorgridcolor": "white",
             "startlinecolor": "#2a3f5f"
            },
            "baxis": {
             "endlinecolor": "#2a3f5f",
             "gridcolor": "white",
             "linecolor": "white",
             "minorgridcolor": "white",
             "startlinecolor": "#2a3f5f"
            },
            "type": "carpet"
           }
          ],
          "choropleth": [
           {
            "colorbar": {
             "outlinewidth": 0,
             "ticks": ""
            },
            "type": "choropleth"
           }
          ],
          "contour": [
           {
            "colorbar": {
             "outlinewidth": 0,
             "ticks": ""
            },
            "colorscale": [
             [
              0,
              "#0d0887"
             ],
             [
              0.1111111111111111,
              "#46039f"
             ],
             [
              0.2222222222222222,
              "#7201a8"
             ],
             [
              0.3333333333333333,
              "#9c179e"
             ],
             [
              0.4444444444444444,
              "#bd3786"
             ],
             [
              0.5555555555555556,
              "#d8576b"
             ],
             [
              0.6666666666666666,
              "#ed7953"
             ],
             [
              0.7777777777777778,
              "#fb9f3a"
             ],
             [
              0.8888888888888888,
              "#fdca26"
             ],
             [
              1,
              "#f0f921"
             ]
            ],
            "type": "contour"
           }
          ],
          "contourcarpet": [
           {
            "colorbar": {
             "outlinewidth": 0,
             "ticks": ""
            },
            "type": "contourcarpet"
           }
          ],
          "heatmap": [
           {
            "colorbar": {
             "outlinewidth": 0,
             "ticks": ""
            },
            "colorscale": [
             [
              0,
              "#0d0887"
             ],
             [
              0.1111111111111111,
              "#46039f"
             ],
             [
              0.2222222222222222,
              "#7201a8"
             ],
             [
              0.3333333333333333,
              "#9c179e"
             ],
             [
              0.4444444444444444,
              "#bd3786"
             ],
             [
              0.5555555555555556,
              "#d8576b"
             ],
             [
              0.6666666666666666,
              "#ed7953"
             ],
             [
              0.7777777777777778,
              "#fb9f3a"
             ],
             [
              0.8888888888888888,
              "#fdca26"
             ],
             [
              1,
              "#f0f921"
             ]
            ],
            "type": "heatmap"
           }
          ],
          "heatmapgl": [
           {
            "colorbar": {
             "outlinewidth": 0,
             "ticks": ""
            },
            "colorscale": [
             [
              0,
              "#0d0887"
             ],
             [
              0.1111111111111111,
              "#46039f"
             ],
             [
              0.2222222222222222,
              "#7201a8"
             ],
             [
              0.3333333333333333,
              "#9c179e"
             ],
             [
              0.4444444444444444,
              "#bd3786"
             ],
             [
              0.5555555555555556,
              "#d8576b"
             ],
             [
              0.6666666666666666,
              "#ed7953"
             ],
             [
              0.7777777777777778,
              "#fb9f3a"
             ],
             [
              0.8888888888888888,
              "#fdca26"
             ],
             [
              1,
              "#f0f921"
             ]
            ],
            "type": "heatmapgl"
           }
          ],
          "histogram": [
           {
            "marker": {
             "pattern": {
              "fillmode": "overlay",
              "size": 10,
              "solidity": 0.2
             }
            },
            "type": "histogram"
           }
          ],
          "histogram2d": [
           {
            "colorbar": {
             "outlinewidth": 0,
             "ticks": ""
            },
            "colorscale": [
             [
              0,
              "#0d0887"
             ],
             [
              0.1111111111111111,
              "#46039f"
             ],
             [
              0.2222222222222222,
              "#7201a8"
             ],
             [
              0.3333333333333333,
              "#9c179e"
             ],
             [
              0.4444444444444444,
              "#bd3786"
             ],
             [
              0.5555555555555556,
              "#d8576b"
             ],
             [
              0.6666666666666666,
              "#ed7953"
             ],
             [
              0.7777777777777778,
              "#fb9f3a"
             ],
             [
              0.8888888888888888,
              "#fdca26"
             ],
             [
              1,
              "#f0f921"
             ]
            ],
            "type": "histogram2d"
           }
          ],
          "histogram2dcontour": [
           {
            "colorbar": {
             "outlinewidth": 0,
             "ticks": ""
            },
            "colorscale": [
             [
              0,
              "#0d0887"
             ],
             [
              0.1111111111111111,
              "#46039f"
             ],
             [
              0.2222222222222222,
              "#7201a8"
             ],
             [
              0.3333333333333333,
              "#9c179e"
             ],
             [
              0.4444444444444444,
              "#bd3786"
             ],
             [
              0.5555555555555556,
              "#d8576b"
             ],
             [
              0.6666666666666666,
              "#ed7953"
             ],
             [
              0.7777777777777778,
              "#fb9f3a"
             ],
             [
              0.8888888888888888,
              "#fdca26"
             ],
             [
              1,
              "#f0f921"
             ]
            ],
            "type": "histogram2dcontour"
           }
          ],
          "mesh3d": [
           {
            "colorbar": {
             "outlinewidth": 0,
             "ticks": ""
            },
            "type": "mesh3d"
           }
          ],
          "parcoords": [
           {
            "line": {
             "colorbar": {
              "outlinewidth": 0,
              "ticks": ""
             }
            },
            "type": "parcoords"
           }
          ],
          "pie": [
           {
            "automargin": true,
            "type": "pie"
           }
          ],
          "scatter": [
           {
            "fillpattern": {
             "fillmode": "overlay",
             "size": 10,
             "solidity": 0.2
            },
            "type": "scatter"
           }
          ],
          "scatter3d": [
           {
            "line": {
             "colorbar": {
              "outlinewidth": 0,
              "ticks": ""
             }
            },
            "marker": {
             "colorbar": {
              "outlinewidth": 0,
              "ticks": ""
             }
            },
            "type": "scatter3d"
           }
          ],
          "scattercarpet": [
           {
            "marker": {
             "colorbar": {
              "outlinewidth": 0,
              "ticks": ""
             }
            },
            "type": "scattercarpet"
           }
          ],
          "scattergeo": [
           {
            "marker": {
             "colorbar": {
              "outlinewidth": 0,
              "ticks": ""
             }
            },
            "type": "scattergeo"
           }
          ],
          "scattergl": [
           {
            "marker": {
             "colorbar": {
              "outlinewidth": 0,
              "ticks": ""
             }
            },
            "type": "scattergl"
           }
          ],
          "scattermapbox": [
           {
            "marker": {
             "colorbar": {
              "outlinewidth": 0,
              "ticks": ""
             }
            },
            "type": "scattermapbox"
           }
          ],
          "scatterpolar": [
           {
            "marker": {
             "colorbar": {
              "outlinewidth": 0,
              "ticks": ""
             }
            },
            "type": "scatterpolar"
           }
          ],
          "scatterpolargl": [
           {
            "marker": {
             "colorbar": {
              "outlinewidth": 0,
              "ticks": ""
             }
            },
            "type": "scatterpolargl"
           }
          ],
          "scatterternary": [
           {
            "marker": {
             "colorbar": {
              "outlinewidth": 0,
              "ticks": ""
             }
            },
            "type": "scatterternary"
           }
          ],
          "surface": [
           {
            "colorbar": {
             "outlinewidth": 0,
             "ticks": ""
            },
            "colorscale": [
             [
              0,
              "#0d0887"
             ],
             [
              0.1111111111111111,
              "#46039f"
             ],
             [
              0.2222222222222222,
              "#7201a8"
             ],
             [
              0.3333333333333333,
              "#9c179e"
             ],
             [
              0.4444444444444444,
              "#bd3786"
             ],
             [
              0.5555555555555556,
              "#d8576b"
             ],
             [
              0.6666666666666666,
              "#ed7953"
             ],
             [
              0.7777777777777778,
              "#fb9f3a"
             ],
             [
              0.8888888888888888,
              "#fdca26"
             ],
             [
              1,
              "#f0f921"
             ]
            ],
            "type": "surface"
           }
          ],
          "table": [
           {
            "cells": {
             "fill": {
              "color": "#EBF0F8"
             },
             "line": {
              "color": "white"
             }
            },
            "header": {
             "fill": {
              "color": "#C8D4E3"
             },
             "line": {
              "color": "white"
             }
            },
            "type": "table"
           }
          ]
         },
         "layout": {
          "annotationdefaults": {
           "arrowcolor": "#2a3f5f",
           "arrowhead": 0,
           "arrowwidth": 1
          },
          "autotypenumbers": "strict",
          "coloraxis": {
           "colorbar": {
            "outlinewidth": 0,
            "ticks": ""
           }
          },
          "colorscale": {
           "diverging": [
            [
             0,
             "#8e0152"
            ],
            [
             0.1,
             "#c51b7d"
            ],
            [
             0.2,
             "#de77ae"
            ],
            [
             0.3,
             "#f1b6da"
            ],
            [
             0.4,
             "#fde0ef"
            ],
            [
             0.5,
             "#f7f7f7"
            ],
            [
             0.6,
             "#e6f5d0"
            ],
            [
             0.7,
             "#b8e186"
            ],
            [
             0.8,
             "#7fbc41"
            ],
            [
             0.9,
             "#4d9221"
            ],
            [
             1,
             "#276419"
            ]
           ],
           "sequential": [
            [
             0,
             "#0d0887"
            ],
            [
             0.1111111111111111,
             "#46039f"
            ],
            [
             0.2222222222222222,
             "#7201a8"
            ],
            [
             0.3333333333333333,
             "#9c179e"
            ],
            [
             0.4444444444444444,
             "#bd3786"
            ],
            [
             0.5555555555555556,
             "#d8576b"
            ],
            [
             0.6666666666666666,
             "#ed7953"
            ],
            [
             0.7777777777777778,
             "#fb9f3a"
            ],
            [
             0.8888888888888888,
             "#fdca26"
            ],
            [
             1,
             "#f0f921"
            ]
           ],
           "sequentialminus": [
            [
             0,
             "#0d0887"
            ],
            [
             0.1111111111111111,
             "#46039f"
            ],
            [
             0.2222222222222222,
             "#7201a8"
            ],
            [
             0.3333333333333333,
             "#9c179e"
            ],
            [
             0.4444444444444444,
             "#bd3786"
            ],
            [
             0.5555555555555556,
             "#d8576b"
            ],
            [
             0.6666666666666666,
             "#ed7953"
            ],
            [
             0.7777777777777778,
             "#fb9f3a"
            ],
            [
             0.8888888888888888,
             "#fdca26"
            ],
            [
             1,
             "#f0f921"
            ]
           ]
          },
          "colorway": [
           "#636efa",
           "#EF553B",
           "#00cc96",
           "#ab63fa",
           "#FFA15A",
           "#19d3f3",
           "#FF6692",
           "#B6E880",
           "#FF97FF",
           "#FECB52"
          ],
          "font": {
           "color": "#2a3f5f"
          },
          "geo": {
           "bgcolor": "white",
           "lakecolor": "white",
           "landcolor": "#E5ECF6",
           "showlakes": true,
           "showland": true,
           "subunitcolor": "white"
          },
          "hoverlabel": {
           "align": "left"
          },
          "hovermode": "closest",
          "mapbox": {
           "style": "light"
          },
          "paper_bgcolor": "white",
          "plot_bgcolor": "#E5ECF6",
          "polar": {
           "angularaxis": {
            "gridcolor": "white",
            "linecolor": "white",
            "ticks": ""
           },
           "bgcolor": "#E5ECF6",
           "radialaxis": {
            "gridcolor": "white",
            "linecolor": "white",
            "ticks": ""
           }
          },
          "scene": {
           "xaxis": {
            "backgroundcolor": "#E5ECF6",
            "gridcolor": "white",
            "gridwidth": 2,
            "linecolor": "white",
            "showbackground": true,
            "ticks": "",
            "zerolinecolor": "white"
           },
           "yaxis": {
            "backgroundcolor": "#E5ECF6",
            "gridcolor": "white",
            "gridwidth": 2,
            "linecolor": "white",
            "showbackground": true,
            "ticks": "",
            "zerolinecolor": "white"
           },
           "zaxis": {
            "backgroundcolor": "#E5ECF6",
            "gridcolor": "white",
            "gridwidth": 2,
            "linecolor": "white",
            "showbackground": true,
            "ticks": "",
            "zerolinecolor": "white"
           }
          },
          "shapedefaults": {
           "line": {
            "color": "#2a3f5f"
           }
          },
          "ternary": {
           "aaxis": {
            "gridcolor": "white",
            "linecolor": "white",
            "ticks": ""
           },
           "baxis": {
            "gridcolor": "white",
            "linecolor": "white",
            "ticks": ""
           },
           "bgcolor": "#E5ECF6",
           "caxis": {
            "gridcolor": "white",
            "linecolor": "white",
            "ticks": ""
           }
          },
          "title": {
           "x": 0.05
          },
          "xaxis": {
           "automargin": true,
           "gridcolor": "white",
           "linecolor": "white",
           "ticks": "",
           "title": {
            "standoff": 15
           },
           "zerolinecolor": "white",
           "zerolinewidth": 2
          },
          "yaxis": {
           "automargin": true,
           "gridcolor": "white",
           "linecolor": "white",
           "ticks": "",
           "title": {
            "standoff": 15
           },
           "zerolinecolor": "white",
           "zerolinewidth": 2
          }
         }
        },
        "title": {
         "text": "Distribution of win types across weight categories for females"
        },
        "xaxis": {
         "anchor": "y",
         "categoryarray": [
          "60KG",
          "+60KG"
         ],
         "categoryorder": "array",
         "domain": [
          0,
          1
         ],
         "title": {
          "text": "Weight Class"
         }
        },
        "yaxis": {
         "anchor": "x",
         "domain": [
          0,
          1
         ],
         "ticksuffix": "%",
         "title": {
          "text": "Percentage within each weight class"
         }
        }
       }
      }
     },
     "metadata": {},
     "output_type": "display_data"
    }
   ],
   "source": [
    "#df.shape\n",
    "dfm['percentagecount']=(0.01)\n",
    "figm = px.histogram(dfm, x='weight_class', y='percentagecount', title = 'Distribution of win types across weight categories for males', color='win_type', barmode='stack', barnorm='percent',labels=dict(weight_class='Weight Class', y=\"Percentage\", win_type=\"Type of victory\"))\n",
    "figm.update_layout(yaxis_ticksuffix = '%', yaxis_title= 'Percentage within each weight class')\n",
    "figm.update_xaxes(categoryorder='array', categoryarray= ['66KG', '77KG', '88KG', '99KG', '+99KG'])\n",
    "figm.show()\n",
    "\n",
    "dff['percentagecount']=(0.01)\n",
    "figf = px.histogram(dff, x='weight_class', y='percentagecount', title = 'Distribution of win types across weight categories for females', color='win_type', barmode='stack', barnorm='percent',labels=dict(weight_class='Weight Class', y=\"Percentage\", win_type=\"Type of victory\"))\n",
    "figf.update_layout(yaxis_ticksuffix = '%', yaxis_title= 'Percentage within each weight class')\n",
    "figf.update_xaxes(categoryorder='array', categoryarray= ['60KG', '+60KG'])\n",
    "figf.show()\n"
   ]
  },
  {
   "cell_type": "code",
   "execution_count": null,
   "metadata": {},
   "outputs": [],
   "source": []
  }
 ],
 "metadata": {
  "kernelspec": {
   "display_name": "base",
   "language": "python",
   "name": "python3"
  },
  "language_info": {
   "codemirror_mode": {
    "name": "ipython",
    "version": 3
   },
   "file_extension": ".py",
   "mimetype": "text/x-python",
   "name": "python",
   "nbconvert_exporter": "python",
   "pygments_lexer": "ipython3",
   "version": "3.11.4"
  },
  "orig_nbformat": 4
 },
 "nbformat": 4,
 "nbformat_minor": 2
}
