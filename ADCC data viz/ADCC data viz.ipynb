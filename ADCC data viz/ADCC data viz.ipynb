{
 "cells": [
  {
   "cell_type": "code",
   "execution_count": 1,
   "metadata": {},
   "outputs": [],
   "source": [
    "import pandas as pd \n",
    "import numpy as np \n",
    "import seaborn as sns\n",
    "import plotly.express as px\n",
    "import plotly.subplots as sp\n",
    "import plotly.graph_objects as go\n",
    "import warnings\n",
    "warnings.filterwarnings('ignore')\n",
    " "
   ]
  },
  {
   "cell_type": "markdown",
   "metadata": {},
   "source": [
    "### **Background info**\n",
    "\n",
    "**Brazilian Jiu-Jitsu (BJJ)** is a martial art that focuses on wrestling or throwing an opponent to the ground. While on the ground, the athlete aims to achieve a submission victory. A submission victory occurs when an athlete puts his opponent into a joint lock or a choke, and the submitted opponent signals defeat by *tapping on his opponent or the mat.*\n",
    "\n",
    "[![BJJ match](https://upload.wikimedia.org/wikipedia/commons/2/22/GABRIEL_VELLA_vs_ROMINHO_51.jpg \"The athlete on the bottom has caught his opponent in a choke, click for more info\")](https://en.wikipedia.org/wiki/Brazilian_jiu-jitsu)\n",
    "\n",
    "***Click image for more info***\n",
    "\n",
    "This data visualization aims to perform a data analysis to find the most common types of submissions that occurs in one of the most popular BJJ competitions, the *Abu-Dhabi Combat Club Submission Fighting World Championship (ADCC).*\n",
    "\n",
    "This data analysis will be useful to anyone practicing BJJ as it will help them understand which are the most common submissions that are succesful in the sport. They can then focus their efforts on learning or defending against these submissions. \n",
    "\n",
    "A separate app was built to present the data in an easy-to-understand and engaging way."
   ]
  },
  {
   "cell_type": "markdown",
   "metadata": {},
   "source": [
    "### Data source\n",
    "The raw CSV file was obtained from Kaggle.com\n",
    "\n",
    "https://www.kaggle.com/datasets/bjagrelli/adcc-historical-dataset\n",
    "\n",
    "Now we have to clean the data and prepare it."
   ]
  },
  {
   "cell_type": "code",
   "execution_count": 2,
   "metadata": {},
   "outputs": [],
   "source": [
    "url = 'https://raw.githubusercontent.com/lizh1988/portfolio/main/ADCC%20data%20viz/adcc_historical_data.csv'\n",
    "\n",
    "df = pd.read_csv(url, sep = ';')"
   ]
  },
  {
   "cell_type": "markdown",
   "metadata": {},
   "source": [
    "The dataframe should first be checked to ensure that it read the CSV file correctly."
   ]
  },
  {
   "cell_type": "code",
   "execution_count": 3,
   "metadata": {},
   "outputs": [
    {
     "data": {
      "text/html": [
       "<div>\n",
       "<style scoped>\n",
       "    .dataframe tbody tr th:only-of-type {\n",
       "        vertical-align: middle;\n",
       "    }\n",
       "\n",
       "    .dataframe tbody tr th {\n",
       "        vertical-align: top;\n",
       "    }\n",
       "\n",
       "    .dataframe thead th {\n",
       "        text-align: right;\n",
       "    }\n",
       "</style>\n",
       "<table border=\"1\" class=\"dataframe\">\n",
       "  <thead>\n",
       "    <tr style=\"text-align: right;\">\n",
       "      <th></th>\n",
       "      <th>match_id</th>\n",
       "      <th>winner_id</th>\n",
       "      <th>winner_name</th>\n",
       "      <th>loser_id</th>\n",
       "      <th>loser_name</th>\n",
       "      <th>win_type</th>\n",
       "      <th>submission</th>\n",
       "      <th>winner_points</th>\n",
       "      <th>loser_points</th>\n",
       "      <th>adv_pen</th>\n",
       "      <th>weight_class</th>\n",
       "      <th>sex</th>\n",
       "      <th>stage</th>\n",
       "      <th>year</th>\n",
       "    </tr>\n",
       "  </thead>\n",
       "  <tbody>\n",
       "    <tr>\n",
       "      <th>0</th>\n",
       "      <td>3314</td>\n",
       "      <td>484</td>\n",
       "      <td>Murilo Santana</td>\n",
       "      <td>733</td>\n",
       "      <td>Vinicius Magalhaes</td>\n",
       "      <td>DECISION</td>\n",
       "      <td>NaN</td>\n",
       "      <td>-1</td>\n",
       "      <td>-1</td>\n",
       "      <td>NaN</td>\n",
       "      <td>ABS</td>\n",
       "      <td>M</td>\n",
       "      <td>4F</td>\n",
       "      <td>2011</td>\n",
       "    </tr>\n",
       "    <tr>\n",
       "      <th>1</th>\n",
       "      <td>35049</td>\n",
       "      <td>7507</td>\n",
       "      <td>Nicholas Meregali</td>\n",
       "      <td>9554</td>\n",
       "      <td>Henrique Cardoso</td>\n",
       "      <td>SUBMISSION</td>\n",
       "      <td>Kimura</td>\n",
       "      <td>-1</td>\n",
       "      <td>-1</td>\n",
       "      <td>NaN</td>\n",
       "      <td>99KG</td>\n",
       "      <td>M</td>\n",
       "      <td>R1</td>\n",
       "      <td>2022</td>\n",
       "    </tr>\n",
       "    <tr>\n",
       "      <th>2</th>\n",
       "      <td>35053</td>\n",
       "      <td>7507</td>\n",
       "      <td>Nicholas Meregali</td>\n",
       "      <td>1740</td>\n",
       "      <td>Yuri Simoes</td>\n",
       "      <td>DECISION</td>\n",
       "      <td>NaN</td>\n",
       "      <td>-1</td>\n",
       "      <td>-1</td>\n",
       "      <td>NaN</td>\n",
       "      <td>99KG</td>\n",
       "      <td>M</td>\n",
       "      <td>4F</td>\n",
       "      <td>2022</td>\n",
       "    </tr>\n",
       "    <tr>\n",
       "      <th>3</th>\n",
       "      <td>35057</td>\n",
       "      <td>7507</td>\n",
       "      <td>Nicholas Meregali</td>\n",
       "      <td>576</td>\n",
       "      <td>Rafael Lovato Jr</td>\n",
       "      <td>POINTS</td>\n",
       "      <td>NaN</td>\n",
       "      <td>0</td>\n",
       "      <td>0</td>\n",
       "      <td>PEN</td>\n",
       "      <td>99KG</td>\n",
       "      <td>M</td>\n",
       "      <td>3RD</td>\n",
       "      <td>2022</td>\n",
       "    </tr>\n",
       "    <tr>\n",
       "      <th>4</th>\n",
       "      <td>35096</td>\n",
       "      <td>7507</td>\n",
       "      <td>Nicholas Meregali</td>\n",
       "      <td>11797</td>\n",
       "      <td>Giancarlo Bodoni</td>\n",
       "      <td>POINTS</td>\n",
       "      <td>NaN</td>\n",
       "      <td>6</td>\n",
       "      <td>2</td>\n",
       "      <td>NaN</td>\n",
       "      <td>ABS</td>\n",
       "      <td>M</td>\n",
       "      <td>4F</td>\n",
       "      <td>2022</td>\n",
       "    </tr>\n",
       "    <tr>\n",
       "      <th>...</th>\n",
       "      <td>...</td>\n",
       "      <td>...</td>\n",
       "      <td>...</td>\n",
       "      <td>...</td>\n",
       "      <td>...</td>\n",
       "      <td>...</td>\n",
       "      <td>...</td>\n",
       "      <td>...</td>\n",
       "      <td>...</td>\n",
       "      <td>...</td>\n",
       "      <td>...</td>\n",
       "      <td>...</td>\n",
       "      <td>...</td>\n",
       "      <td>...</td>\n",
       "    </tr>\n",
       "    <tr>\n",
       "      <th>1023</th>\n",
       "      <td>368</td>\n",
       "      <td>6438</td>\n",
       "      <td>Hayato Sakurai</td>\n",
       "      <td>6167</td>\n",
       "      <td>Ricco Rodriguez</td>\n",
       "      <td>SUBMISSION</td>\n",
       "      <td>Heel hook</td>\n",
       "      <td>-1</td>\n",
       "      <td>-1</td>\n",
       "      <td>NaN</td>\n",
       "      <td>ABS</td>\n",
       "      <td>M</td>\n",
       "      <td>SF</td>\n",
       "      <td>1999</td>\n",
       "    </tr>\n",
       "    <tr>\n",
       "      <th>1024</th>\n",
       "      <td>818</td>\n",
       "      <td>-1</td>\n",
       "      <td>A. Cacareco</td>\n",
       "      <td>559</td>\n",
       "      <td>Rodrigo Medeiros</td>\n",
       "      <td>SUBMISSION</td>\n",
       "      <td>Guillotine</td>\n",
       "      <td>-1</td>\n",
       "      <td>-1</td>\n",
       "      <td>NaN</td>\n",
       "      <td>ABS</td>\n",
       "      <td>M</td>\n",
       "      <td>R2</td>\n",
       "      <td>2003</td>\n",
       "    </tr>\n",
       "    <tr>\n",
       "      <th>1025</th>\n",
       "      <td>341</td>\n",
       "      <td>-1</td>\n",
       "      <td>Jeff Monson</td>\n",
       "      <td>481</td>\n",
       "      <td>Saulo Ribeiro</td>\n",
       "      <td>POINTS</td>\n",
       "      <td>NaN</td>\n",
       "      <td>-1</td>\n",
       "      <td>-1</td>\n",
       "      <td>NaN</td>\n",
       "      <td>99KG</td>\n",
       "      <td>M</td>\n",
       "      <td>F</td>\n",
       "      <td>1999</td>\n",
       "    </tr>\n",
       "    <tr>\n",
       "      <th>1026</th>\n",
       "      <td>35076</td>\n",
       "      <td>1119</td>\n",
       "      <td>Beatriz Mesquita</td>\n",
       "      <td>9271</td>\n",
       "      <td>Mayssa Bastos</td>\n",
       "      <td>POINTS</td>\n",
       "      <td>NaN</td>\n",
       "      <td>3</td>\n",
       "      <td>0</td>\n",
       "      <td>NaN</td>\n",
       "      <td>60KG</td>\n",
       "      <td>F</td>\n",
       "      <td>4F</td>\n",
       "      <td>2022</td>\n",
       "    </tr>\n",
       "    <tr>\n",
       "      <th>1027</th>\n",
       "      <td>340</td>\n",
       "      <td>-1</td>\n",
       "      <td>Jeff Monson</td>\n",
       "      <td>1817</td>\n",
       "      <td>Rigan Machado</td>\n",
       "      <td>POINTS</td>\n",
       "      <td>NaN</td>\n",
       "      <td>-1</td>\n",
       "      <td>-1</td>\n",
       "      <td>NaN</td>\n",
       "      <td>99KG</td>\n",
       "      <td>M</td>\n",
       "      <td>SF</td>\n",
       "      <td>1999</td>\n",
       "    </tr>\n",
       "  </tbody>\n",
       "</table>\n",
       "<p>1028 rows × 14 columns</p>\n",
       "</div>"
      ],
      "text/plain": [
       "      match_id  winner_id        winner_name  loser_id          loser_name  \\\n",
       "0         3314        484     Murilo Santana       733  Vinicius Magalhaes   \n",
       "1        35049       7507  Nicholas Meregali      9554    Henrique Cardoso   \n",
       "2        35053       7507  Nicholas Meregali      1740         Yuri Simoes   \n",
       "3        35057       7507  Nicholas Meregali       576    Rafael Lovato Jr   \n",
       "4        35096       7507  Nicholas Meregali     11797    Giancarlo Bodoni   \n",
       "...        ...        ...                ...       ...                 ...   \n",
       "1023       368       6438     Hayato Sakurai      6167     Ricco Rodriguez   \n",
       "1024       818         -1        A. Cacareco       559    Rodrigo Medeiros   \n",
       "1025       341         -1        Jeff Monson       481       Saulo Ribeiro   \n",
       "1026     35076       1119   Beatriz Mesquita      9271       Mayssa Bastos   \n",
       "1027       340         -1        Jeff Monson      1817       Rigan Machado   \n",
       "\n",
       "        win_type  submission  winner_points  loser_points adv_pen  \\\n",
       "0       DECISION         NaN             -1            -1     NaN   \n",
       "1     SUBMISSION      Kimura             -1            -1     NaN   \n",
       "2       DECISION         NaN             -1            -1     NaN   \n",
       "3         POINTS         NaN              0             0     PEN   \n",
       "4         POINTS         NaN              6             2     NaN   \n",
       "...          ...         ...            ...           ...     ...   \n",
       "1023  SUBMISSION   Heel hook             -1            -1     NaN   \n",
       "1024  SUBMISSION  Guillotine             -1            -1     NaN   \n",
       "1025      POINTS         NaN             -1            -1     NaN   \n",
       "1026      POINTS         NaN              3             0     NaN   \n",
       "1027      POINTS         NaN             -1            -1     NaN   \n",
       "\n",
       "     weight_class sex stage  year  \n",
       "0             ABS   M    4F  2011  \n",
       "1            99KG   M    R1  2022  \n",
       "2            99KG   M    4F  2022  \n",
       "3            99KG   M   3RD  2022  \n",
       "4             ABS   M    4F  2022  \n",
       "...           ...  ..   ...   ...  \n",
       "1023          ABS   M    SF  1999  \n",
       "1024          ABS   M    R2  2003  \n",
       "1025         99KG   M     F  1999  \n",
       "1026         60KG   F    4F  2022  \n",
       "1027         99KG   M    SF  1999  \n",
       "\n",
       "[1028 rows x 14 columns]"
      ]
     },
     "execution_count": 3,
     "metadata": {},
     "output_type": "execute_result"
    }
   ],
   "source": [
    "df"
   ]
  },
  {
   "cell_type": "markdown",
   "metadata": {},
   "source": [
    "The match_id, winner_id, loser_id, winner_name and loser_name will be dropped from the dataframe as we would assign equal weightage to all matches (i.e. the superstars' matches will be treated the same as lesser known athletes)."
   ]
  },
  {
   "cell_type": "code",
   "execution_count": 4,
   "metadata": {},
   "outputs": [
    {
     "data": {
      "text/html": [
       "<div>\n",
       "<style scoped>\n",
       "    .dataframe tbody tr th:only-of-type {\n",
       "        vertical-align: middle;\n",
       "    }\n",
       "\n",
       "    .dataframe tbody tr th {\n",
       "        vertical-align: top;\n",
       "    }\n",
       "\n",
       "    .dataframe thead th {\n",
       "        text-align: right;\n",
       "    }\n",
       "</style>\n",
       "<table border=\"1\" class=\"dataframe\">\n",
       "  <thead>\n",
       "    <tr style=\"text-align: right;\">\n",
       "      <th></th>\n",
       "      <th>win_type</th>\n",
       "      <th>submission</th>\n",
       "      <th>winner_points</th>\n",
       "      <th>loser_points</th>\n",
       "      <th>adv_pen</th>\n",
       "      <th>weight_class</th>\n",
       "      <th>sex</th>\n",
       "      <th>stage</th>\n",
       "      <th>year</th>\n",
       "    </tr>\n",
       "  </thead>\n",
       "  <tbody>\n",
       "    <tr>\n",
       "      <th>0</th>\n",
       "      <td>DECISION</td>\n",
       "      <td>NaN</td>\n",
       "      <td>-1</td>\n",
       "      <td>-1</td>\n",
       "      <td>NaN</td>\n",
       "      <td>ABS</td>\n",
       "      <td>M</td>\n",
       "      <td>4F</td>\n",
       "      <td>2011</td>\n",
       "    </tr>\n",
       "    <tr>\n",
       "      <th>1</th>\n",
       "      <td>SUBMISSION</td>\n",
       "      <td>Kimura</td>\n",
       "      <td>-1</td>\n",
       "      <td>-1</td>\n",
       "      <td>NaN</td>\n",
       "      <td>99KG</td>\n",
       "      <td>M</td>\n",
       "      <td>R1</td>\n",
       "      <td>2022</td>\n",
       "    </tr>\n",
       "    <tr>\n",
       "      <th>2</th>\n",
       "      <td>DECISION</td>\n",
       "      <td>NaN</td>\n",
       "      <td>-1</td>\n",
       "      <td>-1</td>\n",
       "      <td>NaN</td>\n",
       "      <td>99KG</td>\n",
       "      <td>M</td>\n",
       "      <td>4F</td>\n",
       "      <td>2022</td>\n",
       "    </tr>\n",
       "    <tr>\n",
       "      <th>3</th>\n",
       "      <td>POINTS</td>\n",
       "      <td>NaN</td>\n",
       "      <td>0</td>\n",
       "      <td>0</td>\n",
       "      <td>PEN</td>\n",
       "      <td>99KG</td>\n",
       "      <td>M</td>\n",
       "      <td>3RD</td>\n",
       "      <td>2022</td>\n",
       "    </tr>\n",
       "    <tr>\n",
       "      <th>4</th>\n",
       "      <td>POINTS</td>\n",
       "      <td>NaN</td>\n",
       "      <td>6</td>\n",
       "      <td>2</td>\n",
       "      <td>NaN</td>\n",
       "      <td>ABS</td>\n",
       "      <td>M</td>\n",
       "      <td>4F</td>\n",
       "      <td>2022</td>\n",
       "    </tr>\n",
       "    <tr>\n",
       "      <th>5</th>\n",
       "      <td>DECISION</td>\n",
       "      <td>NaN</td>\n",
       "      <td>-1</td>\n",
       "      <td>-1</td>\n",
       "      <td>NaN</td>\n",
       "      <td>ABS</td>\n",
       "      <td>M</td>\n",
       "      <td>SF</td>\n",
       "      <td>2022</td>\n",
       "    </tr>\n",
       "    <tr>\n",
       "      <th>6</th>\n",
       "      <td>DECISION</td>\n",
       "      <td>NaN</td>\n",
       "      <td>-1</td>\n",
       "      <td>-1</td>\n",
       "      <td>NaN</td>\n",
       "      <td>+99KG</td>\n",
       "      <td>M</td>\n",
       "      <td>R1</td>\n",
       "      <td>2019</td>\n",
       "    </tr>\n",
       "    <tr>\n",
       "      <th>7</th>\n",
       "      <td>POINTS</td>\n",
       "      <td>NaN</td>\n",
       "      <td>0</td>\n",
       "      <td>0</td>\n",
       "      <td>PEN</td>\n",
       "      <td>+99KG</td>\n",
       "      <td>M</td>\n",
       "      <td>4F</td>\n",
       "      <td>2019</td>\n",
       "    </tr>\n",
       "    <tr>\n",
       "      <th>8</th>\n",
       "      <td>DECISION</td>\n",
       "      <td>NaN</td>\n",
       "      <td>-1</td>\n",
       "      <td>-1</td>\n",
       "      <td>NaN</td>\n",
       "      <td>+99KG</td>\n",
       "      <td>M</td>\n",
       "      <td>SF</td>\n",
       "      <td>2019</td>\n",
       "    </tr>\n",
       "    <tr>\n",
       "      <th>9</th>\n",
       "      <td>POINTS</td>\n",
       "      <td>NaN</td>\n",
       "      <td>3</td>\n",
       "      <td>0</td>\n",
       "      <td>NaN</td>\n",
       "      <td>+99KG</td>\n",
       "      <td>M</td>\n",
       "      <td>SF</td>\n",
       "      <td>2022</td>\n",
       "    </tr>\n",
       "    <tr>\n",
       "      <th>10</th>\n",
       "      <td>POINTS</td>\n",
       "      <td>NaN</td>\n",
       "      <td>17</td>\n",
       "      <td>0</td>\n",
       "      <td>NaN</td>\n",
       "      <td>ABS</td>\n",
       "      <td>M</td>\n",
       "      <td>8F</td>\n",
       "      <td>2022</td>\n",
       "    </tr>\n",
       "    <tr>\n",
       "      <th>11</th>\n",
       "      <td>POINTS</td>\n",
       "      <td>NaN</td>\n",
       "      <td>-1</td>\n",
       "      <td>-1</td>\n",
       "      <td>NaN</td>\n",
       "      <td>77KG</td>\n",
       "      <td>M</td>\n",
       "      <td>SF</td>\n",
       "      <td>2013</td>\n",
       "    </tr>\n",
       "    <tr>\n",
       "      <th>12</th>\n",
       "      <td>DECISION</td>\n",
       "      <td>NaN</td>\n",
       "      <td>-1</td>\n",
       "      <td>-1</td>\n",
       "      <td>NaN</td>\n",
       "      <td>77KG</td>\n",
       "      <td>M</td>\n",
       "      <td>4F</td>\n",
       "      <td>2015</td>\n",
       "    </tr>\n",
       "    <tr>\n",
       "      <th>13</th>\n",
       "      <td>DECISION</td>\n",
       "      <td>NaN</td>\n",
       "      <td>-1</td>\n",
       "      <td>-1</td>\n",
       "      <td>NaN</td>\n",
       "      <td>+99KG</td>\n",
       "      <td>M</td>\n",
       "      <td>4F</td>\n",
       "      <td>2015</td>\n",
       "    </tr>\n",
       "    <tr>\n",
       "      <th>14</th>\n",
       "      <td>DECISION</td>\n",
       "      <td>NaN</td>\n",
       "      <td>-1</td>\n",
       "      <td>-1</td>\n",
       "      <td>NaN</td>\n",
       "      <td>+99KG</td>\n",
       "      <td>M</td>\n",
       "      <td>SF</td>\n",
       "      <td>2015</td>\n",
       "    </tr>\n",
       "  </tbody>\n",
       "</table>\n",
       "</div>"
      ],
      "text/plain": [
       "      win_type submission  winner_points  loser_points adv_pen weight_class  \\\n",
       "0     DECISION        NaN             -1            -1     NaN          ABS   \n",
       "1   SUBMISSION     Kimura             -1            -1     NaN         99KG   \n",
       "2     DECISION        NaN             -1            -1     NaN         99KG   \n",
       "3       POINTS        NaN              0             0     PEN         99KG   \n",
       "4       POINTS        NaN              6             2     NaN          ABS   \n",
       "5     DECISION        NaN             -1            -1     NaN          ABS   \n",
       "6     DECISION        NaN             -1            -1     NaN        +99KG   \n",
       "7       POINTS        NaN              0             0     PEN        +99KG   \n",
       "8     DECISION        NaN             -1            -1     NaN        +99KG   \n",
       "9       POINTS        NaN              3             0     NaN        +99KG   \n",
       "10      POINTS        NaN             17             0     NaN          ABS   \n",
       "11      POINTS        NaN             -1            -1     NaN         77KG   \n",
       "12    DECISION        NaN             -1            -1     NaN         77KG   \n",
       "13    DECISION        NaN             -1            -1     NaN        +99KG   \n",
       "14    DECISION        NaN             -1            -1     NaN        +99KG   \n",
       "\n",
       "   sex stage  year  \n",
       "0    M    4F  2011  \n",
       "1    M    R1  2022  \n",
       "2    M    4F  2022  \n",
       "3    M   3RD  2022  \n",
       "4    M    4F  2022  \n",
       "5    M    SF  2022  \n",
       "6    M    R1  2019  \n",
       "7    M    4F  2019  \n",
       "8    M    SF  2019  \n",
       "9    M    SF  2022  \n",
       "10   M    8F  2022  \n",
       "11   M    SF  2013  \n",
       "12   M    4F  2015  \n",
       "13   M    4F  2015  \n",
       "14   M    SF  2015  "
      ]
     },
     "execution_count": 4,
     "metadata": {},
     "output_type": "execute_result"
    }
   ],
   "source": [
    "df.drop(['match_id','winner_id', 'loser_id', 'winner_name','loser_name'], axis=1, inplace=True)\n",
    "df.head(15)"
   ]
  },
  {
   "cell_type": "markdown",
   "metadata": {},
   "source": [
    "Athletes can normally win in 3 different type of ways: by submission, by points obtained from getting into advantageous positions, or by advantages/penalties given through the referee's discretion.\n",
    "\n",
    "We will attempt to see which type of victory is most common."
   ]
  },
  {
   "cell_type": "markdown",
   "metadata": {},
   "source": [
    "First, we need to know how many entries do we have."
   ]
  },
  {
   "cell_type": "code",
   "execution_count": 5,
   "metadata": {},
   "outputs": [
    {
     "data": {
      "text/plain": [
       "(1028, 9)"
      ]
     },
     "execution_count": 5,
     "metadata": {},
     "output_type": "execute_result"
    }
   ],
   "source": [
    "df.shape"
   ]
  },
  {
   "cell_type": "markdown",
   "metadata": {},
   "source": [
    "We have a total of **1028 entries**, next is to check for missing or invalid data."
   ]
  },
  {
   "cell_type": "code",
   "execution_count": 6,
   "metadata": {},
   "outputs": [
    {
     "data": {
      "text/plain": [
       "win_type           0\n",
       "submission       628\n",
       "winner_points      0\n",
       "loser_points       0\n",
       "adv_pen          999\n",
       "weight_class       0\n",
       "sex                0\n",
       "stage              0\n",
       "year               0\n",
       "dtype: int64"
      ]
     },
     "execution_count": 6,
     "metadata": {},
     "output_type": "execute_result"
    }
   ],
   "source": [
    "df.isnull().sum()"
   ]
  },
  {
   "cell_type": "markdown",
   "metadata": {},
   "source": [
    "We notice that there are lots of missing values for the 'submission' column that shows the type of submission that was applied to win the match, and the 'adv_pen' column that shows whether the match was won by an advantage or penalty that was given by the referee. This may not necessarily be an error in the data, as the 'submission' column will remain blank if the match was won by points or advantage/penalty and the 'adv_pen' column will only be filled up if the athlete won via advantage/penalty."
   ]
  },
  {
   "cell_type": "code",
   "execution_count": 7,
   "metadata": {},
   "outputs": [
    {
     "data": {
      "text/plain": [
       "400"
      ]
     },
     "execution_count": 7,
     "metadata": {},
     "output_type": "execute_result"
    }
   ],
   "source": [
    "df.value_counts('submission').sum()"
   ]
  },
  {
   "cell_type": "markdown",
   "metadata": {},
   "source": [
    "We can see that the sum of null values in the 'submission' column with the amount of submissions recorded is **1028**."
   ]
  },
  {
   "cell_type": "code",
   "execution_count": 8,
   "metadata": {},
   "outputs": [
    {
     "data": {
      "text/plain": [
       "win_type\n",
       "POINTS              520\n",
       "SUBMISSION          402\n",
       "DECISION             97\n",
       "INJURY                8\n",
       "DESQUALIFICATION      1\n",
       "dtype: int64"
      ]
     },
     "execution_count": 8,
     "metadata": {},
     "output_type": "execute_result"
    }
   ],
   "source": [
    "df.value_counts('win_type')"
   ]
  },
  {
   "cell_type": "markdown",
   "metadata": {},
   "source": [
    "However, an inspection of the value_counts() for the types of wins reveealed that there are 402 wins by submissions instead. The type of submission for 2 matches where the winner won by submission were not recorded."
   ]
  },
  {
   "cell_type": "code",
   "execution_count": 9,
   "metadata": {},
   "outputs": [
    {
     "name": "stdout",
     "output_type": "stream",
     "text": [
      "       win_type submission  winner_points  loser_points adv_pen weight_class  \\\n",
      "515  SUBMISSION        NaN             -1            -1     NaN        +60KG   \n",
      "883  SUBMISSION        NaN             -1            -1     NaN         99KG   \n",
      "\n",
      "    sex stage  year  \n",
      "515   F     F  2013  \n",
      "883   M    R1  2015  \n",
      "              win_type submission  winner_points  loser_points adv_pen  \\\n",
      "302             INJURY        NaN             -1            -1     NaN   \n",
      "308             INJURY        NaN             -1            -1     NaN   \n",
      "321             INJURY        NaN             -1            -1     NaN   \n",
      "361             INJURY        NaN             -1            -1     NaN   \n",
      "607   DESQUALIFICATION        NaN             -1            -1     NaN   \n",
      "932             INJURY        NaN             -1            -1     NaN   \n",
      "934             INJURY        NaN             -1            -1     NaN   \n",
      "1001            INJURY        NaN             -1            -1     NaN   \n",
      "1011            INJURY        NaN             -1            -1     NaN   \n",
      "\n",
      "     weight_class sex stage  year  \n",
      "302           ABS   M    8F  2022  \n",
      "308         +60KG   F    SF  2022  \n",
      "321          88KG   M    SF  2000  \n",
      "361           ABS   M     F  2009  \n",
      "607           ABS   M    R1  2011  \n",
      "932          99KG   M    4F  2015  \n",
      "934          77KG   M    R1  2005  \n",
      "1001         99KG   M    R1  2001  \n",
      "1011        +99KG   M    R1  2022  \n"
     ]
    }
   ],
   "source": [
    "mask1=df.loc[(df['win_type']=='SUBMISSION') & df['submission'].isna()]\n",
    "mask2=df.loc[(df['win_type']== 'INJURY') | (df['win_type']== 'DESQUALIFICATION')]\n",
    "print(mask1)\n",
    "print(mask2)"
   ]
  },
  {
   "cell_type": "markdown",
   "metadata": {},
   "source": [
    "We have found the 2 anomalous records. Since we cannot be sure of the actual data for these 2 matches, we will drop them from the dataframe. We will also drop the \"INJURY\" and \"DESQUALIFICATION\" (sic) records as it does not contribute to a better understanding of the matches due to the results being one-off events in most cases."
   ]
  },
  {
   "cell_type": "code",
   "execution_count": 10,
   "metadata": {},
   "outputs": [
    {
     "data": {
      "text/plain": [
       "win_type\n",
       "POINTS        520\n",
       "SUBMISSION    400\n",
       "DECISION       97\n",
       "dtype: int64"
      ]
     },
     "execution_count": 10,
     "metadata": {},
     "output_type": "execute_result"
    }
   ],
   "source": [
    "df.drop(index=mask1.index, inplace=True)\n",
    "df.drop(index=mask2.index, inplace=True)\n",
    "\n",
    "df.value_counts('win_type')"
   ]
  },
  {
   "cell_type": "markdown",
   "metadata": {},
   "source": [
    "Next, we would attempt to group the submissions into families of techniques based on which part of the body they attack: the neck, the upper body or the lower body."
   ]
  },
  {
   "cell_type": "code",
   "execution_count": 11,
   "metadata": {},
   "outputs": [],
   "source": [
    "df['target']=(np.nan)\n",
    "upper_body=['Armbar', 'Kimura' ,'Omoplata', 'Americana' ,'Shoulder lock', 'Wristlock']\n",
    "lower_body=['Inside heel hook','Outside heel hook','Heel hook' ,'Footlock' , 'Toe hold' , 'Leg lock' , 'Calf slicer', 'Dogbar' , 'Estima lock' , 'Z Lock', 'Kneebar']\n",
    "neck=['RNC' , 'Katagatame' , 'Guillotine' , 'Triangle' , 'Choke' , \"D'arce choke\" , 'Short choke' , 'North south choke' , 'Headlock' , 'Anaconda' , 'Ezekiel' , 'Cross face' , 'Twister']\n",
    "df.loc[df['submission'].isin(upper_body), 'target'] = 'Upper body'\n",
    "df.loc[df['submission'].isin(lower_body), 'target'] = 'Lower body'\n",
    "df.loc[df['submission'].isin(neck), 'target'] = 'Neck'   \n",
    "\n"
   ]
  },
  {
   "cell_type": "markdown",
   "metadata": {},
   "source": [
    "A look at the varieties of submissions performed at ADCC revealed two new issues:\n",
    "\n",
    "1. We can see that heel hooks are seperated into 3 categories: heel hooks, inside heel hooks and outside heel hooks. All heel hooks are supposed to be classified into inside heel hooks or outside heel hooks.\n",
    "\n",
    "![Inside heel hook](https://bjj.tv/wp-content/uploads/2020/08/Inside-Heel-Hook.jpg \"Inside heel hook\")\n",
    "\n",
    "*Inside heel hooks turns the heel towards the centre of the body*\n",
    "\n",
    "![Outside heel hook](https://grapplinginsider.com/wp-content/uploads/2021/03/Dean-Lister.jpg \"Outside heel hook\")\n",
    "\n",
    "*Outside heel hooks turns the heel towards the outside of the body*\n",
    "\n",
    "2. Entries such as \"Submission\" or \"Verbal tap\" does not give any idea of what submissions were performed and does not contribute to clarity about which types of submission are favoured in ADCC.\n",
    "\n",
    "We will do the following to solve these two problems:\n",
    "\n",
    "1. Inside heel hooks and outside heel hooks will be classified as heel hooks and merged with the \"Heel hook\" entry.\n",
    "\n",
    "2. Entries such as \"Submission\" or \"Verbal tap\" will be removed dropped.\n"
   ]
  },
  {
   "cell_type": "code",
   "execution_count": 12,
   "metadata": {},
   "outputs": [],
   "source": [
    "#Issue number 1\n",
    "df['submission'].replace(['Inside heel hook', 'Outside heel hook'], 'Heel hook', inplace=True)\n",
    "#Issue number 2\n",
    "mask=df[(df['submission']=='Submission') | (df['submission']=='Verbal tap')]\n",
    "df.drop(mask.index,inplace=True, axis=0)"
   ]
  },
  {
   "cell_type": "markdown",
   "metadata": {},
   "source": [
    "Lastly, we would split the dataframe by genders, as the two genders have different weight categories which should not be compared with each other."
   ]
  },
  {
   "cell_type": "code",
   "execution_count": 13,
   "metadata": {},
   "outputs": [],
   "source": [
    "dfm=df[df['sex']=='M']\n",
    "dff=df[df['sex']=='F']"
   ]
  },
  {
   "cell_type": "markdown",
   "metadata": {},
   "source": [
    "### Exploratory Data Analysis (EDA)\n",
    "\n",
    "We are finally ready to explore the dataset and discover any relationships."
   ]
  },
  {
   "cell_type": "code",
   "execution_count": 14,
   "metadata": {},
   "outputs": [
    {
     "data": {
      "application/vnd.plotly.v1+json": {
       "config": {
        "plotlyServerURL": "https://plot.ly"
       },
       "data": [
        {
         "alignmentgroup": "True",
         "bingroup": "y",
         "histfunc": "sum",
         "hovertemplate": "Type of victory=DECISION<br>sum of occurence (normalized as percent)=%{x}<br>Weight Class=%{y}<extra></extra>",
         "legendgroup": "DECISION",
         "marker": {
          "color": "#636efa",
          "pattern": {
           "shape": ""
          }
         },
         "name": "DECISION",
         "offsetgroup": "DECISION",
         "orientation": "h",
         "showlegend": true,
         "type": "histogram",
         "x": [
          0.01,
          0.01,
          0.01,
          0.01,
          0.01,
          0.01,
          0.01,
          0.01,
          0.01,
          0.01,
          0.01,
          0.01,
          0.01,
          0.01,
          0.01,
          0.01,
          0.01,
          0.01,
          0.01,
          0.01,
          0.01,
          0.01,
          0.01,
          0.01,
          0.01,
          0.01,
          0.01,
          0.01,
          0.01,
          0.01,
          0.01,
          0.01,
          0.01,
          0.01,
          0.01,
          0.01,
          0.01,
          0.01,
          0.01,
          0.01,
          0.01,
          0.01,
          0.01,
          0.01,
          0.01,
          0.01,
          0.01,
          0.01,
          0.01,
          0.01,
          0.01,
          0.01,
          0.01,
          0.01,
          0.01,
          0.01,
          0.01,
          0.01,
          0.01,
          0.01,
          0.01,
          0.01,
          0.01,
          0.01,
          0.01,
          0.01,
          0.01,
          0.01,
          0.01,
          0.01,
          0.01,
          0.01,
          0.01,
          0.01,
          0.01,
          0.01,
          0.01,
          0.01,
          0.01,
          0.01,
          0.01,
          0.01,
          0.01,
          0.01,
          0.01,
          0.01,
          0.01,
          0.01,
          0.01,
          0.01,
          0.01
         ],
         "xaxis": "x",
         "y": [
          "ABS",
          "88KG",
          "77KG",
          "99KG",
          "77KG",
          "99KG",
          "ABS",
          "99KG",
          "ABS",
          "88KG",
          "88KG",
          "ABS",
          "66KG",
          "88KG",
          "77KG",
          "88KG",
          "77KG",
          "+99KG",
          "66KG",
          "99KG",
          "66KG",
          "99KG",
          "88KG",
          "ABS",
          "ABS",
          "ABS",
          "88KG",
          "+99KG",
          "+99KG",
          "66KG",
          "66KG",
          "99KG",
          "66KG",
          "66KG",
          "77KG",
          "99KG",
          "+99KG",
          "ABS",
          "99KG",
          "ABS",
          "99KG",
          "66KG",
          "77KG",
          "77KG",
          "ABS",
          "88KG",
          "+99KG",
          "77KG",
          "66KG",
          "ABS",
          "77KG",
          "66KG",
          "+99KG",
          "99KG",
          "99KG",
          "66KG",
          "99KG",
          "77KG",
          "88KG",
          "88KG",
          "77KG",
          "66KG",
          "+99KG",
          "+99KG",
          "ABS",
          "88KG",
          "88KG",
          "66KG",
          "88KG",
          "88KG",
          "66KG",
          "+99KG",
          "+99KG",
          "+99KG",
          "+99KG",
          "77KG",
          "66KG",
          "+99KG",
          "+99KG",
          "ABS",
          "66KG",
          "77KG",
          "99KG",
          "99KG",
          "99KG",
          "88KG",
          "ABS",
          "+99KG",
          "88KG",
          "77KG",
          "88KG"
         ],
         "yaxis": "y"
        },
        {
         "alignmentgroup": "True",
         "bingroup": "y",
         "histfunc": "sum",
         "hovertemplate": "Type of victory=POINTS<br>sum of occurence (normalized as percent)=%{x}<br>Weight Class=%{y}<extra></extra>",
         "legendgroup": "POINTS",
         "marker": {
          "color": "#EF553B",
          "pattern": {
           "shape": ""
          }
         },
         "name": "POINTS",
         "offsetgroup": "POINTS",
         "orientation": "h",
         "showlegend": true,
         "type": "histogram",
         "x": [
          0.01,
          0.01,
          0.01,
          0.01,
          0.01,
          0.01,
          0.01,
          0.01,
          0.01,
          0.01,
          0.01,
          0.01,
          0.01,
          0.01,
          0.01,
          0.01,
          0.01,
          0.01,
          0.01,
          0.01,
          0.01,
          0.01,
          0.01,
          0.01,
          0.01,
          0.01,
          0.01,
          0.01,
          0.01,
          0.01,
          0.01,
          0.01,
          0.01,
          0.01,
          0.01,
          0.01,
          0.01,
          0.01,
          0.01,
          0.01,
          0.01,
          0.01,
          0.01,
          0.01,
          0.01,
          0.01,
          0.01,
          0.01,
          0.01,
          0.01,
          0.01,
          0.01,
          0.01,
          0.01,
          0.01,
          0.01,
          0.01,
          0.01,
          0.01,
          0.01,
          0.01,
          0.01,
          0.01,
          0.01,
          0.01,
          0.01,
          0.01,
          0.01,
          0.01,
          0.01,
          0.01,
          0.01,
          0.01,
          0.01,
          0.01,
          0.01,
          0.01,
          0.01,
          0.01,
          0.01,
          0.01,
          0.01,
          0.01,
          0.01,
          0.01,
          0.01,
          0.01,
          0.01,
          0.01,
          0.01,
          0.01,
          0.01,
          0.01,
          0.01,
          0.01,
          0.01,
          0.01,
          0.01,
          0.01,
          0.01,
          0.01,
          0.01,
          0.01,
          0.01,
          0.01,
          0.01,
          0.01,
          0.01,
          0.01,
          0.01,
          0.01,
          0.01,
          0.01,
          0.01,
          0.01,
          0.01,
          0.01,
          0.01,
          0.01,
          0.01,
          0.01,
          0.01,
          0.01,
          0.01,
          0.01,
          0.01,
          0.01,
          0.01,
          0.01,
          0.01,
          0.01,
          0.01,
          0.01,
          0.01,
          0.01,
          0.01,
          0.01,
          0.01,
          0.01,
          0.01,
          0.01,
          0.01,
          0.01,
          0.01,
          0.01,
          0.01,
          0.01,
          0.01,
          0.01,
          0.01,
          0.01,
          0.01,
          0.01,
          0.01,
          0.01,
          0.01,
          0.01,
          0.01,
          0.01,
          0.01,
          0.01,
          0.01,
          0.01,
          0.01,
          0.01,
          0.01,
          0.01,
          0.01,
          0.01,
          0.01,
          0.01,
          0.01,
          0.01,
          0.01,
          0.01,
          0.01,
          0.01,
          0.01,
          0.01,
          0.01,
          0.01,
          0.01,
          0.01,
          0.01,
          0.01,
          0.01,
          0.01,
          0.01,
          0.01,
          0.01,
          0.01,
          0.01,
          0.01,
          0.01,
          0.01,
          0.01,
          0.01,
          0.01,
          0.01,
          0.01,
          0.01,
          0.01,
          0.01,
          0.01,
          0.01,
          0.01,
          0.01,
          0.01,
          0.01,
          0.01,
          0.01,
          0.01,
          0.01,
          0.01,
          0.01,
          0.01,
          0.01,
          0.01,
          0.01,
          0.01,
          0.01,
          0.01,
          0.01,
          0.01,
          0.01,
          0.01,
          0.01,
          0.01,
          0.01,
          0.01,
          0.01,
          0.01,
          0.01,
          0.01,
          0.01,
          0.01,
          0.01,
          0.01,
          0.01,
          0.01,
          0.01,
          0.01,
          0.01,
          0.01,
          0.01,
          0.01,
          0.01,
          0.01,
          0.01,
          0.01,
          0.01,
          0.01,
          0.01,
          0.01,
          0.01,
          0.01,
          0.01,
          0.01,
          0.01,
          0.01,
          0.01,
          0.01,
          0.01,
          0.01,
          0.01,
          0.01,
          0.01,
          0.01,
          0.01,
          0.01,
          0.01,
          0.01,
          0.01,
          0.01,
          0.01,
          0.01,
          0.01,
          0.01,
          0.01,
          0.01,
          0.01,
          0.01,
          0.01,
          0.01,
          0.01,
          0.01,
          0.01,
          0.01,
          0.01,
          0.01,
          0.01,
          0.01,
          0.01,
          0.01,
          0.01,
          0.01,
          0.01,
          0.01,
          0.01,
          0.01,
          0.01,
          0.01,
          0.01,
          0.01,
          0.01,
          0.01,
          0.01,
          0.01,
          0.01,
          0.01,
          0.01,
          0.01,
          0.01,
          0.01,
          0.01,
          0.01,
          0.01,
          0.01,
          0.01,
          0.01,
          0.01,
          0.01,
          0.01,
          0.01,
          0.01,
          0.01,
          0.01,
          0.01,
          0.01,
          0.01,
          0.01,
          0.01,
          0.01,
          0.01,
          0.01,
          0.01,
          0.01,
          0.01,
          0.01,
          0.01,
          0.01,
          0.01,
          0.01,
          0.01,
          0.01,
          0.01,
          0.01,
          0.01,
          0.01,
          0.01,
          0.01,
          0.01,
          0.01,
          0.01,
          0.01,
          0.01,
          0.01,
          0.01,
          0.01,
          0.01,
          0.01,
          0.01,
          0.01,
          0.01,
          0.01,
          0.01,
          0.01,
          0.01,
          0.01,
          0.01,
          0.01,
          0.01,
          0.01,
          0.01,
          0.01,
          0.01,
          0.01,
          0.01,
          0.01,
          0.01,
          0.01,
          0.01,
          0.01,
          0.01,
          0.01,
          0.01,
          0.01,
          0.01,
          0.01,
          0.01,
          0.01,
          0.01,
          0.01,
          0.01,
          0.01,
          0.01,
          0.01,
          0.01,
          0.01,
          0.01,
          0.01,
          0.01,
          0.01,
          0.01,
          0.01,
          0.01,
          0.01,
          0.01,
          0.01,
          0.01,
          0.01,
          0.01,
          0.01,
          0.01,
          0.01,
          0.01,
          0.01,
          0.01,
          0.01,
          0.01,
          0.01,
          0.01,
          0.01,
          0.01,
          0.01,
          0.01,
          0.01,
          0.01,
          0.01,
          0.01,
          0.01,
          0.01,
          0.01,
          0.01,
          0.01,
          0.01,
          0.01,
          0.01,
          0.01,
          0.01,
          0.01,
          0.01,
          0.01,
          0.01,
          0.01,
          0.01,
          0.01,
          0.01,
          0.01,
          0.01,
          0.01,
          0.01,
          0.01,
          0.01,
          0.01,
          0.01,
          0.01,
          0.01,
          0.01,
          0.01,
          0.01,
          0.01,
          0.01,
          0.01,
          0.01,
          0.01,
          0.01,
          0.01,
          0.01,
          0.01,
          0.01,
          0.01,
          0.01,
          0.01,
          0.01,
          0.01,
          0.01,
          0.01,
          0.01,
          0.01,
          0.01,
          0.01,
          0.01,
          0.01,
          0.01,
          0.01,
          0.01,
          0.01,
          0.01,
          0.01,
          0.01,
          0.01,
          0.01,
          0.01,
          0.01,
          0.01,
          0.01,
          0.01,
          0.01,
          0.01,
          0.01,
          0.01
         ],
         "xaxis": "x",
         "y": [
          "77KG",
          "+99KG",
          "+99KG",
          "+99KG",
          "+99KG",
          "77KG",
          "ABS",
          "+99KG",
          "66KG",
          "66KG",
          "88KG",
          "99KG",
          "ABS",
          "88KG",
          "88KG",
          "88KG",
          "77KG",
          "88KG",
          "88KG",
          "88KG",
          "99KG",
          "77KG",
          "99KG",
          "99KG",
          "+99KG",
          "99KG",
          "+99KG",
          "ABS",
          "77KG",
          "77KG",
          "88KG",
          "66KG",
          "66KG",
          "99KG",
          "99KG",
          "ABS",
          "+99KG",
          "ABS",
          "ABS",
          "99KG",
          "88KG",
          "88KG",
          "88KG",
          "+99KG",
          "ABS",
          "66KG",
          "99KG",
          "+99KG",
          "ABS",
          "99KG",
          "99KG",
          "99KG",
          "66KG",
          "77KG",
          "ABS",
          "77KG",
          "ABS",
          "ABS",
          "66KG",
          "66KG",
          "66KG",
          "66KG",
          "66KG",
          "77KG",
          "77KG",
          "77KG",
          "88KG",
          "88KG",
          "77KG",
          "99KG",
          "99KG",
          "77KG",
          "88KG",
          "+99KG",
          "88KG",
          "ABS",
          "66KG",
          "88KG",
          "88KG",
          "88KG",
          "88KG",
          "99KG",
          "ABS",
          "77KG",
          "99KG",
          "99KG",
          "77KG",
          "88KG",
          "ABS",
          "88KG",
          "99KG",
          "66KG",
          "ABS",
          "66KG",
          "ABS",
          "99KG",
          "99KG",
          "66KG",
          "66KG",
          "ABS",
          "99KG",
          "66KG",
          "66KG",
          "66KG",
          "ABS",
          "77KG",
          "+99KG",
          "66KG",
          "88KG",
          "+99KG",
          "ABS",
          "66KG",
          "99KG",
          "+99KG",
          "+99KG",
          "66KG",
          "66KG",
          "99KG",
          "77KG",
          "88KG",
          "+99KG",
          "88KG",
          "88KG",
          "77KG",
          "66KG",
          "66KG",
          "ABS",
          "88KG",
          "77KG",
          "66KG",
          "+99KG",
          "99KG",
          "66KG",
          "+99KG",
          "ABS",
          "+99KG",
          "77KG",
          "88KG",
          "88KG",
          "99KG",
          "77KG",
          "77KG",
          "ABS",
          "+99KG",
          "99KG",
          "99KG",
          "88KG",
          "ABS",
          "99KG",
          "ABS",
          "99KG",
          "99KG",
          "99KG",
          "99KG",
          "77KG",
          "+99KG",
          "99KG",
          "66KG",
          "+99KG",
          "77KG",
          "ABS",
          "66KG",
          "66KG",
          "88KG",
          "ABS",
          "77KG",
          "ABS",
          "88KG",
          "+99KG",
          "99KG",
          "ABS",
          "99KG",
          "88KG",
          "99KG",
          "88KG",
          "66KG",
          "66KG",
          "ABS",
          "+99KG",
          "99KG",
          "+99KG",
          "ABS",
          "ABS",
          "99KG",
          "88KG",
          "+99KG",
          "88KG",
          "77KG",
          "99KG",
          "+99KG",
          "+99KG",
          "+99KG",
          "ABS",
          "+99KG",
          "88KG",
          "ABS",
          "88KG",
          "66KG",
          "ABS",
          "ABS",
          "+99KG",
          "77KG",
          "ABS",
          "77KG",
          "77KG",
          "+99KG",
          "77KG",
          "88KG",
          "88KG",
          "88KG",
          "ABS",
          "99KG",
          "77KG",
          "77KG",
          "88KG",
          "77KG",
          "77KG",
          "99KG",
          "ABS",
          "88KG",
          "99KG",
          "99KG",
          "ABS",
          "88KG",
          "66KG",
          "66KG",
          "66KG",
          "66KG",
          "77KG",
          "+99KG",
          "99KG",
          "66KG",
          "+99KG",
          "+99KG",
          "ABS",
          "+99KG",
          "+99KG",
          "88KG",
          "+99KG",
          "+99KG",
          "66KG",
          "77KG",
          "88KG",
          "88KG",
          "88KG",
          "66KG",
          "88KG",
          "ABS",
          "66KG",
          "66KG",
          "66KG",
          "99KG",
          "88KG",
          "88KG",
          "ABS",
          "88KG",
          "88KG",
          "+99KG",
          "88KG",
          "88KG",
          "+99KG",
          "ABS",
          "77KG",
          "77KG",
          "88KG",
          "88KG",
          "99KG",
          "66KG",
          "99KG",
          "99KG",
          "99KG",
          "+99KG",
          "99KG",
          "+99KG",
          "ABS",
          "+99KG",
          "+99KG",
          "ABS",
          "ABS",
          "66KG",
          "88KG",
          "88KG",
          "ABS",
          "88KG",
          "ABS",
          "+99KG",
          "99KG",
          "99KG",
          "66KG",
          "88KG",
          "+99KG",
          "66KG",
          "77KG",
          "77KG",
          "77KG",
          "77KG",
          "77KG",
          "77KG",
          "77KG",
          "88KG",
          "88KG",
          "99KG",
          "+99KG",
          "ABS",
          "66KG",
          "ABS",
          "+99KG",
          "66KG",
          "88KG",
          "ABS",
          "88KG",
          "+99KG",
          "88KG",
          "77KG",
          "77KG",
          "77KG",
          "99KG",
          "ABS",
          "77KG",
          "99KG",
          "77KG",
          "77KG",
          "77KG",
          "77KG",
          "88KG",
          "ABS",
          "+99KG",
          "ABS",
          "88KG",
          "77KG",
          "66KG",
          "66KG",
          "77KG",
          "66KG",
          "77KG",
          "77KG",
          "77KG",
          "77KG",
          "66KG",
          "66KG",
          "77KG",
          "66KG",
          "66KG",
          "77KG",
          "77KG",
          "88KG",
          "77KG",
          "66KG",
          "ABS",
          "ABS",
          "88KG",
          "99KG",
          "+99KG",
          "88KG",
          "ABS",
          "ABS",
          "99KG",
          "99KG",
          "66KG",
          "99KG",
          "ABS",
          "66KG",
          "77KG",
          "66KG",
          "66KG",
          "77KG",
          "88KG",
          "66KG",
          "ABS",
          "+99KG",
          "ABS",
          "+99KG",
          "ABS",
          "+99KG",
          "ABS",
          "ABS",
          "ABS",
          "88KG",
          "ABS",
          "99KG",
          "99KG",
          "ABS",
          "ABS",
          "+99KG",
          "ABS",
          "ABS",
          "ABS",
          "99KG",
          "99KG",
          "99KG",
          "+99KG",
          "+99KG",
          "99KG",
          "+99KG",
          "88KG",
          "+99KG",
          "ABS",
          "66KG",
          "+99KG",
          "88KG",
          "88KG",
          "88KG",
          "77KG",
          "66KG",
          "77KG",
          "+99KG",
          "66KG",
          "ABS",
          "ABS",
          "ABS",
          "ABS",
          "ABS",
          "+99KG",
          "88KG",
          "99KG",
          "88KG",
          "66KG",
          "ABS",
          "+99KG",
          "+99KG",
          "66KG",
          "99KG",
          "88KG",
          "88KG",
          "88KG",
          "66KG",
          "66KG",
          "88KG",
          "66KG",
          "99KG",
          "77KG",
          "ABS",
          "ABS",
          "88KG",
          "+99KG",
          "+99KG",
          "88KG",
          "77KG",
          "77KG",
          "66KG",
          "ABS",
          "99KG",
          "ABS",
          "66KG",
          "66KG",
          "ABS",
          "ABS",
          "66KG",
          "66KG",
          "66KG",
          "66KG",
          "88KG",
          "88KG",
          "77KG",
          "88KG",
          "ABS",
          "88KG",
          "99KG",
          "88KG",
          "99KG",
          "+99KG",
          "66KG",
          "+99KG",
          "66KG",
          "ABS",
          "ABS",
          "ABS",
          "66KG",
          "66KG",
          "77KG",
          "77KG",
          "77KG",
          "ABS",
          "77KG",
          "77KG",
          "66KG",
          "66KG",
          "+99KG",
          "77KG",
          "+99KG",
          "66KG",
          "66KG",
          "+99KG",
          "ABS",
          "66KG",
          "99KG",
          "ABS",
          "66KG",
          "ABS",
          "77KG",
          "66KG",
          "77KG",
          "77KG",
          "99KG",
          "ABS",
          "ABS",
          "ABS",
          "99KG",
          "ABS",
          "77KG",
          "88KG",
          "77KG"
         ],
         "yaxis": "y"
        },
        {
         "alignmentgroup": "True",
         "bingroup": "y",
         "histfunc": "sum",
         "hovertemplate": "Type of victory=SUBMISSION<br>sum of occurence (normalized as percent)=%{x}<br>Weight Class=%{y}<extra></extra>",
         "legendgroup": "SUBMISSION",
         "marker": {
          "color": "#00cc96",
          "pattern": {
           "shape": ""
          }
         },
         "name": "SUBMISSION",
         "offsetgroup": "SUBMISSION",
         "orientation": "h",
         "showlegend": true,
         "type": "histogram",
         "x": [
          0.01,
          0.01,
          0.01,
          0.01,
          0.01,
          0.01,
          0.01,
          0.01,
          0.01,
          0.01,
          0.01,
          0.01,
          0.01,
          0.01,
          0.01,
          0.01,
          0.01,
          0.01,
          0.01,
          0.01,
          0.01,
          0.01,
          0.01,
          0.01,
          0.01,
          0.01,
          0.01,
          0.01,
          0.01,
          0.01,
          0.01,
          0.01,
          0.01,
          0.01,
          0.01,
          0.01,
          0.01,
          0.01,
          0.01,
          0.01,
          0.01,
          0.01,
          0.01,
          0.01,
          0.01,
          0.01,
          0.01,
          0.01,
          0.01,
          0.01,
          0.01,
          0.01,
          0.01,
          0.01,
          0.01,
          0.01,
          0.01,
          0.01,
          0.01,
          0.01,
          0.01,
          0.01,
          0.01,
          0.01,
          0.01,
          0.01,
          0.01,
          0.01,
          0.01,
          0.01,
          0.01,
          0.01,
          0.01,
          0.01,
          0.01,
          0.01,
          0.01,
          0.01,
          0.01,
          0.01,
          0.01,
          0.01,
          0.01,
          0.01,
          0.01,
          0.01,
          0.01,
          0.01,
          0.01,
          0.01,
          0.01,
          0.01,
          0.01,
          0.01,
          0.01,
          0.01,
          0.01,
          0.01,
          0.01,
          0.01,
          0.01,
          0.01,
          0.01,
          0.01,
          0.01,
          0.01,
          0.01,
          0.01,
          0.01,
          0.01,
          0.01,
          0.01,
          0.01,
          0.01,
          0.01,
          0.01,
          0.01,
          0.01,
          0.01,
          0.01,
          0.01,
          0.01,
          0.01,
          0.01,
          0.01,
          0.01,
          0.01,
          0.01,
          0.01,
          0.01,
          0.01,
          0.01,
          0.01,
          0.01,
          0.01,
          0.01,
          0.01,
          0.01,
          0.01,
          0.01,
          0.01,
          0.01,
          0.01,
          0.01,
          0.01,
          0.01,
          0.01,
          0.01,
          0.01,
          0.01,
          0.01,
          0.01,
          0.01,
          0.01,
          0.01,
          0.01,
          0.01,
          0.01,
          0.01,
          0.01,
          0.01,
          0.01,
          0.01,
          0.01,
          0.01,
          0.01,
          0.01,
          0.01,
          0.01,
          0.01,
          0.01,
          0.01,
          0.01,
          0.01,
          0.01,
          0.01,
          0.01,
          0.01,
          0.01,
          0.01,
          0.01,
          0.01,
          0.01,
          0.01,
          0.01,
          0.01,
          0.01,
          0.01,
          0.01,
          0.01,
          0.01,
          0.01,
          0.01,
          0.01,
          0.01,
          0.01,
          0.01,
          0.01,
          0.01,
          0.01,
          0.01,
          0.01,
          0.01,
          0.01,
          0.01,
          0.01,
          0.01,
          0.01,
          0.01,
          0.01,
          0.01,
          0.01,
          0.01,
          0.01,
          0.01,
          0.01,
          0.01,
          0.01,
          0.01,
          0.01,
          0.01,
          0.01,
          0.01,
          0.01,
          0.01,
          0.01,
          0.01,
          0.01,
          0.01,
          0.01,
          0.01,
          0.01,
          0.01,
          0.01,
          0.01,
          0.01,
          0.01,
          0.01,
          0.01,
          0.01,
          0.01,
          0.01,
          0.01,
          0.01,
          0.01,
          0.01,
          0.01,
          0.01,
          0.01,
          0.01,
          0.01,
          0.01,
          0.01,
          0.01,
          0.01,
          0.01,
          0.01,
          0.01,
          0.01,
          0.01,
          0.01,
          0.01,
          0.01,
          0.01,
          0.01,
          0.01,
          0.01,
          0.01,
          0.01,
          0.01,
          0.01,
          0.01,
          0.01,
          0.01,
          0.01,
          0.01,
          0.01,
          0.01,
          0.01,
          0.01,
          0.01,
          0.01,
          0.01,
          0.01,
          0.01,
          0.01,
          0.01,
          0.01,
          0.01,
          0.01,
          0.01,
          0.01,
          0.01,
          0.01,
          0.01,
          0.01,
          0.01,
          0.01,
          0.01,
          0.01,
          0.01,
          0.01,
          0.01,
          0.01,
          0.01,
          0.01,
          0.01,
          0.01,
          0.01,
          0.01,
          0.01,
          0.01,
          0.01,
          0.01,
          0.01,
          0.01,
          0.01,
          0.01,
          0.01,
          0.01,
          0.01,
          0.01,
          0.01,
          0.01,
          0.01,
          0.01,
          0.01,
          0.01,
          0.01,
          0.01,
          0.01,
          0.01,
          0.01,
          0.01,
          0.01,
          0.01,
          0.01,
          0.01,
          0.01,
          0.01,
          0.01,
          0.01,
          0.01,
          0.01,
          0.01,
          0.01,
          0.01,
          0.01,
          0.01,
          0.01,
          0.01,
          0.01,
          0.01,
          0.01,
          0.01,
          0.01,
          0.01,
          0.01,
          0.01,
          0.01,
          0.01,
          0.01,
          0.01,
          0.01,
          0.01,
          0.01,
          0.01,
          0.01,
          0.01,
          0.01,
          0.01
         ],
         "xaxis": "x",
         "y": [
          "66KG",
          "99KG",
          "+99KG",
          "66KG",
          "ABS",
          "88KG",
          "ABS",
          "66KG",
          "88KG",
          "99KG",
          "ABS",
          "66KG",
          "ABS",
          "66KG",
          "ABS",
          "66KG",
          "66KG",
          "ABS",
          "66KG",
          "+99KG",
          "88KG",
          "99KG",
          "66KG",
          "+99KG",
          "88KG",
          "88KG",
          "88KG",
          "88KG",
          "88KG",
          "88KG",
          "ABS",
          "66KG",
          "77KG",
          "+99KG",
          "88KG",
          "77KG",
          "+99KG",
          "88KG",
          "+99KG",
          "66KG",
          "88KG",
          "ABS",
          "88KG",
          "+99KG",
          "ABS",
          "99KG",
          "ABS",
          "88KG",
          "88KG",
          "88KG",
          "99KG",
          "ABS",
          "77KG",
          "99KG",
          "77KG",
          "77KG",
          "66KG",
          "ABS",
          "88KG",
          "+99KG",
          "88KG",
          "66KG",
          "+99KG",
          "77KG",
          "99KG",
          "77KG",
          "77KG",
          "88KG",
          "77KG",
          "88KG",
          "99KG",
          "88KG",
          "77KG",
          "99KG",
          "77KG",
          "66KG",
          "77KG",
          "77KG",
          "66KG",
          "77KG",
          "88KG",
          "88KG",
          "+99KG",
          "66KG",
          "99KG",
          "88KG",
          "88KG",
          "88KG",
          "66KG",
          "66KG",
          "77KG",
          "99KG",
          "ABS",
          "77KG",
          "ABS",
          "+99KG",
          "99KG",
          "ABS",
          "ABS",
          "88KG",
          "ABS",
          "ABS",
          "+99KG",
          "+99KG",
          "99KG",
          "ABS",
          "+99KG",
          "88KG",
          "88KG",
          "77KG",
          "99KG",
          "77KG",
          "88KG",
          "77KG",
          "66KG",
          "+99KG",
          "+99KG",
          "+99KG",
          "ABS",
          "66KG",
          "ABS",
          "88KG",
          "+99KG",
          "+99KG",
          "ABS",
          "66KG",
          "88KG",
          "88KG",
          "ABS",
          "77KG",
          "ABS",
          "88KG",
          "77KG",
          "ABS",
          "99KG",
          "88KG",
          "99KG",
          "ABS",
          "99KG",
          "77KG",
          "+99KG",
          "ABS",
          "99KG",
          "ABS",
          "77KG",
          "77KG",
          "77KG",
          "77KG",
          "77KG",
          "66KG",
          "77KG",
          "ABS",
          "+99KG",
          "99KG",
          "+99KG",
          "88KG",
          "ABS",
          "+99KG",
          "ABS",
          "99KG",
          "99KG",
          "99KG",
          "ABS",
          "ABS",
          "99KG",
          "ABS",
          "77KG",
          "77KG",
          "+99KG",
          "+99KG",
          "77KG",
          "66KG",
          "+99KG",
          "ABS",
          "99KG",
          "ABS",
          "+99KG",
          "+99KG",
          "66KG",
          "+99KG",
          "+99KG",
          "+99KG",
          "ABS",
          "77KG",
          "+99KG",
          "77KG",
          "ABS",
          "ABS",
          "77KG",
          "+99KG",
          "+99KG",
          "88KG",
          "88KG",
          "77KG",
          "66KG",
          "66KG",
          "77KG",
          "88KG",
          "ABS",
          "77KG",
          "88KG",
          "ABS",
          "66KG",
          "66KG",
          "99KG",
          "+99KG",
          "99KG",
          "ABS",
          "66KG",
          "99KG",
          "77KG",
          "77KG",
          "88KG",
          "99KG",
          "77KG",
          "77KG",
          "ABS",
          "66KG",
          "99KG",
          "77KG",
          "88KG",
          "66KG",
          "+99KG",
          "ABS",
          "ABS",
          "99KG",
          "66KG",
          "ABS",
          "ABS",
          "ABS",
          "88KG",
          "99KG",
          "99KG",
          "99KG",
          "99KG",
          "99KG",
          "66KG",
          "88KG",
          "66KG",
          "ABS",
          "88KG",
          "ABS",
          "88KG",
          "+99KG",
          "66KG",
          "66KG",
          "77KG",
          "99KG",
          "ABS",
          "77KG",
          "99KG",
          "ABS",
          "77KG",
          "88KG",
          "99KG",
          "ABS",
          "66KG",
          "ABS",
          "77KG",
          "77KG",
          "ABS",
          "ABS",
          "ABS",
          "77KG",
          "66KG",
          "66KG",
          "ABS",
          "77KG",
          "77KG",
          "77KG",
          "ABS",
          "66KG",
          "66KG",
          "66KG",
          "77KG",
          "77KG",
          "99KG",
          "66KG",
          "ABS",
          "99KG",
          "99KG",
          "ABS",
          "77KG",
          "+99KG",
          "77KG",
          "+99KG",
          "ABS",
          "66KG",
          "66KG",
          "66KG",
          "99KG",
          "88KG",
          "88KG",
          "88KG",
          "88KG",
          "88KG",
          "88KG",
          "ABS",
          "77KG",
          "77KG",
          "88KG",
          "+99KG",
          "77KG",
          "77KG",
          "ABS",
          "77KG",
          "77KG",
          "ABS",
          "+99KG",
          "ABS",
          "+99KG",
          "88KG",
          "77KG",
          "77KG",
          "+99KG",
          "66KG",
          "66KG",
          "66KG",
          "88KG",
          "88KG",
          "ABS",
          "77KG",
          "77KG",
          "77KG",
          "66KG",
          "77KG",
          "66KG",
          "+99KG",
          "ABS",
          "99KG",
          "99KG",
          "99KG",
          "ABS",
          "ABS",
          "99KG",
          "66KG",
          "66KG",
          "ABS",
          "66KG",
          "66KG",
          "66KG",
          "66KG",
          "66KG",
          "66KG",
          "99KG",
          "ABS",
          "66KG",
          "99KG",
          "66KG",
          "66KG",
          "ABS",
          "77KG",
          "77KG",
          "77KG",
          "99KG",
          "66KG",
          "66KG",
          "99KG",
          "99KG",
          "+99KG",
          "88KG",
          "+99KG",
          "88KG",
          "+99KG",
          "ABS",
          "ABS",
          "ABS",
          "+99KG",
          "66KG",
          "99KG",
          "99KG"
         ],
         "yaxis": "y"
        }
       ],
       "layout": {
        "barmode": "stack",
        "barnorm": "percent",
        "legend": {
         "title": {
          "text": "Type of victory"
         },
         "tracegroupgap": 0
        },
        "template": {
         "data": {
          "bar": [
           {
            "error_x": {
             "color": "#2a3f5f"
            },
            "error_y": {
             "color": "#2a3f5f"
            },
            "marker": {
             "line": {
              "color": "#E5ECF6",
              "width": 0.5
             },
             "pattern": {
              "fillmode": "overlay",
              "size": 10,
              "solidity": 0.2
             }
            },
            "type": "bar"
           }
          ],
          "barpolar": [
           {
            "marker": {
             "line": {
              "color": "#E5ECF6",
              "width": 0.5
             },
             "pattern": {
              "fillmode": "overlay",
              "size": 10,
              "solidity": 0.2
             }
            },
            "type": "barpolar"
           }
          ],
          "carpet": [
           {
            "aaxis": {
             "endlinecolor": "#2a3f5f",
             "gridcolor": "white",
             "linecolor": "white",
             "minorgridcolor": "white",
             "startlinecolor": "#2a3f5f"
            },
            "baxis": {
             "endlinecolor": "#2a3f5f",
             "gridcolor": "white",
             "linecolor": "white",
             "minorgridcolor": "white",
             "startlinecolor": "#2a3f5f"
            },
            "type": "carpet"
           }
          ],
          "choropleth": [
           {
            "colorbar": {
             "outlinewidth": 0,
             "ticks": ""
            },
            "type": "choropleth"
           }
          ],
          "contour": [
           {
            "colorbar": {
             "outlinewidth": 0,
             "ticks": ""
            },
            "colorscale": [
             [
              0,
              "#0d0887"
             ],
             [
              0.1111111111111111,
              "#46039f"
             ],
             [
              0.2222222222222222,
              "#7201a8"
             ],
             [
              0.3333333333333333,
              "#9c179e"
             ],
             [
              0.4444444444444444,
              "#bd3786"
             ],
             [
              0.5555555555555556,
              "#d8576b"
             ],
             [
              0.6666666666666666,
              "#ed7953"
             ],
             [
              0.7777777777777778,
              "#fb9f3a"
             ],
             [
              0.8888888888888888,
              "#fdca26"
             ],
             [
              1,
              "#f0f921"
             ]
            ],
            "type": "contour"
           }
          ],
          "contourcarpet": [
           {
            "colorbar": {
             "outlinewidth": 0,
             "ticks": ""
            },
            "type": "contourcarpet"
           }
          ],
          "heatmap": [
           {
            "colorbar": {
             "outlinewidth": 0,
             "ticks": ""
            },
            "colorscale": [
             [
              0,
              "#0d0887"
             ],
             [
              0.1111111111111111,
              "#46039f"
             ],
             [
              0.2222222222222222,
              "#7201a8"
             ],
             [
              0.3333333333333333,
              "#9c179e"
             ],
             [
              0.4444444444444444,
              "#bd3786"
             ],
             [
              0.5555555555555556,
              "#d8576b"
             ],
             [
              0.6666666666666666,
              "#ed7953"
             ],
             [
              0.7777777777777778,
              "#fb9f3a"
             ],
             [
              0.8888888888888888,
              "#fdca26"
             ],
             [
              1,
              "#f0f921"
             ]
            ],
            "type": "heatmap"
           }
          ],
          "heatmapgl": [
           {
            "colorbar": {
             "outlinewidth": 0,
             "ticks": ""
            },
            "colorscale": [
             [
              0,
              "#0d0887"
             ],
             [
              0.1111111111111111,
              "#46039f"
             ],
             [
              0.2222222222222222,
              "#7201a8"
             ],
             [
              0.3333333333333333,
              "#9c179e"
             ],
             [
              0.4444444444444444,
              "#bd3786"
             ],
             [
              0.5555555555555556,
              "#d8576b"
             ],
             [
              0.6666666666666666,
              "#ed7953"
             ],
             [
              0.7777777777777778,
              "#fb9f3a"
             ],
             [
              0.8888888888888888,
              "#fdca26"
             ],
             [
              1,
              "#f0f921"
             ]
            ],
            "type": "heatmapgl"
           }
          ],
          "histogram": [
           {
            "marker": {
             "pattern": {
              "fillmode": "overlay",
              "size": 10,
              "solidity": 0.2
             }
            },
            "type": "histogram"
           }
          ],
          "histogram2d": [
           {
            "colorbar": {
             "outlinewidth": 0,
             "ticks": ""
            },
            "colorscale": [
             [
              0,
              "#0d0887"
             ],
             [
              0.1111111111111111,
              "#46039f"
             ],
             [
              0.2222222222222222,
              "#7201a8"
             ],
             [
              0.3333333333333333,
              "#9c179e"
             ],
             [
              0.4444444444444444,
              "#bd3786"
             ],
             [
              0.5555555555555556,
              "#d8576b"
             ],
             [
              0.6666666666666666,
              "#ed7953"
             ],
             [
              0.7777777777777778,
              "#fb9f3a"
             ],
             [
              0.8888888888888888,
              "#fdca26"
             ],
             [
              1,
              "#f0f921"
             ]
            ],
            "type": "histogram2d"
           }
          ],
          "histogram2dcontour": [
           {
            "colorbar": {
             "outlinewidth": 0,
             "ticks": ""
            },
            "colorscale": [
             [
              0,
              "#0d0887"
             ],
             [
              0.1111111111111111,
              "#46039f"
             ],
             [
              0.2222222222222222,
              "#7201a8"
             ],
             [
              0.3333333333333333,
              "#9c179e"
             ],
             [
              0.4444444444444444,
              "#bd3786"
             ],
             [
              0.5555555555555556,
              "#d8576b"
             ],
             [
              0.6666666666666666,
              "#ed7953"
             ],
             [
              0.7777777777777778,
              "#fb9f3a"
             ],
             [
              0.8888888888888888,
              "#fdca26"
             ],
             [
              1,
              "#f0f921"
             ]
            ],
            "type": "histogram2dcontour"
           }
          ],
          "mesh3d": [
           {
            "colorbar": {
             "outlinewidth": 0,
             "ticks": ""
            },
            "type": "mesh3d"
           }
          ],
          "parcoords": [
           {
            "line": {
             "colorbar": {
              "outlinewidth": 0,
              "ticks": ""
             }
            },
            "type": "parcoords"
           }
          ],
          "pie": [
           {
            "automargin": true,
            "type": "pie"
           }
          ],
          "scatter": [
           {
            "fillpattern": {
             "fillmode": "overlay",
             "size": 10,
             "solidity": 0.2
            },
            "type": "scatter"
           }
          ],
          "scatter3d": [
           {
            "line": {
             "colorbar": {
              "outlinewidth": 0,
              "ticks": ""
             }
            },
            "marker": {
             "colorbar": {
              "outlinewidth": 0,
              "ticks": ""
             }
            },
            "type": "scatter3d"
           }
          ],
          "scattercarpet": [
           {
            "marker": {
             "colorbar": {
              "outlinewidth": 0,
              "ticks": ""
             }
            },
            "type": "scattercarpet"
           }
          ],
          "scattergeo": [
           {
            "marker": {
             "colorbar": {
              "outlinewidth": 0,
              "ticks": ""
             }
            },
            "type": "scattergeo"
           }
          ],
          "scattergl": [
           {
            "marker": {
             "colorbar": {
              "outlinewidth": 0,
              "ticks": ""
             }
            },
            "type": "scattergl"
           }
          ],
          "scattermapbox": [
           {
            "marker": {
             "colorbar": {
              "outlinewidth": 0,
              "ticks": ""
             }
            },
            "type": "scattermapbox"
           }
          ],
          "scatterpolar": [
           {
            "marker": {
             "colorbar": {
              "outlinewidth": 0,
              "ticks": ""
             }
            },
            "type": "scatterpolar"
           }
          ],
          "scatterpolargl": [
           {
            "marker": {
             "colorbar": {
              "outlinewidth": 0,
              "ticks": ""
             }
            },
            "type": "scatterpolargl"
           }
          ],
          "scatterternary": [
           {
            "marker": {
             "colorbar": {
              "outlinewidth": 0,
              "ticks": ""
             }
            },
            "type": "scatterternary"
           }
          ],
          "surface": [
           {
            "colorbar": {
             "outlinewidth": 0,
             "ticks": ""
            },
            "colorscale": [
             [
              0,
              "#0d0887"
             ],
             [
              0.1111111111111111,
              "#46039f"
             ],
             [
              0.2222222222222222,
              "#7201a8"
             ],
             [
              0.3333333333333333,
              "#9c179e"
             ],
             [
              0.4444444444444444,
              "#bd3786"
             ],
             [
              0.5555555555555556,
              "#d8576b"
             ],
             [
              0.6666666666666666,
              "#ed7953"
             ],
             [
              0.7777777777777778,
              "#fb9f3a"
             ],
             [
              0.8888888888888888,
              "#fdca26"
             ],
             [
              1,
              "#f0f921"
             ]
            ],
            "type": "surface"
           }
          ],
          "table": [
           {
            "cells": {
             "fill": {
              "color": "#EBF0F8"
             },
             "line": {
              "color": "white"
             }
            },
            "header": {
             "fill": {
              "color": "#C8D4E3"
             },
             "line": {
              "color": "white"
             }
            },
            "type": "table"
           }
          ]
         },
         "layout": {
          "annotationdefaults": {
           "arrowcolor": "#2a3f5f",
           "arrowhead": 0,
           "arrowwidth": 1
          },
          "autotypenumbers": "strict",
          "coloraxis": {
           "colorbar": {
            "outlinewidth": 0,
            "ticks": ""
           }
          },
          "colorscale": {
           "diverging": [
            [
             0,
             "#8e0152"
            ],
            [
             0.1,
             "#c51b7d"
            ],
            [
             0.2,
             "#de77ae"
            ],
            [
             0.3,
             "#f1b6da"
            ],
            [
             0.4,
             "#fde0ef"
            ],
            [
             0.5,
             "#f7f7f7"
            ],
            [
             0.6,
             "#e6f5d0"
            ],
            [
             0.7,
             "#b8e186"
            ],
            [
             0.8,
             "#7fbc41"
            ],
            [
             0.9,
             "#4d9221"
            ],
            [
             1,
             "#276419"
            ]
           ],
           "sequential": [
            [
             0,
             "#0d0887"
            ],
            [
             0.1111111111111111,
             "#46039f"
            ],
            [
             0.2222222222222222,
             "#7201a8"
            ],
            [
             0.3333333333333333,
             "#9c179e"
            ],
            [
             0.4444444444444444,
             "#bd3786"
            ],
            [
             0.5555555555555556,
             "#d8576b"
            ],
            [
             0.6666666666666666,
             "#ed7953"
            ],
            [
             0.7777777777777778,
             "#fb9f3a"
            ],
            [
             0.8888888888888888,
             "#fdca26"
            ],
            [
             1,
             "#f0f921"
            ]
           ],
           "sequentialminus": [
            [
             0,
             "#0d0887"
            ],
            [
             0.1111111111111111,
             "#46039f"
            ],
            [
             0.2222222222222222,
             "#7201a8"
            ],
            [
             0.3333333333333333,
             "#9c179e"
            ],
            [
             0.4444444444444444,
             "#bd3786"
            ],
            [
             0.5555555555555556,
             "#d8576b"
            ],
            [
             0.6666666666666666,
             "#ed7953"
            ],
            [
             0.7777777777777778,
             "#fb9f3a"
            ],
            [
             0.8888888888888888,
             "#fdca26"
            ],
            [
             1,
             "#f0f921"
            ]
           ]
          },
          "colorway": [
           "#636efa",
           "#EF553B",
           "#00cc96",
           "#ab63fa",
           "#FFA15A",
           "#19d3f3",
           "#FF6692",
           "#B6E880",
           "#FF97FF",
           "#FECB52"
          ],
          "font": {
           "color": "#2a3f5f"
          },
          "geo": {
           "bgcolor": "white",
           "lakecolor": "white",
           "landcolor": "#E5ECF6",
           "showlakes": true,
           "showland": true,
           "subunitcolor": "white"
          },
          "hoverlabel": {
           "align": "left"
          },
          "hovermode": "closest",
          "mapbox": {
           "style": "light"
          },
          "paper_bgcolor": "white",
          "plot_bgcolor": "#E5ECF6",
          "polar": {
           "angularaxis": {
            "gridcolor": "white",
            "linecolor": "white",
            "ticks": ""
           },
           "bgcolor": "#E5ECF6",
           "radialaxis": {
            "gridcolor": "white",
            "linecolor": "white",
            "ticks": ""
           }
          },
          "scene": {
           "xaxis": {
            "backgroundcolor": "#E5ECF6",
            "gridcolor": "white",
            "gridwidth": 2,
            "linecolor": "white",
            "showbackground": true,
            "ticks": "",
            "zerolinecolor": "white"
           },
           "yaxis": {
            "backgroundcolor": "#E5ECF6",
            "gridcolor": "white",
            "gridwidth": 2,
            "linecolor": "white",
            "showbackground": true,
            "ticks": "",
            "zerolinecolor": "white"
           },
           "zaxis": {
            "backgroundcolor": "#E5ECF6",
            "gridcolor": "white",
            "gridwidth": 2,
            "linecolor": "white",
            "showbackground": true,
            "ticks": "",
            "zerolinecolor": "white"
           }
          },
          "shapedefaults": {
           "line": {
            "color": "#2a3f5f"
           }
          },
          "ternary": {
           "aaxis": {
            "gridcolor": "white",
            "linecolor": "white",
            "ticks": ""
           },
           "baxis": {
            "gridcolor": "white",
            "linecolor": "white",
            "ticks": ""
           },
           "bgcolor": "#E5ECF6",
           "caxis": {
            "gridcolor": "white",
            "linecolor": "white",
            "ticks": ""
           }
          },
          "title": {
           "x": 0.05
          },
          "xaxis": {
           "automargin": true,
           "gridcolor": "white",
           "linecolor": "white",
           "ticks": "",
           "title": {
            "standoff": 15
           },
           "zerolinecolor": "white",
           "zerolinewidth": 2
          },
          "yaxis": {
           "automargin": true,
           "gridcolor": "white",
           "linecolor": "white",
           "ticks": "",
           "title": {
            "standoff": 15
           },
           "zerolinecolor": "white",
           "zerolinewidth": 2
          }
         }
        },
        "title": {
         "text": "Distribution of win types across weight categories - Males"
        },
        "xaxis": {
         "anchor": "y",
         "domain": [
          0,
          1
         ],
         "ticksuffix": "%",
         "title": {
          "text": "Percentage within each weight class"
         }
        },
        "yaxis": {
         "anchor": "x",
         "categoryarray": [
          "66KG",
          "77KG",
          "88KG",
          "99KG",
          "+99KG",
          "ABS"
         ],
         "categoryorder": "array",
         "domain": [
          0,
          1
         ],
         "title": {
          "text": "Weight Class"
         }
        }
       }
      }
     },
     "metadata": {},
     "output_type": "display_data"
    },
    {
     "data": {
      "application/vnd.plotly.v1+json": {
       "config": {
        "plotlyServerURL": "https://plot.ly"
       },
       "data": [
        {
         "alignmentgroup": "True",
         "bingroup": "y",
         "histfunc": "sum",
         "hovertemplate": "Type of victory=DECISION<br>sum of occurence (normalized as percent)=%{x}<br>Weight Class=%{y}<extra></extra>",
         "legendgroup": "DECISION",
         "marker": {
          "color": "#636efa",
          "pattern": {
           "shape": ""
          }
         },
         "name": "DECISION",
         "offsetgroup": "DECISION",
         "orientation": "h",
         "showlegend": true,
         "type": "histogram",
         "x": [
          0.01,
          0.01,
          0.01,
          0.01,
          0.01,
          0.01
         ],
         "xaxis": "x",
         "y": [
          "+60KG",
          "+60KG",
          "60KG",
          "60KG",
          "+60KG",
          "60KG"
         ],
         "yaxis": "y"
        },
        {
         "alignmentgroup": "True",
         "bingroup": "y",
         "histfunc": "sum",
         "hovertemplate": "Type of victory=POINTS<br>sum of occurence (normalized as percent)=%{x}<br>Weight Class=%{y}<extra></extra>",
         "legendgroup": "POINTS",
         "marker": {
          "color": "#EF553B",
          "pattern": {
           "shape": ""
          }
         },
         "name": "POINTS",
         "offsetgroup": "POINTS",
         "orientation": "h",
         "showlegend": true,
         "type": "histogram",
         "x": [
          0.01,
          0.01,
          0.01,
          0.01,
          0.01,
          0.01,
          0.01,
          0.01,
          0.01,
          0.01,
          0.01,
          0.01,
          0.01,
          0.01,
          0.01,
          0.01,
          0.01,
          0.01
         ],
         "xaxis": "x",
         "y": [
          "60KG",
          "+60KG",
          "+60KG",
          "60KG",
          "+60KG",
          "60KG",
          "+60KG",
          "+60KG",
          "60KG",
          "60KG",
          "60KG",
          "+60KG",
          "60KG",
          "+60KG",
          "+60KG",
          "60KG",
          "60KG",
          "+60KG"
         ],
         "yaxis": "y"
        },
        {
         "alignmentgroup": "True",
         "bingroup": "y",
         "histfunc": "sum",
         "hovertemplate": "Type of victory=SUBMISSION<br>sum of occurence (normalized as percent)=%{x}<br>Weight Class=%{y}<extra></extra>",
         "legendgroup": "SUBMISSION",
         "marker": {
          "color": "#00cc96",
          "pattern": {
           "shape": ""
          }
         },
         "name": "SUBMISSION",
         "offsetgroup": "SUBMISSION",
         "orientation": "h",
         "showlegend": true,
         "type": "histogram",
         "x": [
          0.01,
          0.01,
          0.01,
          0.01,
          0.01,
          0.01,
          0.01,
          0.01,
          0.01,
          0.01,
          0.01,
          0.01,
          0.01,
          0.01,
          0.01,
          0.01
         ],
         "xaxis": "x",
         "y": [
          "+60KG",
          "60KG",
          "60KG",
          "60KG",
          "60KG",
          "60KG",
          "60KG",
          "60KG",
          "+60KG",
          "+60KG",
          "+60KG",
          "+60KG",
          "+60KG",
          "+60KG",
          "+60KG",
          "60KG"
         ],
         "yaxis": "y"
        }
       ],
       "layout": {
        "barmode": "stack",
        "barnorm": "percent",
        "legend": {
         "title": {
          "text": "Type of victory"
         },
         "tracegroupgap": 0
        },
        "template": {
         "data": {
          "bar": [
           {
            "error_x": {
             "color": "#2a3f5f"
            },
            "error_y": {
             "color": "#2a3f5f"
            },
            "marker": {
             "line": {
              "color": "#E5ECF6",
              "width": 0.5
             },
             "pattern": {
              "fillmode": "overlay",
              "size": 10,
              "solidity": 0.2
             }
            },
            "type": "bar"
           }
          ],
          "barpolar": [
           {
            "marker": {
             "line": {
              "color": "#E5ECF6",
              "width": 0.5
             },
             "pattern": {
              "fillmode": "overlay",
              "size": 10,
              "solidity": 0.2
             }
            },
            "type": "barpolar"
           }
          ],
          "carpet": [
           {
            "aaxis": {
             "endlinecolor": "#2a3f5f",
             "gridcolor": "white",
             "linecolor": "white",
             "minorgridcolor": "white",
             "startlinecolor": "#2a3f5f"
            },
            "baxis": {
             "endlinecolor": "#2a3f5f",
             "gridcolor": "white",
             "linecolor": "white",
             "minorgridcolor": "white",
             "startlinecolor": "#2a3f5f"
            },
            "type": "carpet"
           }
          ],
          "choropleth": [
           {
            "colorbar": {
             "outlinewidth": 0,
             "ticks": ""
            },
            "type": "choropleth"
           }
          ],
          "contour": [
           {
            "colorbar": {
             "outlinewidth": 0,
             "ticks": ""
            },
            "colorscale": [
             [
              0,
              "#0d0887"
             ],
             [
              0.1111111111111111,
              "#46039f"
             ],
             [
              0.2222222222222222,
              "#7201a8"
             ],
             [
              0.3333333333333333,
              "#9c179e"
             ],
             [
              0.4444444444444444,
              "#bd3786"
             ],
             [
              0.5555555555555556,
              "#d8576b"
             ],
             [
              0.6666666666666666,
              "#ed7953"
             ],
             [
              0.7777777777777778,
              "#fb9f3a"
             ],
             [
              0.8888888888888888,
              "#fdca26"
             ],
             [
              1,
              "#f0f921"
             ]
            ],
            "type": "contour"
           }
          ],
          "contourcarpet": [
           {
            "colorbar": {
             "outlinewidth": 0,
             "ticks": ""
            },
            "type": "contourcarpet"
           }
          ],
          "heatmap": [
           {
            "colorbar": {
             "outlinewidth": 0,
             "ticks": ""
            },
            "colorscale": [
             [
              0,
              "#0d0887"
             ],
             [
              0.1111111111111111,
              "#46039f"
             ],
             [
              0.2222222222222222,
              "#7201a8"
             ],
             [
              0.3333333333333333,
              "#9c179e"
             ],
             [
              0.4444444444444444,
              "#bd3786"
             ],
             [
              0.5555555555555556,
              "#d8576b"
             ],
             [
              0.6666666666666666,
              "#ed7953"
             ],
             [
              0.7777777777777778,
              "#fb9f3a"
             ],
             [
              0.8888888888888888,
              "#fdca26"
             ],
             [
              1,
              "#f0f921"
             ]
            ],
            "type": "heatmap"
           }
          ],
          "heatmapgl": [
           {
            "colorbar": {
             "outlinewidth": 0,
             "ticks": ""
            },
            "colorscale": [
             [
              0,
              "#0d0887"
             ],
             [
              0.1111111111111111,
              "#46039f"
             ],
             [
              0.2222222222222222,
              "#7201a8"
             ],
             [
              0.3333333333333333,
              "#9c179e"
             ],
             [
              0.4444444444444444,
              "#bd3786"
             ],
             [
              0.5555555555555556,
              "#d8576b"
             ],
             [
              0.6666666666666666,
              "#ed7953"
             ],
             [
              0.7777777777777778,
              "#fb9f3a"
             ],
             [
              0.8888888888888888,
              "#fdca26"
             ],
             [
              1,
              "#f0f921"
             ]
            ],
            "type": "heatmapgl"
           }
          ],
          "histogram": [
           {
            "marker": {
             "pattern": {
              "fillmode": "overlay",
              "size": 10,
              "solidity": 0.2
             }
            },
            "type": "histogram"
           }
          ],
          "histogram2d": [
           {
            "colorbar": {
             "outlinewidth": 0,
             "ticks": ""
            },
            "colorscale": [
             [
              0,
              "#0d0887"
             ],
             [
              0.1111111111111111,
              "#46039f"
             ],
             [
              0.2222222222222222,
              "#7201a8"
             ],
             [
              0.3333333333333333,
              "#9c179e"
             ],
             [
              0.4444444444444444,
              "#bd3786"
             ],
             [
              0.5555555555555556,
              "#d8576b"
             ],
             [
              0.6666666666666666,
              "#ed7953"
             ],
             [
              0.7777777777777778,
              "#fb9f3a"
             ],
             [
              0.8888888888888888,
              "#fdca26"
             ],
             [
              1,
              "#f0f921"
             ]
            ],
            "type": "histogram2d"
           }
          ],
          "histogram2dcontour": [
           {
            "colorbar": {
             "outlinewidth": 0,
             "ticks": ""
            },
            "colorscale": [
             [
              0,
              "#0d0887"
             ],
             [
              0.1111111111111111,
              "#46039f"
             ],
             [
              0.2222222222222222,
              "#7201a8"
             ],
             [
              0.3333333333333333,
              "#9c179e"
             ],
             [
              0.4444444444444444,
              "#bd3786"
             ],
             [
              0.5555555555555556,
              "#d8576b"
             ],
             [
              0.6666666666666666,
              "#ed7953"
             ],
             [
              0.7777777777777778,
              "#fb9f3a"
             ],
             [
              0.8888888888888888,
              "#fdca26"
             ],
             [
              1,
              "#f0f921"
             ]
            ],
            "type": "histogram2dcontour"
           }
          ],
          "mesh3d": [
           {
            "colorbar": {
             "outlinewidth": 0,
             "ticks": ""
            },
            "type": "mesh3d"
           }
          ],
          "parcoords": [
           {
            "line": {
             "colorbar": {
              "outlinewidth": 0,
              "ticks": ""
             }
            },
            "type": "parcoords"
           }
          ],
          "pie": [
           {
            "automargin": true,
            "type": "pie"
           }
          ],
          "scatter": [
           {
            "fillpattern": {
             "fillmode": "overlay",
             "size": 10,
             "solidity": 0.2
            },
            "type": "scatter"
           }
          ],
          "scatter3d": [
           {
            "line": {
             "colorbar": {
              "outlinewidth": 0,
              "ticks": ""
             }
            },
            "marker": {
             "colorbar": {
              "outlinewidth": 0,
              "ticks": ""
             }
            },
            "type": "scatter3d"
           }
          ],
          "scattercarpet": [
           {
            "marker": {
             "colorbar": {
              "outlinewidth": 0,
              "ticks": ""
             }
            },
            "type": "scattercarpet"
           }
          ],
          "scattergeo": [
           {
            "marker": {
             "colorbar": {
              "outlinewidth": 0,
              "ticks": ""
             }
            },
            "type": "scattergeo"
           }
          ],
          "scattergl": [
           {
            "marker": {
             "colorbar": {
              "outlinewidth": 0,
              "ticks": ""
             }
            },
            "type": "scattergl"
           }
          ],
          "scattermapbox": [
           {
            "marker": {
             "colorbar": {
              "outlinewidth": 0,
              "ticks": ""
             }
            },
            "type": "scattermapbox"
           }
          ],
          "scatterpolar": [
           {
            "marker": {
             "colorbar": {
              "outlinewidth": 0,
              "ticks": ""
             }
            },
            "type": "scatterpolar"
           }
          ],
          "scatterpolargl": [
           {
            "marker": {
             "colorbar": {
              "outlinewidth": 0,
              "ticks": ""
             }
            },
            "type": "scatterpolargl"
           }
          ],
          "scatterternary": [
           {
            "marker": {
             "colorbar": {
              "outlinewidth": 0,
              "ticks": ""
             }
            },
            "type": "scatterternary"
           }
          ],
          "surface": [
           {
            "colorbar": {
             "outlinewidth": 0,
             "ticks": ""
            },
            "colorscale": [
             [
              0,
              "#0d0887"
             ],
             [
              0.1111111111111111,
              "#46039f"
             ],
             [
              0.2222222222222222,
              "#7201a8"
             ],
             [
              0.3333333333333333,
              "#9c179e"
             ],
             [
              0.4444444444444444,
              "#bd3786"
             ],
             [
              0.5555555555555556,
              "#d8576b"
             ],
             [
              0.6666666666666666,
              "#ed7953"
             ],
             [
              0.7777777777777778,
              "#fb9f3a"
             ],
             [
              0.8888888888888888,
              "#fdca26"
             ],
             [
              1,
              "#f0f921"
             ]
            ],
            "type": "surface"
           }
          ],
          "table": [
           {
            "cells": {
             "fill": {
              "color": "#EBF0F8"
             },
             "line": {
              "color": "white"
             }
            },
            "header": {
             "fill": {
              "color": "#C8D4E3"
             },
             "line": {
              "color": "white"
             }
            },
            "type": "table"
           }
          ]
         },
         "layout": {
          "annotationdefaults": {
           "arrowcolor": "#2a3f5f",
           "arrowhead": 0,
           "arrowwidth": 1
          },
          "autotypenumbers": "strict",
          "coloraxis": {
           "colorbar": {
            "outlinewidth": 0,
            "ticks": ""
           }
          },
          "colorscale": {
           "diverging": [
            [
             0,
             "#8e0152"
            ],
            [
             0.1,
             "#c51b7d"
            ],
            [
             0.2,
             "#de77ae"
            ],
            [
             0.3,
             "#f1b6da"
            ],
            [
             0.4,
             "#fde0ef"
            ],
            [
             0.5,
             "#f7f7f7"
            ],
            [
             0.6,
             "#e6f5d0"
            ],
            [
             0.7,
             "#b8e186"
            ],
            [
             0.8,
             "#7fbc41"
            ],
            [
             0.9,
             "#4d9221"
            ],
            [
             1,
             "#276419"
            ]
           ],
           "sequential": [
            [
             0,
             "#0d0887"
            ],
            [
             0.1111111111111111,
             "#46039f"
            ],
            [
             0.2222222222222222,
             "#7201a8"
            ],
            [
             0.3333333333333333,
             "#9c179e"
            ],
            [
             0.4444444444444444,
             "#bd3786"
            ],
            [
             0.5555555555555556,
             "#d8576b"
            ],
            [
             0.6666666666666666,
             "#ed7953"
            ],
            [
             0.7777777777777778,
             "#fb9f3a"
            ],
            [
             0.8888888888888888,
             "#fdca26"
            ],
            [
             1,
             "#f0f921"
            ]
           ],
           "sequentialminus": [
            [
             0,
             "#0d0887"
            ],
            [
             0.1111111111111111,
             "#46039f"
            ],
            [
             0.2222222222222222,
             "#7201a8"
            ],
            [
             0.3333333333333333,
             "#9c179e"
            ],
            [
             0.4444444444444444,
             "#bd3786"
            ],
            [
             0.5555555555555556,
             "#d8576b"
            ],
            [
             0.6666666666666666,
             "#ed7953"
            ],
            [
             0.7777777777777778,
             "#fb9f3a"
            ],
            [
             0.8888888888888888,
             "#fdca26"
            ],
            [
             1,
             "#f0f921"
            ]
           ]
          },
          "colorway": [
           "#636efa",
           "#EF553B",
           "#00cc96",
           "#ab63fa",
           "#FFA15A",
           "#19d3f3",
           "#FF6692",
           "#B6E880",
           "#FF97FF",
           "#FECB52"
          ],
          "font": {
           "color": "#2a3f5f"
          },
          "geo": {
           "bgcolor": "white",
           "lakecolor": "white",
           "landcolor": "#E5ECF6",
           "showlakes": true,
           "showland": true,
           "subunitcolor": "white"
          },
          "hoverlabel": {
           "align": "left"
          },
          "hovermode": "closest",
          "mapbox": {
           "style": "light"
          },
          "paper_bgcolor": "white",
          "plot_bgcolor": "#E5ECF6",
          "polar": {
           "angularaxis": {
            "gridcolor": "white",
            "linecolor": "white",
            "ticks": ""
           },
           "bgcolor": "#E5ECF6",
           "radialaxis": {
            "gridcolor": "white",
            "linecolor": "white",
            "ticks": ""
           }
          },
          "scene": {
           "xaxis": {
            "backgroundcolor": "#E5ECF6",
            "gridcolor": "white",
            "gridwidth": 2,
            "linecolor": "white",
            "showbackground": true,
            "ticks": "",
            "zerolinecolor": "white"
           },
           "yaxis": {
            "backgroundcolor": "#E5ECF6",
            "gridcolor": "white",
            "gridwidth": 2,
            "linecolor": "white",
            "showbackground": true,
            "ticks": "",
            "zerolinecolor": "white"
           },
           "zaxis": {
            "backgroundcolor": "#E5ECF6",
            "gridcolor": "white",
            "gridwidth": 2,
            "linecolor": "white",
            "showbackground": true,
            "ticks": "",
            "zerolinecolor": "white"
           }
          },
          "shapedefaults": {
           "line": {
            "color": "#2a3f5f"
           }
          },
          "ternary": {
           "aaxis": {
            "gridcolor": "white",
            "linecolor": "white",
            "ticks": ""
           },
           "baxis": {
            "gridcolor": "white",
            "linecolor": "white",
            "ticks": ""
           },
           "bgcolor": "#E5ECF6",
           "caxis": {
            "gridcolor": "white",
            "linecolor": "white",
            "ticks": ""
           }
          },
          "title": {
           "x": 0.05
          },
          "xaxis": {
           "automargin": true,
           "gridcolor": "white",
           "linecolor": "white",
           "ticks": "",
           "title": {
            "standoff": 15
           },
           "zerolinecolor": "white",
           "zerolinewidth": 2
          },
          "yaxis": {
           "automargin": true,
           "gridcolor": "white",
           "linecolor": "white",
           "ticks": "",
           "title": {
            "standoff": 15
           },
           "zerolinecolor": "white",
           "zerolinewidth": 2
          }
         }
        },
        "title": {
         "text": "Distribution of win types across weight categories - Females"
        },
        "xaxis": {
         "anchor": "y",
         "domain": [
          0,
          1
         ],
         "ticksuffix": "%",
         "title": {
          "text": "Percentage within each weight class"
         }
        },
        "yaxis": {
         "anchor": "x",
         "categoryarray": [
          "60KG",
          "+60KG"
         ],
         "categoryorder": "array",
         "domain": [
          0,
          1
         ],
         "showticklabels": true,
         "title": {
          "text": "Weight Class"
         }
        }
       }
      }
     },
     "metadata": {},
     "output_type": "display_data"
    }
   ],
   "source": [
    "#Initializing temporary dataframes and modifying the temporary dataframes so that it is easier to code the layout of the visualizations\n",
    "dfm['percentagecount']=0.01\n",
    "dff['percentagecount']=0.01\n",
    "dff=dff.sort_values(by=[\"win_type\"], axis=0)\n",
    "dfm=dfm.sort_values(by=[\"win_type\"], axis=0)\n",
    "\n",
    "\n",
    "#Building the horizontal stacked histograms\n",
    "fig1=px.histogram(\n",
    "    dfm, y='weight_class', x='percentagecount', title = 'Distribution of win types across weight categories - Males',\n",
    "     barmode='stack', barnorm='percent', color ='win_type',\n",
    "    labels=dict(weight_class='Weight Class', percentagecount=\"occurence\", win_type=\"Type of victory\"),\n",
    "    category_orders={'Type of victory': ['POINTS', 'DECISION', 'SUBMISSION']}\n",
    ")\n",
    "\n",
    "fig2=px.histogram(\n",
    "    dff, y='weight_class', x='percentagecount', title = 'Distribution of win types across weight categories - Females', \n",
    "    color='win_type', barmode='stack', barnorm='percent',\n",
    "    labels=dict(weight_class='Weight Class', percentagecount=\"occurence\", win_type=\"Type of victory\"),\n",
    "    category_orders={\"Type of victory\": [\"Points\", \"Decision\", \"Submission\"]}\n",
    ")\n",
    "\n",
    "#Amending the layout of the 2 figures\n",
    "fig1.update_layout(xaxis_ticksuffix = '%', xaxis_title= 'Percentage within each weight class')\n",
    "fig2.update_layout(xaxis_ticksuffix = '%', xaxis_title= 'Percentage within each weight class')\n",
    "\n",
    "fig1.update_yaxes(categoryorder='array', categoryarray= ['66KG', '77KG', '88KG', '99KG', '+99KG', 'ABS'])\n",
    "fig2.update_yaxes(categoryorder='array', categoryarray=['60KG', '+60KG'], matches=None, showticklabels=True)\n",
    "\n",
    "fig1.show()\n",
    "fig2.show()\n"
   ]
  },
  {
   "cell_type": "markdown",
   "metadata": {},
   "source": [
    "From the distribution of win types across the weight classes and genders, we can see that for all weight classes and genders submission victories are about the same as victory by points. \n",
    "\n",
    "This is surprising as it is easier to get an advantageous position during the match than to complete a submission, so the rational approach will be to obtain a lead in points, and then stall out the match to win instead of risking a submission attempt. \n",
    "\n",
    "Perhaps this can be attributed to ADCC being a tournament style event, where athletes may have to fight multiple matches each day. Stalling out the match may be a more rational approach to the individual matches, but athletes who employ this strategy would find themselves low on stamina in the later matches and lose the overall tournament. "
   ]
  },
  {
   "cell_type": "code",
   "execution_count": 15,
   "metadata": {},
   "outputs": [
    {
     "data": {
      "application/vnd.plotly.v1+json": {
       "config": {
        "plotlyServerURL": "https://plot.ly"
       },
       "data": [
        {
         "alignmentgroup": "True",
         "bingroup": "x",
         "hovertemplate": "Difference in points=%{x}<br>count=%{y}<extra></extra>",
         "legendgroup": "",
         "marker": {
          "color": "#636efa",
          "pattern": {
           "shape": ""
          }
         },
         "name": "",
         "offsetgroup": "",
         "orientation": "v",
         "showlegend": false,
         "type": "histogram",
         "x": [
          3,
          0,
          5,
          7,
          0,
          3,
          3,
          0,
          3,
          3,
          0,
          12,
          0,
          2,
          4,
          10,
          2,
          5,
          3,
          0,
          0,
          0,
          6,
          2,
          0,
          0,
          0,
          12,
          2,
          5,
          2,
          2,
          2,
          0,
          8,
          0,
          3,
          0,
          4,
          0,
          14,
          6,
          15,
          8,
          14,
          4,
          5,
          17,
          0,
          3,
          3,
          9,
          0,
          3,
          2,
          6,
          0,
          0,
          3,
          3,
          0,
          2,
          0,
          0,
          3,
          2,
          0,
          3,
          3,
          0,
          0,
          3,
          6,
          3,
          3,
          2,
          3,
          0,
          3,
          3,
          0,
          5,
          0,
          2,
          2,
          2,
          3,
          0,
          8,
          5,
          0,
          0,
          0,
          1,
          2,
          4,
          3,
          2,
          0,
          2,
          6,
          5,
          2,
          3,
          0,
          6,
          3,
          0,
          2,
          5,
          2,
          2,
          3,
          0,
          5,
          1,
          0,
          2,
          4,
          3,
          6,
          2,
          3,
          0,
          5,
          8,
          2,
          0,
          9,
          22,
          3,
          2,
          10,
          2,
          0,
          0,
          2,
          0,
          7,
          4,
          0,
          7,
          0,
          0,
          2,
          2,
          0,
          0,
          3,
          8,
          8,
          0,
          5,
          0,
          0,
          3,
          5,
          0,
          8,
          2,
          0,
          0,
          0,
          1,
          3,
          3,
          3,
          2,
          2,
          3,
          2,
          2,
          2,
          0,
          3,
          0,
          0,
          0,
          0,
          2,
          0,
          0,
          0,
          2,
          2,
          0,
          0,
          8,
          0,
          0,
          0,
          0,
          2,
          2,
          3,
          2,
          2,
          4,
          0,
          5,
          2,
          0,
          0,
          3,
          4,
          2,
          2,
          1,
          0,
          7,
          5,
          0,
          3,
          3,
          3,
          3,
          0,
          2,
          0,
          0,
          0,
          2,
          3,
          0,
          2,
          2,
          10,
          0,
          6,
          0,
          0,
          6,
          0,
          0,
          0,
          2,
          0,
          0,
          2,
          2,
          2,
          0,
          3,
          0,
          5,
          0,
          16,
          5,
          12,
          10,
          3,
          16,
          2,
          0,
          9,
          2,
          0,
          0,
          0,
          0,
          3,
          3,
          2,
          3,
          3,
          0,
          5,
          0,
          2,
          0,
          2,
          7,
          0,
          0,
          0,
          0,
          6,
          6,
          2,
          3,
          6,
          2,
          5,
          0,
          6,
          0,
          8,
          0,
          0,
          6,
          3,
          2,
          3,
          2,
          0,
          0,
          2,
          2,
          2,
          1,
          3,
          3,
          3,
          0,
          0,
          3,
          3,
          0,
          2,
          0,
          2,
          0,
          13,
          0,
          9,
          10,
          3,
          2,
          3,
          3,
          0,
          4,
          3,
          2,
          0,
          6,
          0,
          0,
          0,
          2,
          0,
          2,
          0,
          3,
          0,
          9,
          2,
          3,
          0,
          6,
          5,
          6,
          9,
          0,
          2,
          5,
          3,
          5,
          2,
          3,
          0,
          0,
          0,
          2,
          2,
          0,
          0,
          0,
          2,
          5,
          0,
          0,
          2,
          0,
          2,
          2,
          5,
          0,
          0,
          2,
          0,
          2,
          2,
          0,
          0,
          2,
          2,
          3,
          0,
          2,
          3,
          0,
          6,
          2,
          6,
          11,
          6,
          5,
          9,
          3,
          0,
          2,
          3,
          0,
          3,
          2,
          6,
          3,
          3,
          7,
          3,
          2,
          0,
          5,
          0,
          0,
          0,
          2,
          0,
          6,
          5,
          0,
          4,
          5,
          3,
          3,
          0,
          2,
          4,
          0,
          4,
          2,
          0,
          0,
          6,
          4,
          10,
          0,
          6,
          0,
          3,
          0,
          2,
          0,
          2,
          2,
          2,
          3,
          2,
          3,
          2,
          0,
          10,
          6,
          0,
          3,
          0,
          8,
          2,
          3,
          0,
          0,
          9,
          3,
          0,
          10,
          0,
          3,
          10,
          5,
          0,
          3,
          0,
          0,
          5,
          0,
          2,
          13,
          2,
          0,
          0,
          0,
          3,
          0,
          5,
          6,
          2,
          8,
          0,
          3,
          0,
          16,
          0,
          4,
          2,
          0,
          3,
          0,
          17,
          4,
          3,
          6,
          5,
          3,
          0,
          5,
          3,
          0,
          3,
          3,
          0,
          0
         ],
         "xaxis": "x",
         "yaxis": "y"
        }
       ],
       "layout": {
        "barmode": "relative",
        "legend": {
         "tracegroupgap": 0
        },
        "template": {
         "data": {
          "bar": [
           {
            "error_x": {
             "color": "#2a3f5f"
            },
            "error_y": {
             "color": "#2a3f5f"
            },
            "marker": {
             "line": {
              "color": "#E5ECF6",
              "width": 0.5
             },
             "pattern": {
              "fillmode": "overlay",
              "size": 10,
              "solidity": 0.2
             }
            },
            "type": "bar"
           }
          ],
          "barpolar": [
           {
            "marker": {
             "line": {
              "color": "#E5ECF6",
              "width": 0.5
             },
             "pattern": {
              "fillmode": "overlay",
              "size": 10,
              "solidity": 0.2
             }
            },
            "type": "barpolar"
           }
          ],
          "carpet": [
           {
            "aaxis": {
             "endlinecolor": "#2a3f5f",
             "gridcolor": "white",
             "linecolor": "white",
             "minorgridcolor": "white",
             "startlinecolor": "#2a3f5f"
            },
            "baxis": {
             "endlinecolor": "#2a3f5f",
             "gridcolor": "white",
             "linecolor": "white",
             "minorgridcolor": "white",
             "startlinecolor": "#2a3f5f"
            },
            "type": "carpet"
           }
          ],
          "choropleth": [
           {
            "colorbar": {
             "outlinewidth": 0,
             "ticks": ""
            },
            "type": "choropleth"
           }
          ],
          "contour": [
           {
            "colorbar": {
             "outlinewidth": 0,
             "ticks": ""
            },
            "colorscale": [
             [
              0,
              "#0d0887"
             ],
             [
              0.1111111111111111,
              "#46039f"
             ],
             [
              0.2222222222222222,
              "#7201a8"
             ],
             [
              0.3333333333333333,
              "#9c179e"
             ],
             [
              0.4444444444444444,
              "#bd3786"
             ],
             [
              0.5555555555555556,
              "#d8576b"
             ],
             [
              0.6666666666666666,
              "#ed7953"
             ],
             [
              0.7777777777777778,
              "#fb9f3a"
             ],
             [
              0.8888888888888888,
              "#fdca26"
             ],
             [
              1,
              "#f0f921"
             ]
            ],
            "type": "contour"
           }
          ],
          "contourcarpet": [
           {
            "colorbar": {
             "outlinewidth": 0,
             "ticks": ""
            },
            "type": "contourcarpet"
           }
          ],
          "heatmap": [
           {
            "colorbar": {
             "outlinewidth": 0,
             "ticks": ""
            },
            "colorscale": [
             [
              0,
              "#0d0887"
             ],
             [
              0.1111111111111111,
              "#46039f"
             ],
             [
              0.2222222222222222,
              "#7201a8"
             ],
             [
              0.3333333333333333,
              "#9c179e"
             ],
             [
              0.4444444444444444,
              "#bd3786"
             ],
             [
              0.5555555555555556,
              "#d8576b"
             ],
             [
              0.6666666666666666,
              "#ed7953"
             ],
             [
              0.7777777777777778,
              "#fb9f3a"
             ],
             [
              0.8888888888888888,
              "#fdca26"
             ],
             [
              1,
              "#f0f921"
             ]
            ],
            "type": "heatmap"
           }
          ],
          "heatmapgl": [
           {
            "colorbar": {
             "outlinewidth": 0,
             "ticks": ""
            },
            "colorscale": [
             [
              0,
              "#0d0887"
             ],
             [
              0.1111111111111111,
              "#46039f"
             ],
             [
              0.2222222222222222,
              "#7201a8"
             ],
             [
              0.3333333333333333,
              "#9c179e"
             ],
             [
              0.4444444444444444,
              "#bd3786"
             ],
             [
              0.5555555555555556,
              "#d8576b"
             ],
             [
              0.6666666666666666,
              "#ed7953"
             ],
             [
              0.7777777777777778,
              "#fb9f3a"
             ],
             [
              0.8888888888888888,
              "#fdca26"
             ],
             [
              1,
              "#f0f921"
             ]
            ],
            "type": "heatmapgl"
           }
          ],
          "histogram": [
           {
            "marker": {
             "pattern": {
              "fillmode": "overlay",
              "size": 10,
              "solidity": 0.2
             }
            },
            "type": "histogram"
           }
          ],
          "histogram2d": [
           {
            "colorbar": {
             "outlinewidth": 0,
             "ticks": ""
            },
            "colorscale": [
             [
              0,
              "#0d0887"
             ],
             [
              0.1111111111111111,
              "#46039f"
             ],
             [
              0.2222222222222222,
              "#7201a8"
             ],
             [
              0.3333333333333333,
              "#9c179e"
             ],
             [
              0.4444444444444444,
              "#bd3786"
             ],
             [
              0.5555555555555556,
              "#d8576b"
             ],
             [
              0.6666666666666666,
              "#ed7953"
             ],
             [
              0.7777777777777778,
              "#fb9f3a"
             ],
             [
              0.8888888888888888,
              "#fdca26"
             ],
             [
              1,
              "#f0f921"
             ]
            ],
            "type": "histogram2d"
           }
          ],
          "histogram2dcontour": [
           {
            "colorbar": {
             "outlinewidth": 0,
             "ticks": ""
            },
            "colorscale": [
             [
              0,
              "#0d0887"
             ],
             [
              0.1111111111111111,
              "#46039f"
             ],
             [
              0.2222222222222222,
              "#7201a8"
             ],
             [
              0.3333333333333333,
              "#9c179e"
             ],
             [
              0.4444444444444444,
              "#bd3786"
             ],
             [
              0.5555555555555556,
              "#d8576b"
             ],
             [
              0.6666666666666666,
              "#ed7953"
             ],
             [
              0.7777777777777778,
              "#fb9f3a"
             ],
             [
              0.8888888888888888,
              "#fdca26"
             ],
             [
              1,
              "#f0f921"
             ]
            ],
            "type": "histogram2dcontour"
           }
          ],
          "mesh3d": [
           {
            "colorbar": {
             "outlinewidth": 0,
             "ticks": ""
            },
            "type": "mesh3d"
           }
          ],
          "parcoords": [
           {
            "line": {
             "colorbar": {
              "outlinewidth": 0,
              "ticks": ""
             }
            },
            "type": "parcoords"
           }
          ],
          "pie": [
           {
            "automargin": true,
            "type": "pie"
           }
          ],
          "scatter": [
           {
            "fillpattern": {
             "fillmode": "overlay",
             "size": 10,
             "solidity": 0.2
            },
            "type": "scatter"
           }
          ],
          "scatter3d": [
           {
            "line": {
             "colorbar": {
              "outlinewidth": 0,
              "ticks": ""
             }
            },
            "marker": {
             "colorbar": {
              "outlinewidth": 0,
              "ticks": ""
             }
            },
            "type": "scatter3d"
           }
          ],
          "scattercarpet": [
           {
            "marker": {
             "colorbar": {
              "outlinewidth": 0,
              "ticks": ""
             }
            },
            "type": "scattercarpet"
           }
          ],
          "scattergeo": [
           {
            "marker": {
             "colorbar": {
              "outlinewidth": 0,
              "ticks": ""
             }
            },
            "type": "scattergeo"
           }
          ],
          "scattergl": [
           {
            "marker": {
             "colorbar": {
              "outlinewidth": 0,
              "ticks": ""
             }
            },
            "type": "scattergl"
           }
          ],
          "scattermapbox": [
           {
            "marker": {
             "colorbar": {
              "outlinewidth": 0,
              "ticks": ""
             }
            },
            "type": "scattermapbox"
           }
          ],
          "scatterpolar": [
           {
            "marker": {
             "colorbar": {
              "outlinewidth": 0,
              "ticks": ""
             }
            },
            "type": "scatterpolar"
           }
          ],
          "scatterpolargl": [
           {
            "marker": {
             "colorbar": {
              "outlinewidth": 0,
              "ticks": ""
             }
            },
            "type": "scatterpolargl"
           }
          ],
          "scatterternary": [
           {
            "marker": {
             "colorbar": {
              "outlinewidth": 0,
              "ticks": ""
             }
            },
            "type": "scatterternary"
           }
          ],
          "surface": [
           {
            "colorbar": {
             "outlinewidth": 0,
             "ticks": ""
            },
            "colorscale": [
             [
              0,
              "#0d0887"
             ],
             [
              0.1111111111111111,
              "#46039f"
             ],
             [
              0.2222222222222222,
              "#7201a8"
             ],
             [
              0.3333333333333333,
              "#9c179e"
             ],
             [
              0.4444444444444444,
              "#bd3786"
             ],
             [
              0.5555555555555556,
              "#d8576b"
             ],
             [
              0.6666666666666666,
              "#ed7953"
             ],
             [
              0.7777777777777778,
              "#fb9f3a"
             ],
             [
              0.8888888888888888,
              "#fdca26"
             ],
             [
              1,
              "#f0f921"
             ]
            ],
            "type": "surface"
           }
          ],
          "table": [
           {
            "cells": {
             "fill": {
              "color": "#EBF0F8"
             },
             "line": {
              "color": "white"
             }
            },
            "header": {
             "fill": {
              "color": "#C8D4E3"
             },
             "line": {
              "color": "white"
             }
            },
            "type": "table"
           }
          ]
         },
         "layout": {
          "annotationdefaults": {
           "arrowcolor": "#2a3f5f",
           "arrowhead": 0,
           "arrowwidth": 1
          },
          "autotypenumbers": "strict",
          "coloraxis": {
           "colorbar": {
            "outlinewidth": 0,
            "ticks": ""
           }
          },
          "colorscale": {
           "diverging": [
            [
             0,
             "#8e0152"
            ],
            [
             0.1,
             "#c51b7d"
            ],
            [
             0.2,
             "#de77ae"
            ],
            [
             0.3,
             "#f1b6da"
            ],
            [
             0.4,
             "#fde0ef"
            ],
            [
             0.5,
             "#f7f7f7"
            ],
            [
             0.6,
             "#e6f5d0"
            ],
            [
             0.7,
             "#b8e186"
            ],
            [
             0.8,
             "#7fbc41"
            ],
            [
             0.9,
             "#4d9221"
            ],
            [
             1,
             "#276419"
            ]
           ],
           "sequential": [
            [
             0,
             "#0d0887"
            ],
            [
             0.1111111111111111,
             "#46039f"
            ],
            [
             0.2222222222222222,
             "#7201a8"
            ],
            [
             0.3333333333333333,
             "#9c179e"
            ],
            [
             0.4444444444444444,
             "#bd3786"
            ],
            [
             0.5555555555555556,
             "#d8576b"
            ],
            [
             0.6666666666666666,
             "#ed7953"
            ],
            [
             0.7777777777777778,
             "#fb9f3a"
            ],
            [
             0.8888888888888888,
             "#fdca26"
            ],
            [
             1,
             "#f0f921"
            ]
           ],
           "sequentialminus": [
            [
             0,
             "#0d0887"
            ],
            [
             0.1111111111111111,
             "#46039f"
            ],
            [
             0.2222222222222222,
             "#7201a8"
            ],
            [
             0.3333333333333333,
             "#9c179e"
            ],
            [
             0.4444444444444444,
             "#bd3786"
            ],
            [
             0.5555555555555556,
             "#d8576b"
            ],
            [
             0.6666666666666666,
             "#ed7953"
            ],
            [
             0.7777777777777778,
             "#fb9f3a"
            ],
            [
             0.8888888888888888,
             "#fdca26"
            ],
            [
             1,
             "#f0f921"
            ]
           ]
          },
          "colorway": [
           "#636efa",
           "#EF553B",
           "#00cc96",
           "#ab63fa",
           "#FFA15A",
           "#19d3f3",
           "#FF6692",
           "#B6E880",
           "#FF97FF",
           "#FECB52"
          ],
          "font": {
           "color": "#2a3f5f"
          },
          "geo": {
           "bgcolor": "white",
           "lakecolor": "white",
           "landcolor": "#E5ECF6",
           "showlakes": true,
           "showland": true,
           "subunitcolor": "white"
          },
          "hoverlabel": {
           "align": "left"
          },
          "hovermode": "closest",
          "mapbox": {
           "style": "light"
          },
          "paper_bgcolor": "white",
          "plot_bgcolor": "#E5ECF6",
          "polar": {
           "angularaxis": {
            "gridcolor": "white",
            "linecolor": "white",
            "ticks": ""
           },
           "bgcolor": "#E5ECF6",
           "radialaxis": {
            "gridcolor": "white",
            "linecolor": "white",
            "ticks": ""
           }
          },
          "scene": {
           "xaxis": {
            "backgroundcolor": "#E5ECF6",
            "gridcolor": "white",
            "gridwidth": 2,
            "linecolor": "white",
            "showbackground": true,
            "ticks": "",
            "zerolinecolor": "white"
           },
           "yaxis": {
            "backgroundcolor": "#E5ECF6",
            "gridcolor": "white",
            "gridwidth": 2,
            "linecolor": "white",
            "showbackground": true,
            "ticks": "",
            "zerolinecolor": "white"
           },
           "zaxis": {
            "backgroundcolor": "#E5ECF6",
            "gridcolor": "white",
            "gridwidth": 2,
            "linecolor": "white",
            "showbackground": true,
            "ticks": "",
            "zerolinecolor": "white"
           }
          },
          "shapedefaults": {
           "line": {
            "color": "#2a3f5f"
           }
          },
          "ternary": {
           "aaxis": {
            "gridcolor": "white",
            "linecolor": "white",
            "ticks": ""
           },
           "baxis": {
            "gridcolor": "white",
            "linecolor": "white",
            "ticks": ""
           },
           "bgcolor": "#E5ECF6",
           "caxis": {
            "gridcolor": "white",
            "linecolor": "white",
            "ticks": ""
           }
          },
          "title": {
           "x": 0.05
          },
          "xaxis": {
           "automargin": true,
           "gridcolor": "white",
           "linecolor": "white",
           "ticks": "",
           "title": {
            "standoff": 15
           },
           "zerolinecolor": "white",
           "zerolinewidth": 2
          },
          "yaxis": {
           "automargin": true,
           "gridcolor": "white",
           "linecolor": "white",
           "ticks": "",
           "title": {
            "standoff": 15
           },
           "zerolinecolor": "white",
           "zerolinewidth": 2
          }
         }
        },
        "title": {
         "text": "Distribution of points difference in matches where athletes won by points - Males"
        },
        "xaxis": {
         "anchor": "y",
         "domain": [
          0,
          1
         ],
         "dtick": 1,
         "tick0": 0,
         "tickmode": "linear",
         "title": {
          "text": "Difference in points"
         }
        },
        "yaxis": {
         "anchor": "x",
         "domain": [
          0,
          1
         ],
         "title": {
          "text": "count"
         }
        }
       }
      }
     },
     "metadata": {},
     "output_type": "display_data"
    },
    {
     "data": {
      "application/vnd.plotly.v1+json": {
       "config": {
        "plotlyServerURL": "https://plot.ly"
       },
       "data": [
        {
         "alignmentgroup": "True",
         "bingroup": "x",
         "hovertemplate": "Difference in points=%{x}<br>count=%{y}<extra></extra>",
         "legendgroup": "",
         "marker": {
          "color": "#636efa",
          "pattern": {
           "shape": ""
          }
         },
         "name": "",
         "offsetgroup": "",
         "orientation": "v",
         "showlegend": false,
         "type": "histogram",
         "x": [
          6,
          2,
          2,
          12,
          2,
          2,
          0,
          0,
          4,
          3,
          2,
          3,
          0,
          2,
          1,
          10,
          3,
          3
         ],
         "xaxis": "x",
         "xbins": {
          "size": 1
         },
         "yaxis": "y"
        }
       ],
       "layout": {
        "barmode": "relative",
        "legend": {
         "tracegroupgap": 0
        },
        "template": {
         "data": {
          "bar": [
           {
            "error_x": {
             "color": "#2a3f5f"
            },
            "error_y": {
             "color": "#2a3f5f"
            },
            "marker": {
             "line": {
              "color": "#E5ECF6",
              "width": 0.5
             },
             "pattern": {
              "fillmode": "overlay",
              "size": 10,
              "solidity": 0.2
             }
            },
            "type": "bar"
           }
          ],
          "barpolar": [
           {
            "marker": {
             "line": {
              "color": "#E5ECF6",
              "width": 0.5
             },
             "pattern": {
              "fillmode": "overlay",
              "size": 10,
              "solidity": 0.2
             }
            },
            "type": "barpolar"
           }
          ],
          "carpet": [
           {
            "aaxis": {
             "endlinecolor": "#2a3f5f",
             "gridcolor": "white",
             "linecolor": "white",
             "minorgridcolor": "white",
             "startlinecolor": "#2a3f5f"
            },
            "baxis": {
             "endlinecolor": "#2a3f5f",
             "gridcolor": "white",
             "linecolor": "white",
             "minorgridcolor": "white",
             "startlinecolor": "#2a3f5f"
            },
            "type": "carpet"
           }
          ],
          "choropleth": [
           {
            "colorbar": {
             "outlinewidth": 0,
             "ticks": ""
            },
            "type": "choropleth"
           }
          ],
          "contour": [
           {
            "colorbar": {
             "outlinewidth": 0,
             "ticks": ""
            },
            "colorscale": [
             [
              0,
              "#0d0887"
             ],
             [
              0.1111111111111111,
              "#46039f"
             ],
             [
              0.2222222222222222,
              "#7201a8"
             ],
             [
              0.3333333333333333,
              "#9c179e"
             ],
             [
              0.4444444444444444,
              "#bd3786"
             ],
             [
              0.5555555555555556,
              "#d8576b"
             ],
             [
              0.6666666666666666,
              "#ed7953"
             ],
             [
              0.7777777777777778,
              "#fb9f3a"
             ],
             [
              0.8888888888888888,
              "#fdca26"
             ],
             [
              1,
              "#f0f921"
             ]
            ],
            "type": "contour"
           }
          ],
          "contourcarpet": [
           {
            "colorbar": {
             "outlinewidth": 0,
             "ticks": ""
            },
            "type": "contourcarpet"
           }
          ],
          "heatmap": [
           {
            "colorbar": {
             "outlinewidth": 0,
             "ticks": ""
            },
            "colorscale": [
             [
              0,
              "#0d0887"
             ],
             [
              0.1111111111111111,
              "#46039f"
             ],
             [
              0.2222222222222222,
              "#7201a8"
             ],
             [
              0.3333333333333333,
              "#9c179e"
             ],
             [
              0.4444444444444444,
              "#bd3786"
             ],
             [
              0.5555555555555556,
              "#d8576b"
             ],
             [
              0.6666666666666666,
              "#ed7953"
             ],
             [
              0.7777777777777778,
              "#fb9f3a"
             ],
             [
              0.8888888888888888,
              "#fdca26"
             ],
             [
              1,
              "#f0f921"
             ]
            ],
            "type": "heatmap"
           }
          ],
          "heatmapgl": [
           {
            "colorbar": {
             "outlinewidth": 0,
             "ticks": ""
            },
            "colorscale": [
             [
              0,
              "#0d0887"
             ],
             [
              0.1111111111111111,
              "#46039f"
             ],
             [
              0.2222222222222222,
              "#7201a8"
             ],
             [
              0.3333333333333333,
              "#9c179e"
             ],
             [
              0.4444444444444444,
              "#bd3786"
             ],
             [
              0.5555555555555556,
              "#d8576b"
             ],
             [
              0.6666666666666666,
              "#ed7953"
             ],
             [
              0.7777777777777778,
              "#fb9f3a"
             ],
             [
              0.8888888888888888,
              "#fdca26"
             ],
             [
              1,
              "#f0f921"
             ]
            ],
            "type": "heatmapgl"
           }
          ],
          "histogram": [
           {
            "marker": {
             "pattern": {
              "fillmode": "overlay",
              "size": 10,
              "solidity": 0.2
             }
            },
            "type": "histogram"
           }
          ],
          "histogram2d": [
           {
            "colorbar": {
             "outlinewidth": 0,
             "ticks": ""
            },
            "colorscale": [
             [
              0,
              "#0d0887"
             ],
             [
              0.1111111111111111,
              "#46039f"
             ],
             [
              0.2222222222222222,
              "#7201a8"
             ],
             [
              0.3333333333333333,
              "#9c179e"
             ],
             [
              0.4444444444444444,
              "#bd3786"
             ],
             [
              0.5555555555555556,
              "#d8576b"
             ],
             [
              0.6666666666666666,
              "#ed7953"
             ],
             [
              0.7777777777777778,
              "#fb9f3a"
             ],
             [
              0.8888888888888888,
              "#fdca26"
             ],
             [
              1,
              "#f0f921"
             ]
            ],
            "type": "histogram2d"
           }
          ],
          "histogram2dcontour": [
           {
            "colorbar": {
             "outlinewidth": 0,
             "ticks": ""
            },
            "colorscale": [
             [
              0,
              "#0d0887"
             ],
             [
              0.1111111111111111,
              "#46039f"
             ],
             [
              0.2222222222222222,
              "#7201a8"
             ],
             [
              0.3333333333333333,
              "#9c179e"
             ],
             [
              0.4444444444444444,
              "#bd3786"
             ],
             [
              0.5555555555555556,
              "#d8576b"
             ],
             [
              0.6666666666666666,
              "#ed7953"
             ],
             [
              0.7777777777777778,
              "#fb9f3a"
             ],
             [
              0.8888888888888888,
              "#fdca26"
             ],
             [
              1,
              "#f0f921"
             ]
            ],
            "type": "histogram2dcontour"
           }
          ],
          "mesh3d": [
           {
            "colorbar": {
             "outlinewidth": 0,
             "ticks": ""
            },
            "type": "mesh3d"
           }
          ],
          "parcoords": [
           {
            "line": {
             "colorbar": {
              "outlinewidth": 0,
              "ticks": ""
             }
            },
            "type": "parcoords"
           }
          ],
          "pie": [
           {
            "automargin": true,
            "type": "pie"
           }
          ],
          "scatter": [
           {
            "fillpattern": {
             "fillmode": "overlay",
             "size": 10,
             "solidity": 0.2
            },
            "type": "scatter"
           }
          ],
          "scatter3d": [
           {
            "line": {
             "colorbar": {
              "outlinewidth": 0,
              "ticks": ""
             }
            },
            "marker": {
             "colorbar": {
              "outlinewidth": 0,
              "ticks": ""
             }
            },
            "type": "scatter3d"
           }
          ],
          "scattercarpet": [
           {
            "marker": {
             "colorbar": {
              "outlinewidth": 0,
              "ticks": ""
             }
            },
            "type": "scattercarpet"
           }
          ],
          "scattergeo": [
           {
            "marker": {
             "colorbar": {
              "outlinewidth": 0,
              "ticks": ""
             }
            },
            "type": "scattergeo"
           }
          ],
          "scattergl": [
           {
            "marker": {
             "colorbar": {
              "outlinewidth": 0,
              "ticks": ""
             }
            },
            "type": "scattergl"
           }
          ],
          "scattermapbox": [
           {
            "marker": {
             "colorbar": {
              "outlinewidth": 0,
              "ticks": ""
             }
            },
            "type": "scattermapbox"
           }
          ],
          "scatterpolar": [
           {
            "marker": {
             "colorbar": {
              "outlinewidth": 0,
              "ticks": ""
             }
            },
            "type": "scatterpolar"
           }
          ],
          "scatterpolargl": [
           {
            "marker": {
             "colorbar": {
              "outlinewidth": 0,
              "ticks": ""
             }
            },
            "type": "scatterpolargl"
           }
          ],
          "scatterternary": [
           {
            "marker": {
             "colorbar": {
              "outlinewidth": 0,
              "ticks": ""
             }
            },
            "type": "scatterternary"
           }
          ],
          "surface": [
           {
            "colorbar": {
             "outlinewidth": 0,
             "ticks": ""
            },
            "colorscale": [
             [
              0,
              "#0d0887"
             ],
             [
              0.1111111111111111,
              "#46039f"
             ],
             [
              0.2222222222222222,
              "#7201a8"
             ],
             [
              0.3333333333333333,
              "#9c179e"
             ],
             [
              0.4444444444444444,
              "#bd3786"
             ],
             [
              0.5555555555555556,
              "#d8576b"
             ],
             [
              0.6666666666666666,
              "#ed7953"
             ],
             [
              0.7777777777777778,
              "#fb9f3a"
             ],
             [
              0.8888888888888888,
              "#fdca26"
             ],
             [
              1,
              "#f0f921"
             ]
            ],
            "type": "surface"
           }
          ],
          "table": [
           {
            "cells": {
             "fill": {
              "color": "#EBF0F8"
             },
             "line": {
              "color": "white"
             }
            },
            "header": {
             "fill": {
              "color": "#C8D4E3"
             },
             "line": {
              "color": "white"
             }
            },
            "type": "table"
           }
          ]
         },
         "layout": {
          "annotationdefaults": {
           "arrowcolor": "#2a3f5f",
           "arrowhead": 0,
           "arrowwidth": 1
          },
          "autotypenumbers": "strict",
          "coloraxis": {
           "colorbar": {
            "outlinewidth": 0,
            "ticks": ""
           }
          },
          "colorscale": {
           "diverging": [
            [
             0,
             "#8e0152"
            ],
            [
             0.1,
             "#c51b7d"
            ],
            [
             0.2,
             "#de77ae"
            ],
            [
             0.3,
             "#f1b6da"
            ],
            [
             0.4,
             "#fde0ef"
            ],
            [
             0.5,
             "#f7f7f7"
            ],
            [
             0.6,
             "#e6f5d0"
            ],
            [
             0.7,
             "#b8e186"
            ],
            [
             0.8,
             "#7fbc41"
            ],
            [
             0.9,
             "#4d9221"
            ],
            [
             1,
             "#276419"
            ]
           ],
           "sequential": [
            [
             0,
             "#0d0887"
            ],
            [
             0.1111111111111111,
             "#46039f"
            ],
            [
             0.2222222222222222,
             "#7201a8"
            ],
            [
             0.3333333333333333,
             "#9c179e"
            ],
            [
             0.4444444444444444,
             "#bd3786"
            ],
            [
             0.5555555555555556,
             "#d8576b"
            ],
            [
             0.6666666666666666,
             "#ed7953"
            ],
            [
             0.7777777777777778,
             "#fb9f3a"
            ],
            [
             0.8888888888888888,
             "#fdca26"
            ],
            [
             1,
             "#f0f921"
            ]
           ],
           "sequentialminus": [
            [
             0,
             "#0d0887"
            ],
            [
             0.1111111111111111,
             "#46039f"
            ],
            [
             0.2222222222222222,
             "#7201a8"
            ],
            [
             0.3333333333333333,
             "#9c179e"
            ],
            [
             0.4444444444444444,
             "#bd3786"
            ],
            [
             0.5555555555555556,
             "#d8576b"
            ],
            [
             0.6666666666666666,
             "#ed7953"
            ],
            [
             0.7777777777777778,
             "#fb9f3a"
            ],
            [
             0.8888888888888888,
             "#fdca26"
            ],
            [
             1,
             "#f0f921"
            ]
           ]
          },
          "colorway": [
           "#636efa",
           "#EF553B",
           "#00cc96",
           "#ab63fa",
           "#FFA15A",
           "#19d3f3",
           "#FF6692",
           "#B6E880",
           "#FF97FF",
           "#FECB52"
          ],
          "font": {
           "color": "#2a3f5f"
          },
          "geo": {
           "bgcolor": "white",
           "lakecolor": "white",
           "landcolor": "#E5ECF6",
           "showlakes": true,
           "showland": true,
           "subunitcolor": "white"
          },
          "hoverlabel": {
           "align": "left"
          },
          "hovermode": "closest",
          "mapbox": {
           "style": "light"
          },
          "paper_bgcolor": "white",
          "plot_bgcolor": "#E5ECF6",
          "polar": {
           "angularaxis": {
            "gridcolor": "white",
            "linecolor": "white",
            "ticks": ""
           },
           "bgcolor": "#E5ECF6",
           "radialaxis": {
            "gridcolor": "white",
            "linecolor": "white",
            "ticks": ""
           }
          },
          "scene": {
           "xaxis": {
            "backgroundcolor": "#E5ECF6",
            "gridcolor": "white",
            "gridwidth": 2,
            "linecolor": "white",
            "showbackground": true,
            "ticks": "",
            "zerolinecolor": "white"
           },
           "yaxis": {
            "backgroundcolor": "#E5ECF6",
            "gridcolor": "white",
            "gridwidth": 2,
            "linecolor": "white",
            "showbackground": true,
            "ticks": "",
            "zerolinecolor": "white"
           },
           "zaxis": {
            "backgroundcolor": "#E5ECF6",
            "gridcolor": "white",
            "gridwidth": 2,
            "linecolor": "white",
            "showbackground": true,
            "ticks": "",
            "zerolinecolor": "white"
           }
          },
          "shapedefaults": {
           "line": {
            "color": "#2a3f5f"
           }
          },
          "ternary": {
           "aaxis": {
            "gridcolor": "white",
            "linecolor": "white",
            "ticks": ""
           },
           "baxis": {
            "gridcolor": "white",
            "linecolor": "white",
            "ticks": ""
           },
           "bgcolor": "#E5ECF6",
           "caxis": {
            "gridcolor": "white",
            "linecolor": "white",
            "ticks": ""
           }
          },
          "title": {
           "x": 0.05
          },
          "xaxis": {
           "automargin": true,
           "gridcolor": "white",
           "linecolor": "white",
           "ticks": "",
           "title": {
            "standoff": 15
           },
           "zerolinecolor": "white",
           "zerolinewidth": 2
          },
          "yaxis": {
           "automargin": true,
           "gridcolor": "white",
           "linecolor": "white",
           "ticks": "",
           "title": {
            "standoff": 15
           },
           "zerolinecolor": "white",
           "zerolinewidth": 2
          }
         }
        },
        "title": {
         "text": "Distribution of points difference in matches where athletes won by points - Females"
        },
        "xaxis": {
         "anchor": "y",
         "domain": [
          0,
          1
         ],
         "dtick": 1,
         "tick0": 0,
         "tickmode": "linear",
         "tickson": "boundaries",
         "title": {
          "text": "Difference in points"
         }
        },
        "yaxis": {
         "anchor": "x",
         "domain": [
          0,
          1
         ],
         "title": {
          "text": "count"
         }
        }
       }
      }
     },
     "metadata": {},
     "output_type": "display_data"
    }
   ],
   "source": [
    "dfmpoints=dfm[dfm['win_type']=='POINTS']\n",
    "dffpoints=dff[dff['win_type']=='POINTS']\n",
    "\n",
    "dfmpoints['points_diff']=(dfmpoints['winner_points']-dfmpoints['loser_points'])\n",
    "dffpoints['points_diff']=(dffpoints['winner_points']-dffpoints['loser_points'])\n",
    "\n",
    "fig1=px.histogram(\n",
    "    dfmpoints, x='points_diff', title = 'Distribution of points difference in matches where athletes won by points - Males',\n",
    "    labels=dict(points_diff='Difference in points')\n",
    ")\n",
    "\n",
    "fig2=px.histogram(\n",
    "    dffpoints, x='points_diff', title = 'Distribution of points difference in matches where athletes won by points - Females',\n",
    "    labels=dict(points_diff='Difference in points')\n",
    ")\n",
    "\n",
    "fig2.update_traces(\n",
    "    xbins=dict(size=1),\n",
    ")\n",
    "fig1.update_layout(xaxis=dict(tickmode = 'linear', tick0 = 0, dtick=1))\n",
    "fig2.update_layout(xaxis=dict(tickmode = 'linear', tick0 = 0, dtick=1))\n",
    "fig2.update_xaxes(tickson='boundaries')\n",
    "\n",
    "fig1.show()\n",
    "fig2.show()"
   ]
  },
  {
   "cell_type": "markdown",
   "metadata": {},
   "source": [
    "*A points difference of 0 in the above histograms indicate that the winner of the match won by an advantage point or penalty point, which is given by the referree to reward aggressive athletes who do not reach a point-scoring position and to penalise passive athletes.*\n",
    "\n",
    "An examination of the distribution of the difference between the points between the winner and the loser seems to indicate that the majority of matches are won by either advantages/penalties or a small point lead of 2 to 3 points. This lends credence to the theory that the rational thing to do to eke out a point victory is simply to get a minor point lead and stall out the match."
   ]
  },
  {
   "cell_type": "code",
   "execution_count": 16,
   "metadata": {},
   "outputs": [
    {
     "data": {
      "application/vnd.plotly.v1+json": {
       "config": {
        "plotlyServerURL": "https://plot.ly"
       },
       "data": [
        {
         "branchvalues": "total",
         "customdata": [
          [
           "Upper body"
          ],
          [
           "Neck"
          ],
          [
           "Neck"
          ],
          [
           "Neck"
          ],
          [
           "Lower body"
          ],
          [
           "Lower body"
          ],
          [
           "Lower body"
          ],
          [
           "Lower body"
          ],
          [
           "Lower body"
          ],
          [
           "Lower body"
          ],
          [
           "Lower body"
          ],
          [
           "Neck"
          ],
          [
           "Neck"
          ],
          [
           "Lower body"
          ],
          [
           "Neck"
          ],
          [
           "Neck"
          ],
          [
           "Lower body"
          ],
          [
           "Lower body"
          ],
          [
           "Upper body"
          ],
          [
           "Upper body"
          ],
          [
           "Upper body"
          ],
          [
           "Upper body"
          ],
          [
           "Upper body"
          ],
          [
           "Neck"
          ],
          [
           "Neck"
          ],
          [
           "Neck"
          ],
          [
           "Upper body"
          ],
          [
           "Neck"
          ],
          [
           "Neck"
          ],
          [
           "Lower body"
          ],
          [
           "Lower body"
          ],
          [
           "Lower body"
          ],
          [
           "Lower body"
          ],
          [
           "Neck"
          ],
          [
           "Neck"
          ],
          [
           "Neck"
          ],
          [
           "Upper body"
          ],
          [
           "Lower body"
          ],
          [
           "Neck"
          ],
          [
           "Neck"
          ],
          [
           "Neck"
          ],
          [
           "(?)"
          ],
          [
           "Upper body"
          ],
          [
           "Upper body"
          ],
          [
           "Upper body"
          ],
          [
           "Upper body"
          ],
          [
           "Upper body"
          ],
          [
           "Upper body"
          ],
          [
           "Neck"
          ],
          [
           "Neck"
          ],
          [
           "Neck"
          ],
          [
           "Neck"
          ],
          [
           "Neck"
          ],
          [
           "Neck"
          ],
          [
           "Lower body"
          ],
          [
           "Lower body"
          ],
          [
           "Lower body"
          ],
          [
           "Lower body"
          ],
          [
           "Lower body"
          ],
          [
           "Lower body"
          ],
          [
           "Lower body"
          ],
          [
           "Upper body"
          ],
          [
           "Neck"
          ],
          [
           "Neck"
          ],
          [
           "Upper body"
          ],
          [
           "Neck"
          ],
          [
           "Neck"
          ],
          [
           "Neck"
          ],
          [
           "Neck"
          ],
          [
           "Neck"
          ],
          [
           "Lower body"
          ],
          [
           "Lower body"
          ],
          [
           "Lower body"
          ],
          [
           "Lower body"
          ],
          [
           "Lower body"
          ],
          [
           "Neck"
          ],
          [
           "Lower body"
          ],
          [
           "Lower body"
          ],
          [
           "Lower body"
          ],
          [
           "Neck"
          ],
          [
           "Upper body"
          ],
          [
           "Upper body"
          ],
          [
           "Neck"
          ],
          [
           "Neck"
          ],
          [
           "Neck"
          ],
          [
           "(?)"
          ],
          [
           "(?)"
          ],
          [
           "(?)"
          ],
          [
           "Neck"
          ],
          [
           "Lower body"
          ],
          [
           "(?)"
          ],
          [
           "Upper body"
          ],
          [
           "Upper body"
          ],
          [
           "Upper body"
          ],
          [
           "Upper body"
          ],
          [
           "Upper body"
          ],
          [
           "Neck"
          ],
          [
           "Neck"
          ],
          [
           "Neck"
          ],
          [
           "Neck"
          ],
          [
           "Lower body"
          ],
          [
           "Lower body"
          ],
          [
           "Lower body"
          ],
          [
           "Lower body"
          ],
          [
           "Lower body"
          ],
          [
           "Neck"
          ],
          [
           "(?)"
          ]
         ],
         "domain": {
          "x": [
           0,
           0.45
          ],
          "y": [
           0,
           1
          ]
         },
         "hovertemplate": "labels=%{label}<br>Number of occurences=%{value}<br>parent=%{parent}<br>id=%{id}<br>target=%{customdata[0]}<extra></extra>",
         "ids": [
          "ABS/Upper body/Americana",
          "ABS/Neck/North south choke",
          "77KG/Neck/North south choke",
          "66KG/Neck/North south choke",
          "99KG/Lower body/Leg lock",
          "66KG/Lower body/Leg lock",
          "99KG/Lower body/Kneebar",
          "88KG/Lower body/Kneebar",
          "77KG/Lower body/Kneebar",
          "66KG/Lower body/Kneebar",
          "+99KG/Lower body/Kneebar",
          "88KG/Neck/D'arce choke",
          "66KG/Neck/D'arce choke",
          "ABS/Lower body/Kneebar",
          "99KG/Neck/Choke",
          "66KG/Neck/Choke",
          "66KG/Lower body/Calf slicer",
          "+99KG/Lower body/Calf slicer",
          "99KG/Upper body/Armbar",
          "88KG/Upper body/Armbar",
          "77KG/Upper body/Armbar",
          "ABS/Upper body/Armbar",
          "+99KG/Upper body/Armbar",
          "66KG/Neck/Anaconda",
          "ABS/Neck/Choke",
          "88KG/Neck/Choke",
          "66KG/Upper body/Armbar",
          "66KG/Neck/Triangle",
          "+99KG/Neck/Triangle",
          "ABS/Lower body/Toe hold",
          "88KG/Lower body/Toe hold",
          "77KG/Lower body/Toe hold",
          "+99KG/Lower body/Toe hold",
          "ABS/Neck/RNC",
          "77KG/Neck/Triangle",
          "88KG/Neck/Short choke",
          "ABS/Upper body/Shoulder lock",
          "66KG/Lower body/Toe hold",
          "88KG/Neck/Triangle",
          "99KG/Neck/Triangle",
          "+99KG/Neck/Twister",
          "+99KG",
          "ABS/Upper body",
          "99KG/Upper body",
          "88KG/Upper body",
          "77KG/Upper body",
          "66KG/Upper body",
          "+99KG/Upper body",
          "ABS/Neck",
          "99KG/Neck",
          "88KG/Neck",
          "77KG/Neck",
          "66KG/Neck",
          "+99KG/Neck",
          "ABS/Lower body",
          "99KG/Lower body",
          "88KG/Lower body",
          "77KG/Lower body",
          "66KG/Lower body",
          "+99KG/Lower body",
          "66KG/Lower body/Z Lock",
          "77KG/Upper body/Wristlock",
          "99KG/Neck/RNC",
          "88KG/Neck/RNC",
          "88KG/Upper body/Omoplata",
          "66KG/Neck/RNC",
          "77KG/Neck/RNC",
          "77KG/Neck/Guillotine",
          "66KG/Neck/Guillotine",
          "+99KG/Neck/Guillotine",
          "ABS/Lower body/Footlock",
          "99KG/Lower body/Footlock",
          "88KG/Lower body/Footlock",
          "77KG/Lower body/Footlock",
          "66KG/Lower body/Footlock",
          "88KG/Neck/Guillotine",
          "+99KG/Lower body/Footlock",
          "88KG/Lower body/Estima lock",
          "ABS/Lower body/Dogbar",
          "ABS/Neck/D'arce choke",
          "77KG/Upper body/Omoplata",
          "99KG/Upper body/Omoplata",
          "+99KG/Neck/RNC",
          "77KG/Neck/Ezekiel",
          "99KG/Neck/Guillotine",
          "66KG",
          "77KG",
          "88KG",
          "+99KG/Neck/Headlock",
          "+99KG/Lower body/Heel hook",
          "99KG",
          "ABS/Upper body/Kimura",
          "99KG/Upper body/Kimura",
          "88KG/Upper body/Kimura",
          "66KG/Upper body/Kimura",
          "+99KG/Upper body/Kimura",
          "ABS/Neck/Katagatame",
          "99KG/Neck/Katagatame",
          "77KG/Neck/Katagatame",
          "66KG/Neck/Katagatame",
          "ABS/Lower body/Heel hook",
          "99KG/Lower body/Heel hook",
          "88KG/Lower body/Heel hook",
          "77KG/Lower body/Heel hook",
          "66KG/Lower body/Heel hook",
          "ABS/Neck/Guillotine",
          "ABS"
         ],
         "labels": [
          "Americana",
          "North south choke",
          "North south choke",
          "North south choke",
          "Leg lock",
          "Leg lock",
          "Kneebar",
          "Kneebar",
          "Kneebar",
          "Kneebar",
          "Kneebar",
          "D'arce choke",
          "D'arce choke",
          "Kneebar",
          "Choke",
          "Choke",
          "Calf slicer",
          "Calf slicer",
          "Armbar",
          "Armbar",
          "Armbar",
          "Armbar",
          "Armbar",
          "Anaconda",
          "Choke",
          "Choke",
          "Armbar",
          "Triangle",
          "Triangle",
          "Toe hold",
          "Toe hold",
          "Toe hold",
          "Toe hold",
          "RNC",
          "Triangle",
          "Short choke",
          "Shoulder lock",
          "Toe hold",
          "Triangle",
          "Triangle",
          "Twister",
          "+99KG",
          "Upper body",
          "Upper body",
          "Upper body",
          "Upper body",
          "Upper body",
          "Upper body",
          "Neck",
          "Neck",
          "Neck",
          "Neck",
          "Neck",
          "Neck",
          "Lower body",
          "Lower body",
          "Lower body",
          "Lower body",
          "Lower body",
          "Lower body",
          "Z Lock",
          "Wristlock",
          "RNC",
          "RNC",
          "Omoplata",
          "RNC",
          "RNC",
          "Guillotine",
          "Guillotine",
          "Guillotine",
          "Footlock",
          "Footlock",
          "Footlock",
          "Footlock",
          "Footlock",
          "Guillotine",
          "Footlock",
          "Estima lock",
          "Dogbar",
          "D'arce choke",
          "Omoplata",
          "Omoplata",
          "RNC",
          "Ezekiel",
          "Guillotine",
          "66KG",
          "77KG",
          "88KG",
          "Headlock",
          "Heel hook",
          "99KG",
          "Kimura",
          "Kimura",
          "Kimura",
          "Kimura",
          "Kimura",
          "Katagatame",
          "Katagatame",
          "Katagatame",
          "Katagatame",
          "Heel hook",
          "Heel hook",
          "Heel hook",
          "Heel hook",
          "Heel hook",
          "Guillotine",
          "ABS"
         ],
         "marker": {
          "colors": [
           "#636efa",
           "#EF553B",
           "#EF553B",
           "#EF553B",
           "#00cc96",
           "#00cc96",
           "#00cc96",
           "#00cc96",
           "#00cc96",
           "#00cc96",
           "#00cc96",
           "#EF553B",
           "#EF553B",
           "#00cc96",
           "#EF553B",
           "#EF553B",
           "#00cc96",
           "#00cc96",
           "#636efa",
           "#636efa",
           "#636efa",
           "#636efa",
           "#636efa",
           "#EF553B",
           "#EF553B",
           "#EF553B",
           "#636efa",
           "#EF553B",
           "#EF553B",
           "#00cc96",
           "#00cc96",
           "#00cc96",
           "#00cc96",
           "#EF553B",
           "#EF553B",
           "#EF553B",
           "#636efa",
           "#00cc96",
           "#EF553B",
           "#EF553B",
           "#EF553B",
           "#ab63fa",
           "#636efa",
           "#636efa",
           "#636efa",
           "#636efa",
           "#636efa",
           "#636efa",
           "#EF553B",
           "#EF553B",
           "#EF553B",
           "#EF553B",
           "#EF553B",
           "#EF553B",
           "#00cc96",
           "#00cc96",
           "#00cc96",
           "#00cc96",
           "#00cc96",
           "#00cc96",
           "#00cc96",
           "#636efa",
           "#EF553B",
           "#EF553B",
           "#636efa",
           "#EF553B",
           "#EF553B",
           "#EF553B",
           "#EF553B",
           "#EF553B",
           "#00cc96",
           "#00cc96",
           "#00cc96",
           "#00cc96",
           "#00cc96",
           "#EF553B",
           "#00cc96",
           "#00cc96",
           "#00cc96",
           "#EF553B",
           "#636efa",
           "#636efa",
           "#EF553B",
           "#EF553B",
           "#EF553B",
           "#ab63fa",
           "#ab63fa",
           "#ab63fa",
           "#EF553B",
           "#00cc96",
           "#ab63fa",
           "#636efa",
           "#636efa",
           "#636efa",
           "#636efa",
           "#636efa",
           "#EF553B",
           "#EF553B",
           "#EF553B",
           "#EF553B",
           "#00cc96",
           "#00cc96",
           "#00cc96",
           "#00cc96",
           "#00cc96",
           "#EF553B",
           "#ab63fa"
          ]
         },
         "name": "",
         "parents": [
          "ABS/Upper body",
          "ABS/Neck",
          "77KG/Neck",
          "66KG/Neck",
          "99KG/Lower body",
          "66KG/Lower body",
          "99KG/Lower body",
          "88KG/Lower body",
          "77KG/Lower body",
          "66KG/Lower body",
          "+99KG/Lower body",
          "88KG/Neck",
          "66KG/Neck",
          "ABS/Lower body",
          "99KG/Neck",
          "66KG/Neck",
          "66KG/Lower body",
          "+99KG/Lower body",
          "99KG/Upper body",
          "88KG/Upper body",
          "77KG/Upper body",
          "ABS/Upper body",
          "+99KG/Upper body",
          "66KG/Neck",
          "ABS/Neck",
          "88KG/Neck",
          "66KG/Upper body",
          "66KG/Neck",
          "+99KG/Neck",
          "ABS/Lower body",
          "88KG/Lower body",
          "77KG/Lower body",
          "+99KG/Lower body",
          "ABS/Neck",
          "77KG/Neck",
          "88KG/Neck",
          "ABS/Upper body",
          "66KG/Lower body",
          "88KG/Neck",
          "99KG/Neck",
          "+99KG/Neck",
          "",
          "ABS",
          "99KG",
          "88KG",
          "77KG",
          "66KG",
          "+99KG",
          "ABS",
          "99KG",
          "88KG",
          "77KG",
          "66KG",
          "+99KG",
          "ABS",
          "99KG",
          "88KG",
          "77KG",
          "66KG",
          "+99KG",
          "66KG/Lower body",
          "77KG/Upper body",
          "99KG/Neck",
          "88KG/Neck",
          "88KG/Upper body",
          "66KG/Neck",
          "77KG/Neck",
          "77KG/Neck",
          "66KG/Neck",
          "+99KG/Neck",
          "ABS/Lower body",
          "99KG/Lower body",
          "88KG/Lower body",
          "77KG/Lower body",
          "66KG/Lower body",
          "88KG/Neck",
          "+99KG/Lower body",
          "88KG/Lower body",
          "ABS/Lower body",
          "ABS/Neck",
          "77KG/Upper body",
          "99KG/Upper body",
          "+99KG/Neck",
          "77KG/Neck",
          "99KG/Neck",
          "",
          "",
          "",
          "+99KG/Neck",
          "+99KG/Lower body",
          "",
          "ABS/Upper body",
          "99KG/Upper body",
          "88KG/Upper body",
          "66KG/Upper body",
          "+99KG/Upper body",
          "ABS/Neck",
          "99KG/Neck",
          "77KG/Neck",
          "66KG/Neck",
          "ABS/Lower body",
          "99KG/Lower body",
          "88KG/Lower body",
          "77KG/Lower body",
          "66KG/Lower body",
          "ABS/Neck",
          ""
         ],
         "textinfo": "label+percent parent",
         "type": "sunburst",
         "values": [
          1,
          1,
          1,
          1,
          1,
          1,
          2,
          1,
          1,
          2,
          6,
          2,
          2,
          5,
          4,
          3,
          1,
          1,
          9,
          9,
          12,
          12,
          15,
          1,
          1,
          3,
          9,
          10,
          2,
          1,
          1,
          2,
          2,
          16,
          1,
          2,
          1,
          1,
          7,
          4,
          1,
          48,
          17,
          12,
          13,
          14,
          11,
          17,
          26,
          26,
          31,
          45,
          43,
          15,
          33,
          15,
          15,
          11,
          11,
          16,
          1,
          1,
          12,
          12,
          1,
          18,
          29,
          12,
          7,
          1,
          6,
          3,
          4,
          2,
          2,
          5,
          1,
          1,
          1,
          1,
          1,
          1,
          9,
          1,
          4,
          65,
          70,
          59,
          2,
          6,
          53,
          3,
          2,
          3,
          2,
          2,
          3,
          2,
          1,
          1,
          20,
          9,
          8,
          6,
          3,
          4,
          76
         ]
        },
        {
         "branchvalues": "total",
         "customdata": [
          [
           "Upper body"
          ],
          [
           "Neck"
          ],
          [
           "Neck"
          ],
          [
           "Upper body"
          ],
          [
           "Upper body"
          ],
          [
           "Neck"
          ],
          [
           "Lower body"
          ],
          [
           "Lower body"
          ],
          [
           "Lower body"
          ],
          [
           "Lower body"
          ],
          [
           "Neck"
          ],
          [
           "Neck"
          ],
          [
           "Neck"
          ],
          [
           "Upper body"
          ],
          [
           "Neck"
          ],
          [
           "Neck"
          ],
          [
           "Upper body"
          ],
          [
           "Upper body"
          ],
          [
           "(?)"
          ],
          [
           "(?)"
          ]
         ],
         "domain": {
          "x": [
           0.55,
           1
          ],
          "y": [
           0,
           1
          ]
         },
         "hovertemplate": "labels=%{label}<br>Number of occurences=%{value}<br>parent=%{parent}<br>id=%{id}<br>target=%{customdata[0]}<extra></extra>",
         "ids": [
          "+60KG/Upper body/Americana",
          "+60KG/Neck/Short choke",
          "60KG/Neck/Short choke",
          "+60KG/Upper body/Armbar",
          "60KG/Upper body/Armbar",
          "60KG/Neck/Cross face",
          "+60KG/Lower body/Toe hold",
          "60KG/Lower body/Toe hold",
          "+60KG/Lower body",
          "60KG/Lower body",
          "+60KG/Neck",
          "+60KG/Neck/D'arce choke",
          "+60KG/Neck/Guillotine",
          "+60KG/Upper body/Kimura",
          "60KG/Neck/RNC",
          "60KG/Neck",
          "+60KG/Upper body",
          "60KG/Upper body",
          "+60KG",
          "60KG"
         ],
         "labels": [
          "Americana",
          "Short choke",
          "Short choke",
          "Armbar",
          "Armbar",
          "Cross face",
          "Toe hold",
          "Toe hold",
          "Lower body",
          "Lower body",
          "Neck",
          "D'arce choke",
          "Guillotine",
          "Kimura",
          "RNC",
          "Neck",
          "Upper body",
          "Upper body",
          "+60KG",
          "60KG"
         ],
         "marker": {
          "colors": [
           "#636efa",
           "#EF553B",
           "#EF553B",
           "#636efa",
           "#636efa",
           "#EF553B",
           "#00cc96",
           "#00cc96",
           "#00cc96",
           "#00cc96",
           "#EF553B",
           "#EF553B",
           "#EF553B",
           "#636efa",
           "#EF553B",
           "#EF553B",
           "#636efa",
           "#636efa",
           "#ab63fa",
           "#ab63fa"
          ]
         },
         "name": "",
         "parents": [
          "+60KG/Upper body",
          "+60KG/Neck",
          "60KG/Neck",
          "+60KG/Upper body",
          "60KG/Upper body",
          "60KG/Neck",
          "+60KG/Lower body",
          "60KG/Lower body",
          "+60KG",
          "60KG",
          "+60KG",
          "+60KG/Neck",
          "+60KG/Neck",
          "+60KG/Upper body",
          "60KG/Neck",
          "60KG",
          "+60KG",
          "60KG",
          "",
          ""
         ],
         "textinfo": "label+percent parent",
         "type": "sunburst",
         "values": [
          2,
          1,
          1,
          1,
          1,
          1,
          1,
          2,
          1,
          2,
          3,
          1,
          1,
          1,
          3,
          5,
          4,
          1,
          8,
          8
         ]
        }
       ],
       "layout": {
        "annotations": [
         {
          "font": {
           "size": 16
          },
          "showarrow": false,
          "text": "Male",
          "x": 0.225,
          "xanchor": "center",
          "xref": "paper",
          "y": 1,
          "yanchor": "bottom",
          "yref": "paper"
         },
         {
          "font": {
           "size": 16
          },
          "showarrow": false,
          "text": "Female",
          "x": 0.775,
          "xanchor": "center",
          "xref": "paper",
          "y": 1,
          "yanchor": "bottom",
          "yref": "paper"
         }
        ],
        "height": 600,
        "template": {
         "data": {
          "bar": [
           {
            "error_x": {
             "color": "#2a3f5f"
            },
            "error_y": {
             "color": "#2a3f5f"
            },
            "marker": {
             "line": {
              "color": "#E5ECF6",
              "width": 0.5
             },
             "pattern": {
              "fillmode": "overlay",
              "size": 10,
              "solidity": 0.2
             }
            },
            "type": "bar"
           }
          ],
          "barpolar": [
           {
            "marker": {
             "line": {
              "color": "#E5ECF6",
              "width": 0.5
             },
             "pattern": {
              "fillmode": "overlay",
              "size": 10,
              "solidity": 0.2
             }
            },
            "type": "barpolar"
           }
          ],
          "carpet": [
           {
            "aaxis": {
             "endlinecolor": "#2a3f5f",
             "gridcolor": "white",
             "linecolor": "white",
             "minorgridcolor": "white",
             "startlinecolor": "#2a3f5f"
            },
            "baxis": {
             "endlinecolor": "#2a3f5f",
             "gridcolor": "white",
             "linecolor": "white",
             "minorgridcolor": "white",
             "startlinecolor": "#2a3f5f"
            },
            "type": "carpet"
           }
          ],
          "choropleth": [
           {
            "colorbar": {
             "outlinewidth": 0,
             "ticks": ""
            },
            "type": "choropleth"
           }
          ],
          "contour": [
           {
            "colorbar": {
             "outlinewidth": 0,
             "ticks": ""
            },
            "colorscale": [
             [
              0,
              "#0d0887"
             ],
             [
              0.1111111111111111,
              "#46039f"
             ],
             [
              0.2222222222222222,
              "#7201a8"
             ],
             [
              0.3333333333333333,
              "#9c179e"
             ],
             [
              0.4444444444444444,
              "#bd3786"
             ],
             [
              0.5555555555555556,
              "#d8576b"
             ],
             [
              0.6666666666666666,
              "#ed7953"
             ],
             [
              0.7777777777777778,
              "#fb9f3a"
             ],
             [
              0.8888888888888888,
              "#fdca26"
             ],
             [
              1,
              "#f0f921"
             ]
            ],
            "type": "contour"
           }
          ],
          "contourcarpet": [
           {
            "colorbar": {
             "outlinewidth": 0,
             "ticks": ""
            },
            "type": "contourcarpet"
           }
          ],
          "heatmap": [
           {
            "colorbar": {
             "outlinewidth": 0,
             "ticks": ""
            },
            "colorscale": [
             [
              0,
              "#0d0887"
             ],
             [
              0.1111111111111111,
              "#46039f"
             ],
             [
              0.2222222222222222,
              "#7201a8"
             ],
             [
              0.3333333333333333,
              "#9c179e"
             ],
             [
              0.4444444444444444,
              "#bd3786"
             ],
             [
              0.5555555555555556,
              "#d8576b"
             ],
             [
              0.6666666666666666,
              "#ed7953"
             ],
             [
              0.7777777777777778,
              "#fb9f3a"
             ],
             [
              0.8888888888888888,
              "#fdca26"
             ],
             [
              1,
              "#f0f921"
             ]
            ],
            "type": "heatmap"
           }
          ],
          "heatmapgl": [
           {
            "colorbar": {
             "outlinewidth": 0,
             "ticks": ""
            },
            "colorscale": [
             [
              0,
              "#0d0887"
             ],
             [
              0.1111111111111111,
              "#46039f"
             ],
             [
              0.2222222222222222,
              "#7201a8"
             ],
             [
              0.3333333333333333,
              "#9c179e"
             ],
             [
              0.4444444444444444,
              "#bd3786"
             ],
             [
              0.5555555555555556,
              "#d8576b"
             ],
             [
              0.6666666666666666,
              "#ed7953"
             ],
             [
              0.7777777777777778,
              "#fb9f3a"
             ],
             [
              0.8888888888888888,
              "#fdca26"
             ],
             [
              1,
              "#f0f921"
             ]
            ],
            "type": "heatmapgl"
           }
          ],
          "histogram": [
           {
            "marker": {
             "pattern": {
              "fillmode": "overlay",
              "size": 10,
              "solidity": 0.2
             }
            },
            "type": "histogram"
           }
          ],
          "histogram2d": [
           {
            "colorbar": {
             "outlinewidth": 0,
             "ticks": ""
            },
            "colorscale": [
             [
              0,
              "#0d0887"
             ],
             [
              0.1111111111111111,
              "#46039f"
             ],
             [
              0.2222222222222222,
              "#7201a8"
             ],
             [
              0.3333333333333333,
              "#9c179e"
             ],
             [
              0.4444444444444444,
              "#bd3786"
             ],
             [
              0.5555555555555556,
              "#d8576b"
             ],
             [
              0.6666666666666666,
              "#ed7953"
             ],
             [
              0.7777777777777778,
              "#fb9f3a"
             ],
             [
              0.8888888888888888,
              "#fdca26"
             ],
             [
              1,
              "#f0f921"
             ]
            ],
            "type": "histogram2d"
           }
          ],
          "histogram2dcontour": [
           {
            "colorbar": {
             "outlinewidth": 0,
             "ticks": ""
            },
            "colorscale": [
             [
              0,
              "#0d0887"
             ],
             [
              0.1111111111111111,
              "#46039f"
             ],
             [
              0.2222222222222222,
              "#7201a8"
             ],
             [
              0.3333333333333333,
              "#9c179e"
             ],
             [
              0.4444444444444444,
              "#bd3786"
             ],
             [
              0.5555555555555556,
              "#d8576b"
             ],
             [
              0.6666666666666666,
              "#ed7953"
             ],
             [
              0.7777777777777778,
              "#fb9f3a"
             ],
             [
              0.8888888888888888,
              "#fdca26"
             ],
             [
              1,
              "#f0f921"
             ]
            ],
            "type": "histogram2dcontour"
           }
          ],
          "mesh3d": [
           {
            "colorbar": {
             "outlinewidth": 0,
             "ticks": ""
            },
            "type": "mesh3d"
           }
          ],
          "parcoords": [
           {
            "line": {
             "colorbar": {
              "outlinewidth": 0,
              "ticks": ""
             }
            },
            "type": "parcoords"
           }
          ],
          "pie": [
           {
            "automargin": true,
            "type": "pie"
           }
          ],
          "scatter": [
           {
            "fillpattern": {
             "fillmode": "overlay",
             "size": 10,
             "solidity": 0.2
            },
            "type": "scatter"
           }
          ],
          "scatter3d": [
           {
            "line": {
             "colorbar": {
              "outlinewidth": 0,
              "ticks": ""
             }
            },
            "marker": {
             "colorbar": {
              "outlinewidth": 0,
              "ticks": ""
             }
            },
            "type": "scatter3d"
           }
          ],
          "scattercarpet": [
           {
            "marker": {
             "colorbar": {
              "outlinewidth": 0,
              "ticks": ""
             }
            },
            "type": "scattercarpet"
           }
          ],
          "scattergeo": [
           {
            "marker": {
             "colorbar": {
              "outlinewidth": 0,
              "ticks": ""
             }
            },
            "type": "scattergeo"
           }
          ],
          "scattergl": [
           {
            "marker": {
             "colorbar": {
              "outlinewidth": 0,
              "ticks": ""
             }
            },
            "type": "scattergl"
           }
          ],
          "scattermapbox": [
           {
            "marker": {
             "colorbar": {
              "outlinewidth": 0,
              "ticks": ""
             }
            },
            "type": "scattermapbox"
           }
          ],
          "scatterpolar": [
           {
            "marker": {
             "colorbar": {
              "outlinewidth": 0,
              "ticks": ""
             }
            },
            "type": "scatterpolar"
           }
          ],
          "scatterpolargl": [
           {
            "marker": {
             "colorbar": {
              "outlinewidth": 0,
              "ticks": ""
             }
            },
            "type": "scatterpolargl"
           }
          ],
          "scatterternary": [
           {
            "marker": {
             "colorbar": {
              "outlinewidth": 0,
              "ticks": ""
             }
            },
            "type": "scatterternary"
           }
          ],
          "surface": [
           {
            "colorbar": {
             "outlinewidth": 0,
             "ticks": ""
            },
            "colorscale": [
             [
              0,
              "#0d0887"
             ],
             [
              0.1111111111111111,
              "#46039f"
             ],
             [
              0.2222222222222222,
              "#7201a8"
             ],
             [
              0.3333333333333333,
              "#9c179e"
             ],
             [
              0.4444444444444444,
              "#bd3786"
             ],
             [
              0.5555555555555556,
              "#d8576b"
             ],
             [
              0.6666666666666666,
              "#ed7953"
             ],
             [
              0.7777777777777778,
              "#fb9f3a"
             ],
             [
              0.8888888888888888,
              "#fdca26"
             ],
             [
              1,
              "#f0f921"
             ]
            ],
            "type": "surface"
           }
          ],
          "table": [
           {
            "cells": {
             "fill": {
              "color": "#EBF0F8"
             },
             "line": {
              "color": "white"
             }
            },
            "header": {
             "fill": {
              "color": "#C8D4E3"
             },
             "line": {
              "color": "white"
             }
            },
            "type": "table"
           }
          ]
         },
         "layout": {
          "annotationdefaults": {
           "arrowcolor": "#2a3f5f",
           "arrowhead": 0,
           "arrowwidth": 1
          },
          "autotypenumbers": "strict",
          "coloraxis": {
           "colorbar": {
            "outlinewidth": 0,
            "ticks": ""
           }
          },
          "colorscale": {
           "diverging": [
            [
             0,
             "#8e0152"
            ],
            [
             0.1,
             "#c51b7d"
            ],
            [
             0.2,
             "#de77ae"
            ],
            [
             0.3,
             "#f1b6da"
            ],
            [
             0.4,
             "#fde0ef"
            ],
            [
             0.5,
             "#f7f7f7"
            ],
            [
             0.6,
             "#e6f5d0"
            ],
            [
             0.7,
             "#b8e186"
            ],
            [
             0.8,
             "#7fbc41"
            ],
            [
             0.9,
             "#4d9221"
            ],
            [
             1,
             "#276419"
            ]
           ],
           "sequential": [
            [
             0,
             "#0d0887"
            ],
            [
             0.1111111111111111,
             "#46039f"
            ],
            [
             0.2222222222222222,
             "#7201a8"
            ],
            [
             0.3333333333333333,
             "#9c179e"
            ],
            [
             0.4444444444444444,
             "#bd3786"
            ],
            [
             0.5555555555555556,
             "#d8576b"
            ],
            [
             0.6666666666666666,
             "#ed7953"
            ],
            [
             0.7777777777777778,
             "#fb9f3a"
            ],
            [
             0.8888888888888888,
             "#fdca26"
            ],
            [
             1,
             "#f0f921"
            ]
           ],
           "sequentialminus": [
            [
             0,
             "#0d0887"
            ],
            [
             0.1111111111111111,
             "#46039f"
            ],
            [
             0.2222222222222222,
             "#7201a8"
            ],
            [
             0.3333333333333333,
             "#9c179e"
            ],
            [
             0.4444444444444444,
             "#bd3786"
            ],
            [
             0.5555555555555556,
             "#d8576b"
            ],
            [
             0.6666666666666666,
             "#ed7953"
            ],
            [
             0.7777777777777778,
             "#fb9f3a"
            ],
            [
             0.8888888888888888,
             "#fdca26"
            ],
            [
             1,
             "#f0f921"
            ]
           ]
          },
          "colorway": [
           "#636efa",
           "#EF553B",
           "#00cc96",
           "#ab63fa",
           "#FFA15A",
           "#19d3f3",
           "#FF6692",
           "#B6E880",
           "#FF97FF",
           "#FECB52"
          ],
          "font": {
           "color": "#2a3f5f"
          },
          "geo": {
           "bgcolor": "white",
           "lakecolor": "white",
           "landcolor": "#E5ECF6",
           "showlakes": true,
           "showland": true,
           "subunitcolor": "white"
          },
          "hoverlabel": {
           "align": "left"
          },
          "hovermode": "closest",
          "mapbox": {
           "style": "light"
          },
          "paper_bgcolor": "white",
          "plot_bgcolor": "#E5ECF6",
          "polar": {
           "angularaxis": {
            "gridcolor": "white",
            "linecolor": "white",
            "ticks": ""
           },
           "bgcolor": "#E5ECF6",
           "radialaxis": {
            "gridcolor": "white",
            "linecolor": "white",
            "ticks": ""
           }
          },
          "scene": {
           "xaxis": {
            "backgroundcolor": "#E5ECF6",
            "gridcolor": "white",
            "gridwidth": 2,
            "linecolor": "white",
            "showbackground": true,
            "ticks": "",
            "zerolinecolor": "white"
           },
           "yaxis": {
            "backgroundcolor": "#E5ECF6",
            "gridcolor": "white",
            "gridwidth": 2,
            "linecolor": "white",
            "showbackground": true,
            "ticks": "",
            "zerolinecolor": "white"
           },
           "zaxis": {
            "backgroundcolor": "#E5ECF6",
            "gridcolor": "white",
            "gridwidth": 2,
            "linecolor": "white",
            "showbackground": true,
            "ticks": "",
            "zerolinecolor": "white"
           }
          },
          "shapedefaults": {
           "line": {
            "color": "#2a3f5f"
           }
          },
          "ternary": {
           "aaxis": {
            "gridcolor": "white",
            "linecolor": "white",
            "ticks": ""
           },
           "baxis": {
            "gridcolor": "white",
            "linecolor": "white",
            "ticks": ""
           },
           "bgcolor": "#E5ECF6",
           "caxis": {
            "gridcolor": "white",
            "linecolor": "white",
            "ticks": ""
           }
          },
          "title": {
           "x": 0.05
          },
          "xaxis": {
           "automargin": true,
           "gridcolor": "white",
           "linecolor": "white",
           "ticks": "",
           "title": {
            "standoff": 15
           },
           "zerolinecolor": "white",
           "zerolinewidth": 2
          },
          "yaxis": {
           "automargin": true,
           "gridcolor": "white",
           "linecolor": "white",
           "ticks": "",
           "title": {
            "standoff": 15
           },
           "zerolinecolor": "white",
           "zerolinewidth": 2
          }
         }
        },
        "title": {
         "text": "Breakdown of targets attacked and submission type by weight class"
        },
        "width": 1000
       }
      }
     },
     "metadata": {},
     "output_type": "display_data"
    }
   ],
   "source": [
    "fig = sp.make_subplots(rows=1, cols=2, specs=[\n",
    "    [{\"type\": \"sunburst\"}, {\"type\": \"sunburst\"}]\n",
    "], subplot_titles=['Male','Female'])\n",
    "\n",
    "dfmsub=dfm[dfm['submission'].notnull()]\n",
    "dfmsub['subcounts']=1\n",
    "\n",
    "dffsub=dff[dff['submission'].notnull()]\n",
    "dffsub['subcounts']=1\n",
    "\n",
    "dffsub=dffsub.sort_values(by=[\"weight_class\",\"target\"], axis=0)\n",
    "dfmsub=dfmsub.sort_values(by=[\"weight_class\",\"target\"], axis=0)\n",
    "\n",
    "sb1=px.sunburst(\n",
    "    dfmsub, path=['weight_class','target','submission'], values='subcounts', color='target',\n",
    "    labels={'subcounts': 'Number of occurences'}, title='Male atheletes'\n",
    ")\n",
    "\n",
    "sb2=px.sunburst(\n",
    "    dffsub, path=['weight_class','target','submission'], values='subcounts', color='target',\n",
    "    labels={'subcounts': 'Number of occurences'}, title='Female athletes'\n",
    ")\n",
    "\n",
    "sb1.update_traces(textinfo=\"label+percent parent\")\n",
    "sb2.update_traces(textinfo=\"label+percent parent\")\n",
    "fig.add_trace(sb1.data[0], row=1, col=1)\n",
    "fig.add_trace(sb2.data[0], row=1, col=2)\n",
    "\n",
    "fig.update_layout(title='Breakdown of targets attacked and submission type by weight class',height=600, width=1000)\n"
   ]
  },
  {
   "cell_type": "markdown",
   "metadata": {},
   "source": [
    "The above sunburst charts provides more info regarding the favoured techniques for each weight class and gender.\n",
    "\n",
    "Several observations can be made:\n",
    "\n",
    "1. One of the most popular lower body attacks now is the heel hook, which dominated lower body attacks for male athletes. This is strangely missing in the female matches. A posible explanation comes from a personal anecdote whereby multiple training partners have commented that it is hard to perform heel hooks on female training partners due to increased flexability in their ankles.\n",
    "\n",
    "2. Despite heel hooks being very popular, with multiple world champions producing DVDs to teach their variations of the heel hook, we find that for male athletes, neck attacks occur much more frequently than lower body attacks. The top 3 most common neck attacks are the Rear Naked Choke (RNC), guillotine, and the triangle choke. Male athletes will be well served to learn how to perform, and to defend, against these attacks.\n",
    "\n",
    "3. The only weight category where lower body attacks, and heel hooks in particular, are more popular than chokes is the absolute (ABS) category, where there is no weight limit for athletes. This may be due to the heel hook's reputation as a 'giant slayer', where it is touted as the most viable technique for smaller athletes to overcome larger athletes. More research is required to validate this statement, as it may be possible that the larger athletes in the dataset are winning against smaller athletes via the heel hook."
   ]
  },
  {
   "cell_type": "markdown",
   "metadata": {},
   "source": []
  }
 ],
 "metadata": {
  "kernelspec": {
   "display_name": "base",
   "language": "python",
   "name": "python3"
  },
  "language_info": {
   "codemirror_mode": {
    "name": "ipython",
    "version": 3
   },
   "file_extension": ".py",
   "mimetype": "text/x-python",
   "name": "python",
   "nbconvert_exporter": "python",
   "pygments_lexer": "ipython3",
   "version": "3.11.4"
  },
  "orig_nbformat": 4
 },
 "nbformat": 4,
 "nbformat_minor": 2
}
