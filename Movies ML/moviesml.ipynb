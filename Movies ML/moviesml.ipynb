{
 "cells": [
  {
   "cell_type": "markdown",
   "metadata": {},
   "source": [
    "### Is it possible to predict the popularity of movies?\n",
    "This Data Science/Machine Learning project aims to explore predicting the box office earnings of a movie based on factors such as the director, writer and prodution budget."
   ]
  },
  {
   "cell_type": "code",
   "execution_count": null,
   "metadata": {},
   "outputs": [],
   "source": [
    "import sklearn as sk\n",
    "import streamlit as st\n",
    "import pandas as pandas\n",
    "import numpy as np"
   ]
  }
 ],
 "metadata": {
  "language_info": {
   "name": "python"
  },
  "orig_nbformat": 4
 },
 "nbformat": 4,
 "nbformat_minor": 2
}
